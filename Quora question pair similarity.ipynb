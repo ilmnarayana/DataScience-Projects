{
 "cells": [
  {
   "cell_type": "markdown",
   "metadata": {
    "colab_type": "text",
    "id": "yPBV4N6rFo4R"
   },
   "source": [
    "<h1>Assignment 20</h1>"
   ]
  },
  {
   "cell_type": "markdown",
   "metadata": {
    "colab_type": "text",
    "id": "G5HgPNjkGAT3"
   },
   "source": [
    "### This Assignment contains some code blocks took from original ipython notebooks (`4.ML_models.ipynb` and other notebooks)."
   ]
  },
  {
   "cell_type": "markdown",
   "metadata": {
    "colab_type": "text",
    "id": "B8h5E45NG_sO"
   },
   "source": [
    "**I am using following files that are created from other ipython notebooks to run the models.**\n",
    "- `train.csv`\n",
    "- `nlp_features_train.csv`\n",
    "- `df_fe_without_preprocessing_train.csv`\n",
    "- `train.db`"
   ]
  },
  {
   "cell_type": "code",
   "execution_count": 2,
   "metadata": {
    "colab": {
     "base_uri": "https://localhost:8080/",
     "height": 71
    },
    "colab_type": "code",
    "id": "m4oCr3FsIsLp",
    "outputId": "65cd365f-b5f8-4c74-da74-9f959601ea37"
   },
   "outputs": [
    {
     "name": "stderr",
     "output_type": "stream",
     "text": [
      "/usr/local/lib/python3.6/dist-packages/sklearn/externals/six.py:31: DeprecationWarning: The module is deprecated in version 0.21 and will be removed in version 0.23 since we've dropped support for Python 2.7. Please rely on the official version of six (https://pypi.org/project/six/).\n",
      "  \"(https://pypi.org/project/six/).\", DeprecationWarning)\n"
     ]
    }
   ],
   "source": [
    "# Required Imports\n",
    "import warnings\n",
    "warnings.filterwarnings(\"ignore\")\n",
    "import pandas as pd\n",
    "import matplotlib.pyplot as plt\n",
    "import re\n",
    "import time\n",
    "import sqlite3\n",
    "from sqlalchemy import create_engine # database connection\n",
    "import csv\n",
    "import os\n",
    "import datetime as dt\n",
    "import numpy as np\n",
    "\n",
    "from nltk.corpus import stopwords\n",
    "from sklearn.decomposition import TruncatedSVD\n",
    "from sklearn.preprocessing import normalize\n",
    "from sklearn.feature_extraction.text import CountVectorizer\n",
    "from sklearn.manifold import TSNE\n",
    "import seaborn as sns\n",
    "from sklearn.neighbors import KNeighborsClassifier\n",
    "from sklearn.metrics import confusion_matrix\n",
    "from sklearn.metrics.classification import accuracy_score, log_loss\n",
    "from sklearn.feature_extraction.text import TfidfVectorizer\n",
    "from collections import Counter\n",
    "from scipy.sparse import hstack\n",
    "from sklearn.multiclass import OneVsRestClassifier\n",
    "from sklearn.svm import SVC\n",
    "from sklearn.model_selection import StratifiedKFold \n",
    "from collections import Counter, defaultdict\n",
    "from sklearn.calibration import CalibratedClassifierCV\n",
    "from sklearn.naive_bayes import MultinomialNB\n",
    "from sklearn.naive_bayes import GaussianNB\n",
    "from sklearn.model_selection import train_test_split\n",
    "from sklearn.model_selection import GridSearchCV\n",
    "import math\n",
    "from sklearn.metrics import normalized_mutual_info_score\n",
    "from sklearn.ensemble import RandomForestClassifier\n",
    "\n",
    "\n",
    "\n",
    "from sklearn.model_selection import cross_val_score\n",
    "from sklearn.linear_model import SGDClassifier\n",
    "from mlxtend.classifier import StackingClassifier\n",
    "\n",
    "from sklearn import model_selection\n",
    "from sklearn.linear_model import LogisticRegression\n",
    "from sklearn.metrics import precision_recall_curve, auc, roc_curve"
   ]
  },
  {
   "cell_type": "markdown",
   "metadata": {
    "colab_type": "text",
    "id": "xObUv_MyJpGp"
   },
   "source": [
    "## Task 1"
   ]
  },
  {
   "cell_type": "markdown",
   "metadata": {
    "colab_type": "text",
    "id": "sl4sbRX3JXNv"
   },
   "source": [
    "### Train Logistic Regression and Linear-SVM with TfIdf vectorization of questions data.\n",
    "**Taking only first 50,000 rows to train and test the data due to computation limitations.**"
   ]
  },
  {
   "cell_type": "code",
   "execution_count": 3,
   "metadata": {
    "colab": {
     "base_uri": "https://localhost:8080/",
     "height": 204
    },
    "colab_type": "code",
    "id": "pL5jCVdiI0lu",
    "outputId": "c3b4f166-cf7c-4c1b-91fe-3725fe7617cc"
   },
   "outputs": [
    {
     "data": {
      "text/html": [
       "<div>\n",
       "<style scoped>\n",
       "    .dataframe tbody tr th:only-of-type {\n",
       "        vertical-align: middle;\n",
       "    }\n",
       "\n",
       "    .dataframe tbody tr th {\n",
       "        vertical-align: top;\n",
       "    }\n",
       "\n",
       "    .dataframe thead th {\n",
       "        text-align: right;\n",
       "    }\n",
       "</style>\n",
       "<table border=\"1\" class=\"dataframe\">\n",
       "  <thead>\n",
       "    <tr style=\"text-align: right;\">\n",
       "      <th></th>\n",
       "      <th>id</th>\n",
       "      <th>qid1</th>\n",
       "      <th>qid2</th>\n",
       "      <th>question1</th>\n",
       "      <th>question2</th>\n",
       "      <th>is_duplicate</th>\n",
       "    </tr>\n",
       "  </thead>\n",
       "  <tbody>\n",
       "    <tr>\n",
       "      <th>0</th>\n",
       "      <td>0</td>\n",
       "      <td>1</td>\n",
       "      <td>2</td>\n",
       "      <td>What is the step by step guide to invest in sh...</td>\n",
       "      <td>What is the step by step guide to invest in sh...</td>\n",
       "      <td>0</td>\n",
       "    </tr>\n",
       "    <tr>\n",
       "      <th>1</th>\n",
       "      <td>1</td>\n",
       "      <td>3</td>\n",
       "      <td>4</td>\n",
       "      <td>What is the story of Kohinoor (Koh-i-Noor) Dia...</td>\n",
       "      <td>What would happen if the Indian government sto...</td>\n",
       "      <td>0</td>\n",
       "    </tr>\n",
       "    <tr>\n",
       "      <th>2</th>\n",
       "      <td>2</td>\n",
       "      <td>5</td>\n",
       "      <td>6</td>\n",
       "      <td>How can I increase the speed of my internet co...</td>\n",
       "      <td>How can Internet speed be increased by hacking...</td>\n",
       "      <td>0</td>\n",
       "    </tr>\n",
       "    <tr>\n",
       "      <th>3</th>\n",
       "      <td>3</td>\n",
       "      <td>7</td>\n",
       "      <td>8</td>\n",
       "      <td>Why am I mentally very lonely? How can I solve...</td>\n",
       "      <td>Find the remainder when [math]23^{24}[/math] i...</td>\n",
       "      <td>0</td>\n",
       "    </tr>\n",
       "    <tr>\n",
       "      <th>4</th>\n",
       "      <td>4</td>\n",
       "      <td>9</td>\n",
       "      <td>10</td>\n",
       "      <td>Which one dissolve in water quikly sugar, salt...</td>\n",
       "      <td>Which fish would survive in salt water?</td>\n",
       "      <td>0</td>\n",
       "    </tr>\n",
       "  </tbody>\n",
       "</table>\n",
       "</div>"
      ],
      "text/plain": [
       "   id  qid1  ...                                          question2 is_duplicate\n",
       "0   0     1  ...  What is the step by step guide to invest in sh...            0\n",
       "1   1     3  ...  What would happen if the Indian government sto...            0\n",
       "2   2     5  ...  How can Internet speed be increased by hacking...            0\n",
       "3   3     7  ...  Find the remainder when [math]23^{24}[/math] i...            0\n",
       "4   4     9  ...            Which fish would survive in salt water?            0\n",
       "\n",
       "[5 rows x 6 columns]"
      ]
     },
     "execution_count": 3,
     "metadata": {
      "tags": []
     },
     "output_type": "execute_result"
    }
   ],
   "source": [
    "main_data = pd.read_csv('train.csv', nrows=50000)\n",
    "main_data.head()"
   ]
  },
  {
   "cell_type": "code",
   "execution_count": 4,
   "metadata": {
    "colab": {
     "base_uri": "https://localhost:8080/",
     "height": 383
    },
    "colab_type": "code",
    "id": "u7TVy8eXKWwU",
    "outputId": "168128a5-17c6-446f-d104-5cc6fed3a722"
   },
   "outputs": [
    {
     "data": {
      "text/html": [
       "<div>\n",
       "<style scoped>\n",
       "    .dataframe tbody tr th:only-of-type {\n",
       "        vertical-align: middle;\n",
       "    }\n",
       "\n",
       "    .dataframe tbody tr th {\n",
       "        vertical-align: top;\n",
       "    }\n",
       "\n",
       "    .dataframe thead th {\n",
       "        text-align: right;\n",
       "    }\n",
       "</style>\n",
       "<table border=\"1\" class=\"dataframe\">\n",
       "  <thead>\n",
       "    <tr style=\"text-align: right;\">\n",
       "      <th></th>\n",
       "      <th>id</th>\n",
       "      <th>qid1</th>\n",
       "      <th>qid2</th>\n",
       "      <th>question1</th>\n",
       "      <th>question2</th>\n",
       "      <th>is_duplicate</th>\n",
       "      <th>cwc_min</th>\n",
       "      <th>cwc_max</th>\n",
       "      <th>csc_min</th>\n",
       "      <th>csc_max</th>\n",
       "      <th>ctc_min</th>\n",
       "      <th>ctc_max</th>\n",
       "      <th>last_word_eq</th>\n",
       "      <th>first_word_eq</th>\n",
       "      <th>abs_len_diff</th>\n",
       "      <th>mean_len</th>\n",
       "      <th>token_set_ratio</th>\n",
       "      <th>token_sort_ratio</th>\n",
       "      <th>fuzz_ratio</th>\n",
       "      <th>fuzz_partial_ratio</th>\n",
       "      <th>longest_substr_ratio</th>\n",
       "    </tr>\n",
       "  </thead>\n",
       "  <tbody>\n",
       "    <tr>\n",
       "      <th>0</th>\n",
       "      <td>0</td>\n",
       "      <td>1</td>\n",
       "      <td>2</td>\n",
       "      <td>what is the step by step guide to invest in sh...</td>\n",
       "      <td>what is the step by step guide to invest in sh...</td>\n",
       "      <td>0</td>\n",
       "      <td>0.999980</td>\n",
       "      <td>0.833319</td>\n",
       "      <td>0.999983</td>\n",
       "      <td>0.999983</td>\n",
       "      <td>0.916659</td>\n",
       "      <td>0.785709</td>\n",
       "      <td>0.0</td>\n",
       "      <td>1.0</td>\n",
       "      <td>2.0</td>\n",
       "      <td>13.0</td>\n",
       "      <td>100</td>\n",
       "      <td>93</td>\n",
       "      <td>93</td>\n",
       "      <td>100</td>\n",
       "      <td>0.982759</td>\n",
       "    </tr>\n",
       "    <tr>\n",
       "      <th>1</th>\n",
       "      <td>1</td>\n",
       "      <td>3</td>\n",
       "      <td>4</td>\n",
       "      <td>what is the story of kohinoor  koh i noor  dia...</td>\n",
       "      <td>what would happen if the indian government sto...</td>\n",
       "      <td>0</td>\n",
       "      <td>0.799984</td>\n",
       "      <td>0.399996</td>\n",
       "      <td>0.749981</td>\n",
       "      <td>0.599988</td>\n",
       "      <td>0.699993</td>\n",
       "      <td>0.466664</td>\n",
       "      <td>0.0</td>\n",
       "      <td>1.0</td>\n",
       "      <td>5.0</td>\n",
       "      <td>12.5</td>\n",
       "      <td>86</td>\n",
       "      <td>63</td>\n",
       "      <td>66</td>\n",
       "      <td>75</td>\n",
       "      <td>0.596154</td>\n",
       "    </tr>\n",
       "    <tr>\n",
       "      <th>2</th>\n",
       "      <td>2</td>\n",
       "      <td>5</td>\n",
       "      <td>6</td>\n",
       "      <td>how can i increase the speed of my internet co...</td>\n",
       "      <td>how can internet speed be increased by hacking...</td>\n",
       "      <td>0</td>\n",
       "      <td>0.399992</td>\n",
       "      <td>0.333328</td>\n",
       "      <td>0.399992</td>\n",
       "      <td>0.249997</td>\n",
       "      <td>0.399996</td>\n",
       "      <td>0.285712</td>\n",
       "      <td>0.0</td>\n",
       "      <td>1.0</td>\n",
       "      <td>4.0</td>\n",
       "      <td>12.0</td>\n",
       "      <td>66</td>\n",
       "      <td>66</td>\n",
       "      <td>54</td>\n",
       "      <td>54</td>\n",
       "      <td>0.166667</td>\n",
       "    </tr>\n",
       "  </tbody>\n",
       "</table>\n",
       "</div>"
      ],
      "text/plain": [
       "   id  qid1  qid2  ... fuzz_ratio fuzz_partial_ratio  longest_substr_ratio\n",
       "0   0     1     2  ...         93                100              0.982759\n",
       "1   1     3     4  ...         66                 75              0.596154\n",
       "2   2     5     6  ...         54                 54              0.166667\n",
       "\n",
       "[3 rows x 21 columns]"
      ]
     },
     "execution_count": 4,
     "metadata": {
      "tags": []
     },
     "output_type": "execute_result"
    }
   ],
   "source": [
    "nlp_feats = pd.read_csv('nlp_features_train.csv', nrows=50000, encoding='latin-1')\n",
    "nlp_feats.head(3)"
   ]
  },
  {
   "cell_type": "code",
   "execution_count": 5,
   "metadata": {
    "colab": {
     "base_uri": "https://localhost:8080/",
     "height": 417
    },
    "colab_type": "code",
    "id": "vWlYUP-SK813",
    "outputId": "2878d1ac-1c6b-4c9c-b7e0-cde8549c0ef9"
   },
   "outputs": [
    {
     "data": {
      "text/html": [
       "<div>\n",
       "<style scoped>\n",
       "    .dataframe tbody tr th:only-of-type {\n",
       "        vertical-align: middle;\n",
       "    }\n",
       "\n",
       "    .dataframe tbody tr th {\n",
       "        vertical-align: top;\n",
       "    }\n",
       "\n",
       "    .dataframe thead th {\n",
       "        text-align: right;\n",
       "    }\n",
       "</style>\n",
       "<table border=\"1\" class=\"dataframe\">\n",
       "  <thead>\n",
       "    <tr style=\"text-align: right;\">\n",
       "      <th></th>\n",
       "      <th>id</th>\n",
       "      <th>qid1</th>\n",
       "      <th>qid2</th>\n",
       "      <th>question1</th>\n",
       "      <th>question2</th>\n",
       "      <th>is_duplicate</th>\n",
       "      <th>freq_qid1</th>\n",
       "      <th>freq_qid2</th>\n",
       "      <th>q1len</th>\n",
       "      <th>q2len</th>\n",
       "      <th>q1_n_words</th>\n",
       "      <th>q2_n_words</th>\n",
       "      <th>word_Common</th>\n",
       "      <th>word_Total</th>\n",
       "      <th>word_share</th>\n",
       "      <th>freq_q1+q2</th>\n",
       "      <th>freq_q1-q2</th>\n",
       "    </tr>\n",
       "  </thead>\n",
       "  <tbody>\n",
       "    <tr>\n",
       "      <th>0</th>\n",
       "      <td>0</td>\n",
       "      <td>1</td>\n",
       "      <td>2</td>\n",
       "      <td>What is the step by step guide to invest in sh...</td>\n",
       "      <td>What is the step by step guide to invest in sh...</td>\n",
       "      <td>0</td>\n",
       "      <td>1</td>\n",
       "      <td>1</td>\n",
       "      <td>66</td>\n",
       "      <td>57</td>\n",
       "      <td>14</td>\n",
       "      <td>12</td>\n",
       "      <td>10.0</td>\n",
       "      <td>23.0</td>\n",
       "      <td>0.434783</td>\n",
       "      <td>2</td>\n",
       "      <td>0</td>\n",
       "    </tr>\n",
       "    <tr>\n",
       "      <th>1</th>\n",
       "      <td>1</td>\n",
       "      <td>3</td>\n",
       "      <td>4</td>\n",
       "      <td>What is the story of Kohinoor (Koh-i-Noor) Dia...</td>\n",
       "      <td>What would happen if the Indian government sto...</td>\n",
       "      <td>0</td>\n",
       "      <td>4</td>\n",
       "      <td>1</td>\n",
       "      <td>51</td>\n",
       "      <td>88</td>\n",
       "      <td>8</td>\n",
       "      <td>13</td>\n",
       "      <td>4.0</td>\n",
       "      <td>20.0</td>\n",
       "      <td>0.200000</td>\n",
       "      <td>5</td>\n",
       "      <td>3</td>\n",
       "    </tr>\n",
       "    <tr>\n",
       "      <th>2</th>\n",
       "      <td>2</td>\n",
       "      <td>5</td>\n",
       "      <td>6</td>\n",
       "      <td>How can I increase the speed of my internet co...</td>\n",
       "      <td>How can Internet speed be increased by hacking...</td>\n",
       "      <td>0</td>\n",
       "      <td>1</td>\n",
       "      <td>1</td>\n",
       "      <td>73</td>\n",
       "      <td>59</td>\n",
       "      <td>14</td>\n",
       "      <td>10</td>\n",
       "      <td>4.0</td>\n",
       "      <td>24.0</td>\n",
       "      <td>0.166667</td>\n",
       "      <td>2</td>\n",
       "      <td>0</td>\n",
       "    </tr>\n",
       "  </tbody>\n",
       "</table>\n",
       "</div>"
      ],
      "text/plain": [
       "   id  qid1  qid2  ... word_share freq_q1+q2  freq_q1-q2\n",
       "0   0     1     2  ...   0.434783          2           0\n",
       "1   1     3     4  ...   0.200000          5           3\n",
       "2   2     5     6  ...   0.166667          2           0\n",
       "\n",
       "[3 rows x 17 columns]"
      ]
     },
     "execution_count": 5,
     "metadata": {
      "tags": []
     },
     "output_type": "execute_result"
    }
   ],
   "source": [
    "feat_engg = pd.read_csv('df_fe_without_preprocessing_train.csv', nrows=50000, encoding='latin-1')\n",
    "feat_engg.head(3)"
   ]
  },
  {
   "cell_type": "markdown",
   "metadata": {
    "colab_type": "text",
    "id": "f7CMKulyOEeq"
   },
   "source": [
    "**Splitting data into train and test data before applying TfIdf vectorizer to avoid data leakage**"
   ]
  },
  {
   "cell_type": "code",
   "execution_count": 6,
   "metadata": {
    "colab": {
     "base_uri": "https://localhost:8080/",
     "height": 204
    },
    "colab_type": "code",
    "id": "Cnv2LBZXPjsd",
    "outputId": "23fdda84-be28-4fc7-c638-c177463794af"
   },
   "outputs": [
    {
     "data": {
      "text/html": [
       "<div>\n",
       "<style scoped>\n",
       "    .dataframe tbody tr th:only-of-type {\n",
       "        vertical-align: middle;\n",
       "    }\n",
       "\n",
       "    .dataframe tbody tr th {\n",
       "        vertical-align: top;\n",
       "    }\n",
       "\n",
       "    .dataframe thead th {\n",
       "        text-align: right;\n",
       "    }\n",
       "</style>\n",
       "<table border=\"1\" class=\"dataframe\">\n",
       "  <thead>\n",
       "    <tr style=\"text-align: right;\">\n",
       "      <th></th>\n",
       "      <th>question1</th>\n",
       "      <th>question2</th>\n",
       "    </tr>\n",
       "  </thead>\n",
       "  <tbody>\n",
       "    <tr>\n",
       "      <th>0</th>\n",
       "      <td>What is the step by step guide to invest in sh...</td>\n",
       "      <td>What is the step by step guide to invest in sh...</td>\n",
       "    </tr>\n",
       "    <tr>\n",
       "      <th>1</th>\n",
       "      <td>What is the story of Kohinoor (Koh-i-Noor) Dia...</td>\n",
       "      <td>What would happen if the Indian government sto...</td>\n",
       "    </tr>\n",
       "    <tr>\n",
       "      <th>2</th>\n",
       "      <td>How can I increase the speed of my internet co...</td>\n",
       "      <td>How can Internet speed be increased by hacking...</td>\n",
       "    </tr>\n",
       "    <tr>\n",
       "      <th>3</th>\n",
       "      <td>Why am I mentally very lonely? How can I solve...</td>\n",
       "      <td>Find the remainder when [math]23^{24}[/math] i...</td>\n",
       "    </tr>\n",
       "    <tr>\n",
       "      <th>4</th>\n",
       "      <td>Which one dissolve in water quikly sugar, salt...</td>\n",
       "      <td>Which fish would survive in salt water?</td>\n",
       "    </tr>\n",
       "  </tbody>\n",
       "</table>\n",
       "</div>"
      ],
      "text/plain": [
       "                                           question1                                          question2\n",
       "0  What is the step by step guide to invest in sh...  What is the step by step guide to invest in sh...\n",
       "1  What is the story of Kohinoor (Koh-i-Noor) Dia...  What would happen if the Indian government sto...\n",
       "2  How can I increase the speed of my internet co...  How can Internet speed be increased by hacking...\n",
       "3  Why am I mentally very lonely? How can I solve...  Find the remainder when [math]23^{24}[/math] i...\n",
       "4  Which one dissolve in water quikly sugar, salt...            Which fish would survive in salt water?"
      ]
     },
     "execution_count": 6,
     "metadata": {
      "tags": []
     },
     "output_type": "execute_result"
    }
   ],
   "source": [
    "questions = main_data[['question1', 'question2']]\n",
    "labels = pd.DataFrame(main_data['is_duplicate'])\n",
    "questions.head()"
   ]
  },
  {
   "cell_type": "code",
   "execution_count": 0,
   "metadata": {
    "colab": {},
    "colab_type": "code",
    "id": "QRtKG9FGQSLq"
   },
   "outputs": [],
   "source": [
    "q_train, q_test, labels_train, labels_test = train_test_split(questions, labels, test_size=0.2)"
   ]
  },
  {
   "cell_type": "code",
   "execution_count": 0,
   "metadata": {
    "colab": {},
    "colab_type": "code",
    "id": "uOp3i4xjRAv2"
   },
   "outputs": [],
   "source": [
    "train_ind = q_train.index\n",
    "test_ind = q_test.index"
   ]
  },
  {
   "cell_type": "code",
   "execution_count": 9,
   "metadata": {
    "colab": {
     "base_uri": "https://localhost:8080/",
     "height": 136
    },
    "colab_type": "code",
    "id": "AZiLvBrTRFoF",
    "outputId": "5033c10d-887f-4a51-f319-d8541c9ec397"
   },
   "outputs": [
    {
     "data": {
      "text/plain": [
       "TfidfVectorizer(analyzer='word', binary=False, decode_error='strict',\n",
       "                dtype=<class 'numpy.float64'>, encoding='utf-8',\n",
       "                input='content', lowercase=True, max_df=1.0, max_features=5000,\n",
       "                min_df=1, ngram_range=(1, 1), norm='l2', preprocessor=None,\n",
       "                smooth_idf=True, stop_words='english', strip_accents=None,\n",
       "                sublinear_tf=False, token_pattern='(?u)\\\\b\\\\w\\\\w+\\\\b',\n",
       "                tokenizer=None, use_idf=True, vocabulary=None)"
      ]
     },
     "execution_count": 9,
     "metadata": {
      "tags": []
     },
     "output_type": "execute_result"
    }
   ],
   "source": [
    "from sklearn.feature_extraction.text import TfidfVectorizer\n",
    "quest_to_vectorize = list(q_train['question1']) + list(q_train['question2'])\n",
    "tfidf = TfidfVectorizer(stop_words='english', max_features=5000)\n",
    "tfidf.fit(quest_to_vectorize)"
   ]
  },
  {
   "cell_type": "code",
   "execution_count": 10,
   "metadata": {
    "colab": {
     "base_uri": "https://localhost:8080/",
     "height": 85
    },
    "colab_type": "code",
    "id": "DsKYTd9WTeWY",
    "outputId": "cb82468b-4dc9-4826-f3d6-ec9fb5afe5bf"
   },
   "outputs": [
    {
     "name": "stdout",
     "output_type": "stream",
     "text": [
      "(40000, 5000)\n",
      "(40000, 5000)\n",
      "(10000, 5000)\n",
      "(10000, 5000)\n"
     ]
    }
   ],
   "source": [
    "q1_train = tfidf.transform(q_train['question1'].values)\n",
    "q2_train = tfidf.transform(q_train['question2'].values)\n",
    "q1_test = tfidf.transform(q_test['question1'].values)\n",
    "q2_test = tfidf.transform(q_test['question2'].values)\n",
    "\n",
    "print(q1_train.shape)\n",
    "print(q2_train.shape)\n",
    "print(q1_test.shape)\n",
    "print(q1_test.shape)"
   ]
  },
  {
   "cell_type": "markdown",
   "metadata": {
    "colab_type": "text",
    "id": "TsaTKv7ycuZk"
   },
   "source": [
    "**Splitting all DataFrames according to `train_ind` and `test_ind` obtained from train_test_split and combine them to form X_train and X_test** "
   ]
  },
  {
   "cell_type": "code",
   "execution_count": 11,
   "metadata": {
    "colab": {
     "base_uri": "https://localhost:8080/",
     "height": 51
    },
    "colab_type": "code",
    "id": "5g28L0_gcMoO",
    "outputId": "6468d40a-2900-415b-e976-eeb9aebb6878"
   },
   "outputs": [
    {
     "name": "stdout",
     "output_type": "stream",
     "text": [
      "(50000, 11)\n",
      "(50000, 15)\n"
     ]
    }
   ],
   "source": [
    "feat_engg.drop(columns=main_data.columns, inplace=True)\n",
    "nlp_feats.drop(columns=main_data.columns, inplace=True)\n",
    "print(feat_engg.shape)\n",
    "print(nlp_feats.shape)"
   ]
  },
  {
   "cell_type": "code",
   "execution_count": 12,
   "metadata": {
    "colab": {
     "base_uri": "https://localhost:8080/",
     "height": 85
    },
    "colab_type": "code",
    "id": "UJ4aw398d49C",
    "outputId": "21735d83-5731-4f46-e27a-10ca33cee88f"
   },
   "outputs": [
    {
     "name": "stdout",
     "output_type": "stream",
     "text": [
      "(40000, 11)\n",
      "(10000, 11)\n",
      "(40000, 15)\n",
      "(10000, 15)\n"
     ]
    }
   ],
   "source": [
    "feat_engg_train = feat_engg.loc[train_ind, :]\n",
    "feat_engg_test = feat_engg.loc[test_ind, :]\n",
    "nlp_feats_train = nlp_feats.loc[train_ind, :]\n",
    "nlp_feats_test = nlp_feats.loc[test_ind, :]\n",
    "\n",
    "print(feat_engg_train.shape)\n",
    "print(feat_engg_test.shape)\n",
    "print(nlp_feats_train.shape)\n",
    "print(nlp_feats_test.shape)"
   ]
  },
  {
   "cell_type": "code",
   "execution_count": 13,
   "metadata": {
    "colab": {
     "base_uri": "https://localhost:8080/",
     "height": 51
    },
    "colab_type": "code",
    "id": "2pRMzkBGe6Z_",
    "outputId": "d7d37a89-69d5-483d-9a9d-ceeb7dd343cb"
   },
   "outputs": [
    {
     "name": "stdout",
     "output_type": "stream",
     "text": [
      "(40000, 10026) (40000, 1)\n",
      "(10000, 10026) (10000, 1)\n"
     ]
    }
   ],
   "source": [
    "X_train = hstack((feat_engg_train, nlp_feats_train, q1_train, q2_train)).tocsr()\n",
    "X_test = hstack((feat_engg_test, nlp_feats_test, q1_test, q2_test)).tocsr()\n",
    "y_train = labels_train\n",
    "y_test = labels_test\n",
    "\n",
    "print(X_train.shape, y_train.shape)\n",
    "print(X_test.shape, y_test.shape)"
   ]
  },
  {
   "cell_type": "markdown",
   "metadata": {
    "colab_type": "text",
    "id": "ysD0RdURj52J"
   },
   "source": [
    "**As our data is ready we perform Logistic Regression and Linear-SVM on the data. For this I will take the code from one of the original ipython notebooks**"
   ]
  },
  {
   "cell_type": "code",
   "execution_count": 0,
   "metadata": {
    "colab": {},
    "colab_type": "code",
    "id": "rTSwaof4j15N"
   },
   "outputs": [],
   "source": [
    "# This function plots the confusion matrices given y_i, y_i_hat.\n",
    "def plot_confusion_matrix(test_y, predict_y):\n",
    "    C = confusion_matrix(test_y, predict_y)\n",
    "    # C = 9,9 matrix, each cell (i,j) represents number of points of class i are predicted class j\n",
    "    \n",
    "    A =(((C.T)/(C.sum(axis=1))).T)\n",
    "    #divid each element of the confusion matrix with the sum of elements in that column\n",
    "    \n",
    "    # C = [[1, 2],\n",
    "    #     [3, 4]]\n",
    "    # C.T = [[1, 3],\n",
    "    #        [2, 4]]\n",
    "    # C.sum(axis = 1)  axis=0 corresonds to columns and axis=1 corresponds to rows in two diamensional array\n",
    "    # C.sum(axix =1) = [[3, 7]]\n",
    "    # ((C.T)/(C.sum(axis=1))) = [[1/3, 3/7]\n",
    "    #                           [2/3, 4/7]]\n",
    "\n",
    "    # ((C.T)/(C.sum(axis=1))).T = [[1/3, 2/3]\n",
    "    #                           [3/7, 4/7]]\n",
    "    # sum of row elements = 1\n",
    "    \n",
    "    B =(C/C.sum(axis=0))\n",
    "    #divid each element of the confusion matrix with the sum of elements in that row\n",
    "    # C = [[1, 2],\n",
    "    #     [3, 4]]\n",
    "    # C.sum(axis = 0)  axis=0 corresonds to columns and axis=1 corresponds to rows in two diamensional array\n",
    "    # C.sum(axix =0) = [[4, 6]]\n",
    "    # (C/C.sum(axis=0)) = [[1/4, 2/6],\n",
    "    #                      [3/4, 4/6]] \n",
    "    plt.figure(figsize=(20,4))\n",
    "    \n",
    "    labels = [1,2]\n",
    "    # representing A in heatmap format\n",
    "    cmap=sns.light_palette(\"blue\")\n",
    "    plt.subplot(1, 3, 1)\n",
    "    sns.heatmap(C, annot=True, cmap=cmap, fmt=\".0f\", xticklabels=labels, yticklabels=labels)\n",
    "    plt.xlabel('Predicted Class')\n",
    "    plt.ylabel('Original Class')\n",
    "    plt.title(\"Confusion matrix\")\n",
    "    \n",
    "    plt.subplot(1, 3, 2)\n",
    "    sns.heatmap(B, annot=True, cmap=cmap, fmt=\".3f\", xticklabels=labels, yticklabels=labels)\n",
    "    plt.xlabel('Predicted Class')\n",
    "    plt.ylabel('Original Class')\n",
    "    plt.title(\"Precision matrix\")\n",
    "    \n",
    "    plt.subplot(1, 3, 3)\n",
    "    # representing B in heatmap format\n",
    "    sns.heatmap(A, annot=True, cmap=cmap, fmt=\".3f\", xticklabels=labels, yticklabels=labels)\n",
    "    plt.xlabel('Predicted Class')\n",
    "    plt.ylabel('Original Class')\n",
    "    plt.title(\"Recall matrix\")\n",
    "    \n",
    "    plt.show()"
   ]
  },
  {
   "cell_type": "markdown",
   "metadata": {
    "colab_type": "text",
    "id": "ayEjG8O7lehs"
   },
   "source": [
    "### Training a Random model to know worst-log-loss that we can get."
   ]
  },
  {
   "cell_type": "code",
   "execution_count": 15,
   "metadata": {
    "colab": {
     "base_uri": "https://localhost:8080/",
     "height": 312
    },
    "colab_type": "code",
    "id": "ygAdGkUalLmN",
    "outputId": "e0e5548f-4c6e-473c-f6ca-45858ef54832"
   },
   "outputs": [
    {
     "name": "stdout",
     "output_type": "stream",
     "text": [
      "Log loss on Test Data using Random Model 0.8974195927624847\n"
     ]
    },
    {
     "data": {
      "image/png": "[encoded data removed]",
      "text/plain": [
       "<Figure size 1440x288 with 6 Axes>"
      ]
     },
     "metadata": {
      "tags": []
     },
     "output_type": "display_data"
    }
   ],
   "source": [
    "test_len = len(y_test)\n",
    "train_len = len(y_train)\n",
    "predicted_y = np.zeros((test_len,2))\n",
    "for i in range(test_len):\n",
    "    rand_probs = np.random.rand(1,2)\n",
    "    predicted_y[i] = ((rand_probs/sum(sum(rand_probs)))[0])\n",
    "print(\"Log loss on Test Data using Random Model\",log_loss(y_test, predicted_y, eps=1e-15))\n",
    "\n",
    "predicted_y =np.argmax(predicted_y, axis=1)\n",
    "plot_confusion_matrix(y_test, predicted_y)"
   ]
  },
  {
   "cell_type": "markdown",
   "metadata": {
    "colab_type": "text",
    "id": "OD7zozNnm6ij"
   },
   "source": [
    "### Logistic Regression with hyper-parameter tuning"
   ]
  },
  {
   "cell_type": "code",
   "execution_count": 16,
   "metadata": {
    "colab": {
     "base_uri": "https://localhost:8080/",
     "height": 743
    },
    "colab_type": "code",
    "id": "m1foE8enkiQH",
    "outputId": "5a9cef1f-dc44-45b7-a8ac-3ba71f896816"
   },
   "outputs": [
    {
     "name": "stdout",
     "output_type": "stream",
     "text": [
      "For values of alpha =  1e-05 The log loss is: 0.427303052937189\n",
      "For values of alpha =  0.0001 The log loss is: 0.4146490324907647\n",
      "For values of alpha =  0.001 The log loss is: 0.42354989460930553\n",
      "For values of alpha =  0.01 The log loss is: 0.4376423906863354\n",
      "For values of alpha =  0.1 The log loss is: 0.45904348314400834\n",
      "For values of alpha =  1 The log loss is: 0.4906774962637248\n",
      "For values of alpha =  10 The log loss is: 0.5459613692305979\n"
     ]
    },
    {
     "data": {
      "image/png": "[encoded data removed]",
      "text/plain": [
       "<Figure size 432x288 with 1 Axes>"
      ]
     },
     "metadata": {
      "tags": []
     },
     "output_type": "display_data"
    },
    {
     "name": "stdout",
     "output_type": "stream",
     "text": [
      "For values of best alpha =  0.0001 The train log loss is: 0.4127349578718349\n",
      "For values of best alpha =  0.0001 The test log loss is: 0.4146490324907647\n",
      "Total number of data points : 10000\n"
     ]
    },
    {
     "data": {
      "image/png": "[encoded data removed]",
      "text/plain": [
       "<Figure size 1440x288 with 6 Axes>"
      ]
     },
     "metadata": {
      "tags": []
     },
     "output_type": "display_data"
    }
   ],
   "source": [
    "alpha = [10 ** x for x in range(-5, 2)] # hyperparam for SGD classifier.\n",
    "\n",
    "log_error_array=[]\n",
    "for i in alpha:\n",
    "    clf = SGDClassifier(alpha=i, penalty='l2', loss='log', random_state=42)\n",
    "    clf.fit(X_train, y_train)\n",
    "    sig_clf = CalibratedClassifierCV(clf, method=\"sigmoid\")\n",
    "    sig_clf.fit(X_train, y_train)\n",
    "    predict_y = sig_clf.predict_proba(X_test)\n",
    "    log_error_array.append(log_loss(y_test, predict_y, labels=clf.classes_, eps=1e-15))\n",
    "    print('For values of alpha = ', i, \"The log loss is:\",log_loss(y_test, predict_y, labels=clf.classes_, eps=1e-15))\n",
    "\n",
    "fig, ax = plt.subplots()\n",
    "ax.plot(alpha, log_error_array,c='g')\n",
    "for i, txt in enumerate(np.round(log_error_array,3)):\n",
    "    ax.annotate((alpha[i],np.round(txt,3)), (alpha[i],log_error_array[i]))\n",
    "plt.grid()\n",
    "plt.title(\"Cross Validation Error for each alpha\")\n",
    "plt.xlabel(\"Alpha i's\")\n",
    "plt.ylabel(\"Error measure\")\n",
    "plt.show()\n",
    "\n",
    "\n",
    "best_alpha = np.argmin(log_error_array)\n",
    "clf = SGDClassifier(alpha=alpha[best_alpha], penalty='l2', loss='log', random_state=42)\n",
    "clf.fit(X_train, y_train)\n",
    "sig_clf = CalibratedClassifierCV(clf, method=\"sigmoid\")\n",
    "sig_clf.fit(X_train, y_train)\n",
    "\n",
    "predict_y = sig_clf.predict_proba(X_train)\n",
    "print('For values of best alpha = ', alpha[best_alpha], \"The train log loss is:\",log_loss(y_train, predict_y, labels=clf.classes_, eps=1e-15))\n",
    "predict_y = sig_clf.predict_proba(X_test)\n",
    "print('For values of best alpha = ', alpha[best_alpha], \"The test log loss is:\",log_loss(y_test, predict_y, labels=clf.classes_, eps=1e-15))\n",
    "predicted_y =np.argmax(predict_y,axis=1)\n",
    "print(\"Total number of data points :\", len(predicted_y))\n",
    "plot_confusion_matrix(y_test, predicted_y)"
   ]
  },
  {
   "cell_type": "markdown",
   "metadata": {
    "colab_type": "text",
    "id": "iG6L7fammKdz"
   },
   "source": [
    "**The loss values for Tfidf vectorized data is much less than Tfidf Word2Vec loss values for Logistic Regression. Which means this model did lot better than the model in original notebook**"
   ]
  },
  {
   "cell_type": "markdown",
   "metadata": {
    "colab_type": "text",
    "id": "W3VovhojnDdc"
   },
   "source": [
    "### Linear-SVM with hyper-parameter tuning"
   ]
  },
  {
   "cell_type": "code",
   "execution_count": 17,
   "metadata": {
    "colab": {
     "base_uri": "https://localhost:8080/",
     "height": 743
    },
    "colab_type": "code",
    "id": "xO1eXH0tk7Ej",
    "outputId": "8662df54-1804-4808-d478-ee2699425717"
   },
   "outputs": [
    {
     "name": "stdout",
     "output_type": "stream",
     "text": [
      "For values of alpha =  1e-05 The log loss is: 0.42085570185631943\n",
      "For values of alpha =  0.0001 The log loss is: 0.44496904081309385\n",
      "For values of alpha =  0.001 The log loss is: 0.4756987604337793\n",
      "For values of alpha =  0.01 The log loss is: 0.5171187047471906\n",
      "For values of alpha =  0.1 The log loss is: 0.47957363952464294\n",
      "For values of alpha =  1 The log loss is: 0.573956591705653\n",
      "For values of alpha =  10 The log loss is: 0.5969699647626083\n"
     ]
    },
    {
     "data": {
      "image/png": "[encoded data removed]",
      "text/plain": [
       "<Figure size 432x288 with 1 Axes>"
      ]
     },
     "metadata": {
      "tags": []
     },
     "output_type": "display_data"
    },
    {
     "name": "stdout",
     "output_type": "stream",
     "text": [
      "For values of best alpha =  1e-05 The train log loss is: 0.4154266037600815\n",
      "For values of best alpha =  1e-05 The test log loss is: 0.42085570185631943\n",
      "Total number of data points : 10000\n"
     ]
    },
    {
     "data": {
      "image/png": "[encoded data removed]",
      "text/plain": [
       "<Figure size 1440x288 with 6 Axes>"
      ]
     },
     "metadata": {
      "tags": []
     },
     "output_type": "display_data"
    }
   ],
   "source": [
    "alpha = [10 ** x for x in range(-5, 2)] # hyperparam for SGD classifier.\n",
    "\n",
    "log_error_array=[]\n",
    "for i in alpha:\n",
    "    clf = SGDClassifier(alpha=i, penalty='l1', loss='hinge', random_state=42)\n",
    "    clf.fit(X_train, y_train)\n",
    "    sig_clf = CalibratedClassifierCV(clf, method=\"sigmoid\")\n",
    "    sig_clf.fit(X_train, y_train)\n",
    "    predict_y = sig_clf.predict_proba(X_test)\n",
    "    log_error_array.append(log_loss(y_test, predict_y, labels=clf.classes_, eps=1e-15))\n",
    "    print('For values of alpha = ', i, \"The log loss is:\",log_loss(y_test, predict_y, labels=clf.classes_, eps=1e-15))\n",
    "\n",
    "fig, ax = plt.subplots()\n",
    "ax.plot(alpha, log_error_array,c='g')\n",
    "for i, txt in enumerate(np.round(log_error_array,3)):\n",
    "    ax.annotate((alpha[i],np.round(txt,3)), (alpha[i],log_error_array[i]))\n",
    "plt.grid()\n",
    "plt.title(\"Cross Validation Error for each alpha\")\n",
    "plt.xlabel(\"Alpha i's\")\n",
    "plt.ylabel(\"Error measure\")\n",
    "plt.show()\n",
    "\n",
    "\n",
    "best_alpha = np.argmin(log_error_array)\n",
    "clf = SGDClassifier(alpha=alpha[best_alpha], penalty='l1', loss='hinge', random_state=42)\n",
    "clf.fit(X_train, y_train)\n",
    "sig_clf = CalibratedClassifierCV(clf, method=\"sigmoid\")\n",
    "sig_clf.fit(X_train, y_train)\n",
    "\n",
    "predict_y = sig_clf.predict_proba(X_train)\n",
    "print('For values of best alpha = ', alpha[best_alpha], \"The train log loss is:\",log_loss(y_train, predict_y, labels=clf.classes_, eps=1e-15))\n",
    "predict_y = sig_clf.predict_proba(X_test)\n",
    "print('For values of best alpha = ', alpha[best_alpha], \"The test log loss is:\",log_loss(y_test, predict_y, labels=clf.classes_, eps=1e-15))\n",
    "predicted_y =np.argmax(predict_y,axis=1)\n",
    "print(\"Total number of data points :\", len(predicted_y))\n",
    "plot_confusion_matrix(y_test, predicted_y)"
   ]
  },
  {
   "cell_type": "markdown",
   "metadata": {
    "colab_type": "text",
    "id": "Aq73Am8FoOH2"
   },
   "source": [
    "**Here also we can see that our model improved with Tfidf vectorization in Linear-SVM. and also we can observe in both Logistic Regression and Linear-SVM that they are not overfitted as the train loss and test loss are almost equal**"
   ]
  },
  {
   "cell_type": "markdown",
   "metadata": {
    "colab_type": "text",
    "id": "sKLGrSfyqCe-"
   },
   "source": [
    "## Task 2"
   ]
  },
  {
   "cell_type": "markdown",
   "metadata": {
    "colab_type": "text",
    "id": "LmithEuDqFW-"
   },
   "source": [
    "### Do hyper-parameter tuning on XGBoost model with Tfidf Word2Vec data\n",
    "**Vectorizing the data to Tfidf Word2Vec again as the models in original notebooks have data leakage**"
   ]
  },
  {
   "cell_type": "code",
   "execution_count": 0,
   "metadata": {
    "colab": {},
    "colab_type": "code",
    "id": "4tU3FREcnSOl"
   },
   "outputs": [],
   "source": [
    "import spacy\n",
    "from tqdm import tqdm"
   ]
  },
  {
   "cell_type": "code",
   "execution_count": 0,
   "metadata": {
    "colab": {},
    "colab_type": "code",
    "id": "KnfZEEU8rGuN"
   },
   "outputs": [],
   "source": [
    "tfidf = TfidfVectorizer(stop_words='english')\n",
    "tfidf.fit_transform(quest_to_vectorize) # these questions are only taken from train data\n",
    "\n",
    "# dict key:word and value:tf-idf score\n",
    "word2tfidf = dict(zip(tfidf.get_feature_names(), tfidf.idf_))"
   ]
  },
  {
   "cell_type": "code",
   "execution_count": 0,
   "metadata": {
    "colab": {},
    "colab_type": "code",
    "id": "Z7B2zOkvrkxk"
   },
   "outputs": [],
   "source": [
    "# en_vectors_web_lg, which includes over 1 million unique vectors.\n",
    "nlp = spacy.load('en_core_web_sm')\n",
    "\n",
    "def tfidf_w2v_transform(data):\n",
    "  vecs = []\n",
    "  # https://github.com/noamraph/tqdm\n",
    "  # tqdm is used to print the progress bar\n",
    "  for qu in tqdm(list(data)):\n",
    "      doc = nlp(qu)\n",
    "      # 384 is the number of dimensions of vectors \n",
    "      mean_vec = np.zeros([len(doc), len(doc[0].vector)])\n",
    "      for word in doc:\n",
    "          # word2vec\n",
    "          vec = word.vector\n",
    "          # fetch df score\n",
    "          try:\n",
    "              idf = word2tfidf[str(word)]\n",
    "          except:\n",
    "              idf = 0\n",
    "          # compute final vec\n",
    "          mean_vec += vec * idf\n",
    "      mean_vec = mean_vec.mean(axis=0)\n",
    "      vecs.append(mean_vec)\n",
    "  return list(vecs)"
   ]
  },
  {
   "cell_type": "code",
   "execution_count": 21,
   "metadata": {
    "colab": {
     "base_uri": "https://localhost:8080/",
     "height": 85
    },
    "colab_type": "code",
    "id": "D2AltUKMuMXX",
    "outputId": "c5de71ff-9371-402a-ff18-80b327a268d0"
   },
   "outputs": [
    {
     "name": "stderr",
     "output_type": "stream",
     "text": [
      "100%|██████████| 40000/40000 [07:01<00:00, 94.86it/s]\n",
      "100%|██████████| 40000/40000 [07:01<00:00, 95.01it/s]\n",
      "100%|██████████| 10000/10000 [01:44<00:00, 95.81it/s]\n",
      "100%|██████████| 10000/10000 [01:44<00:00, 95.29it/s]\n"
     ]
    }
   ],
   "source": [
    "q1_w2v_train = tfidf_w2v_transform(q_train['question1'].values)\n",
    "q2_w2v_train = tfidf_w2v_transform(q_train['question2'].values)\n",
    "q1_w2v_test = tfidf_w2v_transform(q_test['question1'].values)\n",
    "q2_w2v_test = tfidf_w2v_transform(q_test['question2'].values)"
   ]
  },
  {
   "cell_type": "code",
   "execution_count": 22,
   "metadata": {
    "colab": {
     "base_uri": "https://localhost:8080/",
     "height": 51
    },
    "colab_type": "code",
    "id": "Ly41P4Tt0nj9",
    "outputId": "717b6d55-5e3b-4eea-bf88-ae427d1b1dd5"
   },
   "outputs": [
    {
     "name": "stdout",
     "output_type": "stream",
     "text": [
      "(40000, 218) (40000, 1)\n",
      "(10000, 218) (10000, 1)\n"
     ]
    }
   ],
   "source": [
    "X_w2v_train = hstack((feat_engg_train, nlp_feats_train, q1_w2v_train, q2_w2v_train)).tocsr()\n",
    "X_w2v_test = hstack((feat_engg_test, nlp_feats_test, q1_w2v_test, q2_w2v_test)).tocsr()\n",
    "\n",
    "print(X_w2v_train.shape, y_train.shape)\n",
    "print(X_w2v_test.shape, y_test.shape)"
   ]
  },
  {
   "cell_type": "markdown",
   "metadata": {
    "colab_type": "text",
    "id": "1cwTzjVs15r2"
   },
   "source": [
    "**The scapy nlp function gives a vector of 96 dimention for a word. So the dimentions are not as same as the dimentions in original notebook**"
   ]
  },
  {
   "cell_type": "code",
   "execution_count": 23,
   "metadata": {
    "colab": {
     "base_uri": "https://localhost:8080/",
     "height": 34
    },
    "colab_type": "code",
    "id": "Bb8Mc3pp2L26",
    "outputId": "817cf3f2-8969-450c-ba9a-babcb4431de4"
   },
   "outputs": [
    {
     "data": {
      "text/plain": [
       "96"
      ]
     },
     "execution_count": 23,
     "metadata": {
      "tags": []
     },
     "output_type": "execute_result"
    }
   ],
   "source": [
    "len(nlp('Hello').vector)"
   ]
  },
  {
   "cell_type": "markdown",
   "metadata": {
    "colab_type": "text",
    "id": "iClQz9Lt2WRu"
   },
   "source": [
    "### XGBoost with hyper-parameter tuning"
   ]
  },
  {
   "cell_type": "code",
   "execution_count": 24,
   "metadata": {
    "colab": {
     "base_uri": "https://localhost:8080/",
     "height": 326
    },
    "colab_type": "code",
    "id": "wekoBi1b1gjj",
    "outputId": "f09d0b74-4c46-4cd4-e6cf-ca8bb50a0311"
   },
   "outputs": [
    {
     "name": "stdout",
     "output_type": "stream",
     "text": [
      "eta = 0.02 and max_depth = 4: train loss = 0.3456527848904836 and test loss = 0.3577745778926357\n",
      "eta = 0.02 and max_depth = 6: train loss = 0.29704844136157044 and test loss = 0.34710550052327455\n",
      "eta = 0.02 and max_depth = 8: train loss = 0.22904690350333987 and test loss = 0.3421931875396171\n",
      "eta = 0.05 and max_depth = 4: train loss = 0.3022930904685154 and test loss = 0.3440072519325324\n",
      "eta = 0.05 and max_depth = 6: train loss = 0.21471708702347642 and test loss = 0.3403729557209994\n",
      "eta = 0.05 and max_depth = 8: train loss = 0.15272361931330034 and test loss = 0.33879815431861715\n",
      "eta = 0.1 and max_depth = 4: train loss = 0.2542708137487427 and test loss = 0.33837324280897146\n",
      "eta = 0.1 and max_depth = 6: train loss = 0.18800298595766268 and test loss = 0.33983867158069025\n",
      "eta = 0.1 and max_depth = 8: train loss = 0.13884129914616386 and test loss = 0.3425457215739836\n",
      "eta = 0.2 and max_depth = 4: train loss = 0.2642600291833135 and test loss = 0.34380304653407545\n",
      "eta = 0.2 and max_depth = 6: train loss = 0.22678442535402377 and test loss = 0.3485964069886304\n",
      "eta = 0.2 and max_depth = 8: train loss = 0.13074296321007114 and test loss = 0.3514730908657395\n",
      "eta = 0.3 and max_depth = 4: train loss = 0.28628159365964295 and test loss = 0.3461353591497171\n",
      "eta = 0.3 and max_depth = 6: train loss = 0.22113488655455116 and test loss = 0.3532407458626176\n",
      "eta = 0.3 and max_depth = 8: train loss = 0.15560197392924002 and test loss = 0.35618309074652327\n",
      "[[0.3456527848904836, 0.29704844136157044, 0.22904690350333987], [0.3022930904685154, 0.21471708702347642, 0.15272361931330034], [0.2542708137487427, 0.18800298595766268, 0.13884129914616386], [0.2642600291833135, 0.22678442535402377, 0.13074296321007114], [0.28628159365964295, 0.22113488655455116, 0.15560197392924002]]\n",
      "[[0.3577745778926357, 0.34710550052327455, 0.3421931875396171], [0.3440072519325324, 0.3403729557209994, 0.33879815431861715], [0.33837324280897146, 0.33983867158069025, 0.3425457215739836], [0.34380304653407545, 0.3485964069886304, 0.3514730908657395], [0.3461353591497171, 0.3532407458626176, 0.35618309074652327]]\n"
     ]
    }
   ],
   "source": [
    "import xgboost as xgb\n",
    "\n",
    "d_train = xgb.DMatrix(X_w2v_train, label=y_train)\n",
    "d_test = xgb.DMatrix(X_w2v_test, label=y_test)\n",
    "\n",
    "watchlist = [(d_train, 'train'), (d_test, 'valid')]\n",
    "\n",
    "train_result = []\n",
    "test_result = []\n",
    "\n",
    "etas = [0.02, 0.05, 0.1, 0.2, 0.3]\n",
    "depths = [4, 6, 8] # Taking limited range for XGBoost as it only requires underfitted base tree models\n",
    "\n",
    "for eta in etas:\n",
    "  train_sub_res = []\n",
    "  test_sub_res = []\n",
    "  for dep in depths:\n",
    "    params = {}\n",
    "    params['objective'] = 'binary:logistic'\n",
    "    params['eval_metric'] = 'logloss'\n",
    "    params['eta'] = eta\n",
    "    params['max_depth'] = dep\n",
    "\n",
    "\n",
    "    bst = xgb.train(params, d_train, 400, watchlist, early_stopping_rounds=20, verbose_eval=False)\n",
    "    \n",
    "    xgdmat = xgb.DMatrix(X_w2v_train, y_train)\n",
    "    \n",
    "    predict_y = bst.predict(d_train)\n",
    "    train_loss = log_loss(y_train, predict_y, labels=clf.classes_, eps=1e-15)\n",
    "    train_sub_res.append(train_loss)\n",
    "    \n",
    "    predict_y = bst.predict(d_test)\n",
    "    test_loss = log_loss(y_test, predict_y, labels=clf.classes_, eps=1e-15)\n",
    "    test_sub_res.append(test_loss)\n",
    "    \n",
    "    print(f\"eta = {eta} and max_depth = {dep}: train loss = {train_loss} and test loss = {test_loss}\")\n",
    "  train_result.append(train_sub_res)\n",
    "  test_result.append(test_sub_res)\n",
    "  \n",
    "print(train_result)\n",
    "print(test_result)"
   ]
  },
  {
   "cell_type": "code",
   "execution_count": 30,
   "metadata": {
    "colab": {
     "base_uri": "https://localhost:8080/",
     "height": 575
    },
    "colab_type": "code",
    "id": "QjGz8W_sBpHh",
    "outputId": "fd631717-975b-44ce-a8d0-3e461b644649"
   },
   "outputs": [
    {
     "data": {
      "image/png": "[encoded data removed]",
      "text/plain": [
       "<Figure size 432x288 with 2 Axes>"
      ]
     },
     "metadata": {
      "tags": []
     },
     "output_type": "display_data"
    },
    {
     "data": {
      "image/png": "[encoded data removed]",
      "text/plain": [
       "<Figure size 432x288 with 2 Axes>"
      ]
     },
     "metadata": {
      "tags": []
     },
     "output_type": "display_data"
    }
   ],
   "source": [
    "sns.heatmap(train_result, annot=True, fmt='.3f', xticklabels=depths, yticklabels=etas,  cmap=sns.cm.rocket_r)\n",
    "plt.title('Train Log-loss')\n",
    "plt.xlabel('max_depth')\n",
    "plt.ylabel('eta')\n",
    "plt.show()\n",
    "\n",
    "sns.heatmap(test_result, annot=True, fmt='.3f', xticklabels=depths, yticklabels=etas,  cmap=sns.cm.rocket_r)\n",
    "plt.title('Test Log-loss')\n",
    "plt.xlabel('max_depth')\n",
    "plt.ylabel('eta')\n",
    "plt.show()"
   ]
  },
  {
   "cell_type": "markdown",
   "metadata": {
    "colab_type": "text",
    "id": "WwrsLiNHC8Sv"
   },
   "source": [
    "**All the models are overfitting except with parameters max_depth=4 and eta=0.02, 0.05. As we saw performance of eta=0.02 and depth=4 in original notebook, I am going to train and show results for eta=0.05 and depth=4**"
   ]
  },
  {
   "cell_type": "code",
   "execution_count": 31,
   "metadata": {
    "colab": {
     "base_uri": "https://localhost:8080/",
     "height": 782
    },
    "colab_type": "code",
    "id": "fF3dy-RTBqWh",
    "outputId": "0101f193-41f1-4dd7-b1e8-e4b26378a872"
   },
   "outputs": [
    {
     "name": "stdout",
     "output_type": "stream",
     "text": [
      "[0]\ttrain-logloss:0.672729\tvalid-logloss:0.672858\n",
      "Multiple eval metrics have been passed: 'valid-logloss' will be used for early stopping.\n",
      "\n",
      "Will train until valid-logloss hasn't improved in 20 rounds.\n",
      "[10]\ttrain-logloss:0.53703\tvalid-logloss:0.537403\n",
      "[20]\ttrain-logloss:0.469865\tvalid-logloss:0.470636\n",
      "[30]\ttrain-logloss:0.432191\tvalid-logloss:0.433207\n",
      "[40]\ttrain-logloss:0.409219\tvalid-logloss:0.410467\n",
      "[50]\ttrain-logloss:0.394428\tvalid-logloss:0.396104\n",
      "[60]\ttrain-logloss:0.384739\tvalid-logloss:0.38692\n",
      "[70]\ttrain-logloss:0.377629\tvalid-logloss:0.380617\n",
      "[80]\ttrain-logloss:0.372184\tvalid-logloss:0.376053\n",
      "[90]\ttrain-logloss:0.368042\tvalid-logloss:0.372772\n",
      "[100]\ttrain-logloss:0.364294\tvalid-logloss:0.369606\n",
      "[110]\ttrain-logloss:0.360393\tvalid-logloss:0.366693\n",
      "[120]\ttrain-logloss:0.356797\tvalid-logloss:0.364178\n",
      "[130]\ttrain-logloss:0.353702\tvalid-logloss:0.362361\n",
      "[140]\ttrain-logloss:0.350662\tvalid-logloss:0.360611\n",
      "[150]\ttrain-logloss:0.347745\tvalid-logloss:0.358858\n",
      "[160]\ttrain-logloss:0.345049\tvalid-logloss:0.357359\n",
      "[170]\ttrain-logloss:0.342588\tvalid-logloss:0.355993\n",
      "[180]\ttrain-logloss:0.340279\tvalid-logloss:0.355191\n",
      "[190]\ttrain-logloss:0.337944\tvalid-logloss:0.354066\n",
      "[200]\ttrain-logloss:0.335594\tvalid-logloss:0.353083\n",
      "[210]\ttrain-logloss:0.333389\tvalid-logloss:0.352165\n",
      "[220]\ttrain-logloss:0.331383\tvalid-logloss:0.351546\n",
      "[230]\ttrain-logloss:0.329137\tvalid-logloss:0.350705\n",
      "[240]\ttrain-logloss:0.327256\tvalid-logloss:0.349933\n",
      "[250]\ttrain-logloss:0.325649\tvalid-logloss:0.349574\n",
      "[260]\ttrain-logloss:0.324141\tvalid-logloss:0.349191\n",
      "[270]\ttrain-logloss:0.322172\tvalid-logloss:0.348568\n",
      "[280]\ttrain-logloss:0.320592\tvalid-logloss:0.348147\n",
      "[290]\ttrain-logloss:0.318669\tvalid-logloss:0.347409\n",
      "[300]\ttrain-logloss:0.317183\tvalid-logloss:0.347089\n",
      "[310]\ttrain-logloss:0.31548\tvalid-logloss:0.346531\n",
      "[320]\ttrain-logloss:0.313975\tvalid-logloss:0.345969\n",
      "[330]\ttrain-logloss:0.312515\tvalid-logloss:0.345834\n",
      "[340]\ttrain-logloss:0.310704\tvalid-logloss:0.345286\n",
      "[350]\ttrain-logloss:0.309287\tvalid-logloss:0.345013\n",
      "[360]\ttrain-logloss:0.307923\tvalid-logloss:0.344744\n",
      "[370]\ttrain-logloss:0.306493\tvalid-logloss:0.344647\n",
      "[380]\ttrain-logloss:0.305216\tvalid-logloss:0.344303\n",
      "[390]\ttrain-logloss:0.303763\tvalid-logloss:0.344176\n",
      "[399]\ttrain-logloss:0.302288\tvalid-logloss:0.344008\n",
      "The test log loss is: 0.3440072519325324\n"
     ]
    }
   ],
   "source": [
    "params = {}\n",
    "params['objective'] = 'binary:logistic'\n",
    "params['eval_metric'] = 'logloss'\n",
    "params['eta'] = 0.05\n",
    "params['max_depth'] = 4\n",
    "\n",
    "# dtrain and watchlist is defined in above code blocks\n",
    "bst = xgb.train(params, d_train, 400, watchlist, early_stopping_rounds=20, verbose_eval=10)\n",
    "\n",
    "predict_y = bst.predict(d_test)\n",
    "print(\"The test log loss is:\",log_loss(y_test, predict_y, labels=clf.classes_, eps=1e-15))"
   ]
  },
  {
   "cell_type": "code",
   "execution_count": 32,
   "metadata": {
    "colab": {
     "base_uri": "https://localhost:8080/",
     "height": 312
    },
    "colab_type": "code",
    "id": "tmdwkIVSEqGB",
    "outputId": "517750d9-ac66-4ea4-aa4a-66e797f7df2b"
   },
   "outputs": [
    {
     "name": "stdout",
     "output_type": "stream",
     "text": [
      "Total number of data points : 10000\n"
     ]
    },
    {
     "data": {
      "image/png": "[encoded data removed]",
      "text/plain": [
       "<Figure size 1440x288 with 6 Axes>"
      ]
     },
     "metadata": {
      "tags": []
     },
     "output_type": "display_data"
    }
   ],
   "source": [
    "predicted_y =np.array(predict_y>0.5,dtype=int)\n",
    "print(\"Total number of data points :\", len(predicted_y))\n",
    "plot_confusion_matrix(y_test, predicted_y)"
   ]
  },
  {
   "cell_type": "markdown",
   "metadata": {
    "colab_type": "text",
    "id": "ryKMyS3zHF_B"
   },
   "source": [
    "## Conclusion"
   ]
  },
  {
   "cell_type": "markdown",
   "metadata": {
    "colab_type": "text",
    "id": "zfwtrqbWHRaC"
   },
   "source": [
    "- **Linear Regression and Linear-SVM models did very good with Tfidf vectorized data. And XGBoost model did slighty better with hyper-parameter tuning, as the selected hyper-parameters in original notebook are near to optimal ones.**\n",
    "- **XGBoost has lot of overfitting even when our max_depth is low. Until now the XGBoost model gave good performance compared to other models we tried.**\n",
    "- **The reason for good performance of Linear models with Tfidf Vectorization is due to high dimentionality.**"
   ]
  },
  {
   "cell_type": "code",
   "execution_count": 0,
   "metadata": {
    "colab": {},
    "colab_type": "code",
    "id": "VLljmwMIQdLg"
   },
   "outputs": [],
   "source": []
  }
 ],
 "metadata": {
  "colab": {
   "collapsed_sections": [],
   "name": "ilmnarayana@gmail.com_20.ipynb",
   "provenance": [],
   "version": "0.3.2"
  },
  "kernelspec": {
   "display_name": "Python 3",
   "language": "python",
   "name": "python3"
  },
  "language_info": {
   "codemirror_mode": {
    "name": "ipython",
    "version": 3
   },
   "file_extension": ".py",
   "mimetype": "text/x-python",
   "name": "python",
   "nbconvert_exporter": "python",
   "pygments_lexer": "ipython3",
   "version": "3.6.5"
  }
 },
 "nbformat": 4,
 "nbformat_minor": 1
}
