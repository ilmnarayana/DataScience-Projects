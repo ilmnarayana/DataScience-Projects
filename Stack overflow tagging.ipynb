{
 "cells": [
  {
   "cell_type": "code",
   "execution_count": 0,
   "metadata": {
    "colab": {},
    "colab_type": "code",
    "id": "Ihs1Hb3RU93S"
   },
   "outputs": [],
   "source": [
    "import warnings\n",
    "warnings.filterwarnings(\"ignore\")\n",
    "import pandas as pd\n",
    "import sqlite3\n",
    "import csv\n",
    "import matplotlib.pyplot as plt\n",
    "import seaborn as sns\n",
    "import numpy as np\n",
    "from wordcloud import WordCloud\n",
    "import re\n",
    "import os\n",
    "from sqlalchemy import create_engine # database connection\n",
    "import datetime as dt\n",
    "from nltk.corpus import stopwords\n",
    "from nltk.tokenize import word_tokenize\n",
    "from nltk.stem.snowball import SnowballStemmer\n",
    "from sklearn.feature_extraction.text import CountVectorizer\n",
    "from sklearn.feature_extraction.text import TfidfVectorizer\n",
    "from sklearn.multiclass import OneVsRestClassifier\n",
    "from sklearn.linear_model import SGDClassifier\n",
    "from sklearn import metrics\n",
    "from sklearn.metrics import f1_score,precision_score,recall_score\n",
    "from sklearn import svm\n",
    "from sklearn.linear_model import LogisticRegression\n",
    "from sklearn.naive_bayes import GaussianNB\n",
    "from datetime import datetime"
   ]
  },
  {
   "cell_type": "markdown",
   "metadata": {
    "colab_type": "text",
    "id": "rAZDkLNPU93Y"
   },
   "source": [
    "# Stack Overflow: Tag Prediction"
   ]
  },
  {
   "cell_type": "code",
   "execution_count": 0,
   "metadata": {
    "colab": {
     "base_uri": "https://localhost:8080/",
     "height": 139
    },
    "colab_type": "code",
    "id": "5vLiHX5KnTvY",
    "outputId": "a9b85649-340a-405d-85a3-d74c2ff8ea4a"
   },
   "outputs": [
    {
     "name": "stdout",
     "output_type": "stream",
     "text": [
      "Go to this URL in a browser: https://accounts.google.com/o/oauth2/auth?client_id=947318989803-6bn6qk8qdgf4n4g3pfee6491hc0brc4i.apps.googleusercontent.com&redirect_uri=urn%3Aietf%3Awg%3Aoauth%3A2.0%3Aoob&scope=email%20https%3A%2F%2Fwww.googleapis.com%2Fauth%2Fdocs.test%20https%3A%2F%2Fwww.googleapis.com%2Fauth%2Fdrive%20https%3A%2F%2Fwww.googleapis.com%2Fauth%2Fdrive.photos.readonly%20https%3A%2F%2Fwww.googleapis.com%2Fauth%2Fpeopleapi.readonly&response_type=code\n",
      "\n",
      "Enter your authorization code:\n",
      "··········\n",
      "Mounted at /gdrive\n",
      "/gdrive/My Drive/data\n"
     ]
    }
   ],
   "source": [
    "# Running in Google Colab\n",
    "from google.colab import drive\n",
    "drive.mount('/gdrive')\n",
    "%cd /gdrive/My\\ Drive/data"
   ]
  },
  {
   "cell_type": "markdown",
   "metadata": {
    "colab_type": "text",
    "id": "72tNpKctnXjN"
   },
   "source": [
    "**Not doing EDA and other pre-processing. Directly working on the assignment. And lot of code is taken from original notebook.**"
   ]
  },
  {
   "cell_type": "code",
   "execution_count": 0,
   "metadata": {
    "colab": {
     "base_uri": "https://localhost:8080/",
     "height": 51
    },
    "colab_type": "code",
    "id": "LCDUa4KxU97L",
    "outputId": "807d1420-1332-44d6-9055-cd340497e7b5"
   },
   "outputs": [
    {
     "name": "stdout",
     "output_type": "stream",
     "text": [
      "Tables in the databse:\n",
      "QuestionsProcessed\n"
     ]
    }
   ],
   "source": [
    "#http://www.sqlitetutorial.net/sqlite-python/create-tables/\n",
    "def create_connection(db_file):\n",
    "    \"\"\" create a database connection to the SQLite database\n",
    "        specified by db_file\n",
    "    :param db_file: database file\n",
    "    :return: Connection object or None\n",
    "    \"\"\"\n",
    "    try:\n",
    "        conn = sqlite3.connect(db_file)\n",
    "        return conn\n",
    "    except Error as e:\n",
    "        print(e)\n",
    " \n",
    "    return None\n",
    "\n",
    "def create_table(conn, create_table_sql):\n",
    "    \"\"\" create a table from the create_table_sql statement\n",
    "    :param conn: Connection object\n",
    "    :param create_table_sql: a CREATE TABLE statement\n",
    "    :return:\n",
    "    \"\"\"\n",
    "    try:\n",
    "        c = conn.cursor()\n",
    "        c.execute(create_table_sql)\n",
    "    except Error as e:\n",
    "        print(e)\n",
    "        \n",
    "def checkTableExists(dbcon):\n",
    "    cursr = dbcon.cursor()\n",
    "    str = \"select name from sqlite_master where type='table'\"\n",
    "    table_names = cursr.execute(str)\n",
    "    print(\"Tables in the databse:\")\n",
    "    tables =table_names.fetchall() \n",
    "    print(tables[0][0])\n",
    "    return(len(tables))\n",
    "\n",
    "def create_database_table(database, query):\n",
    "    conn = create_connection(database)\n",
    "    if conn is not None:\n",
    "        create_table(conn, query)\n",
    "        checkTableExists(conn)\n",
    "    else:\n",
    "        print(\"Error! cannot create the database connection.\")\n",
    "    conn.close()\n",
    "\n",
    "sql_create_table = \"\"\"CREATE TABLE IF NOT EXISTS QuestionsProcessed (question text NOT NULL, code text, tags text, words_pre integer, words_post integer, is_code integer);\"\"\"\n",
    "create_database_table(\"Processed.db\", sql_create_table)"
   ]
  },
  {
   "cell_type": "code",
   "execution_count": 0,
   "metadata": {
    "colab": {},
    "colab_type": "code",
    "id": "-FtgktWvU973"
   },
   "outputs": [],
   "source": [
    "def tags_to_choose(n):\n",
    "    t = multilabel_y.sum(axis=0).tolist()[0]\n",
    "    sorted_tags_i = sorted(range(len(t)), key=lambda i: t[i], reverse=True)\n",
    "    multilabel_yn=multilabel_y[:,sorted_tags_i[:n]]\n",
    "    return multilabel_yn\n",
    "\n",
    "def questions_explained_fn(n):\n",
    "    multilabel_yn = tags_to_choose(n)\n",
    "    x= multilabel_yn.sum(axis=1)\n",
    "    return (np.count_nonzero(x==0))"
   ]
  },
  {
   "cell_type": "markdown",
   "metadata": {
    "colab_type": "text",
    "id": "LvjtTBZ6U98y"
   },
   "source": [
    "<h2>Modeling with less data points (0.5M data points) and more weight to title and 500 tags only</h2>"
   ]
  },
  {
   "cell_type": "code",
   "execution_count": 0,
   "metadata": {
    "colab": {
     "base_uri": "https://localhost:8080/",
     "height": 51
    },
    "colab_type": "code",
    "id": "n0QKMrEwU98y",
    "outputId": "25b39117-3587-4951-9a43-971630c24097"
   },
   "outputs": [
    {
     "name": "stdout",
     "output_type": "stream",
     "text": [
      "Tables in the databse:\n",
      "QuestionsProcessed\n"
     ]
    }
   ],
   "source": [
    "sql_create_table = \"\"\"CREATE TABLE IF NOT EXISTS QuestionsProcessed (question text NOT NULL, code text, tags text, words_pre integer, words_post integer, is_code integer);\"\"\"\n",
    "create_database_table(\"Titlemoreweight.db\", sql_create_table)"
   ]
  },
  {
   "cell_type": "code",
   "execution_count": 0,
   "metadata": {
    "colab": {},
    "colab_type": "code",
    "id": "F_x-ETQJU99P"
   },
   "outputs": [],
   "source": [
    "#Taking 0.5 Million entries to a dataframe.\n",
    "write_db = 'Titlemoreweight.db'\n",
    "if os.path.isfile(write_db):\n",
    "    conn_r = create_connection(write_db)\n",
    "    if conn_r is not None:\n",
    "        preprocessed_data = pd.read_sql_query(\"\"\"SELECT question, Tags FROM QuestionsProcessed\"\"\", conn_r)\n",
    "conn_r.commit()\n",
    "conn_r.close()"
   ]
  },
  {
   "cell_type": "code",
   "execution_count": 0,
   "metadata": {
    "colab": {
     "base_uri": "https://localhost:8080/",
     "height": 204
    },
    "colab_type": "code",
    "id": "bc7hwHjBU99U",
    "outputId": "15aecde5-fdf8-4621-c2da-698987df2930"
   },
   "outputs": [
    {
     "data": {
      "text/html": [
       "<div>\n",
       "<style scoped>\n",
       "    .dataframe tbody tr th:only-of-type {\n",
       "        vertical-align: middle;\n",
       "    }\n",
       "\n",
       "    .dataframe tbody tr th {\n",
       "        vertical-align: top;\n",
       "    }\n",
       "\n",
       "    .dataframe thead th {\n",
       "        text-align: right;\n",
       "    }\n",
       "</style>\n",
       "<table border=\"1\" class=\"dataframe\">\n",
       "  <thead>\n",
       "    <tr style=\"text-align: right;\">\n",
       "      <th></th>\n",
       "      <th>question</th>\n",
       "      <th>tags</th>\n",
       "    </tr>\n",
       "  </thead>\n",
       "  <tbody>\n",
       "    <tr>\n",
       "      <th>0</th>\n",
       "      <td>dynam datagrid bind silverlight dynam datagrid...</td>\n",
       "      <td>c# silverlight data-binding</td>\n",
       "    </tr>\n",
       "    <tr>\n",
       "      <th>1</th>\n",
       "      <td>dynam datagrid bind silverlight dynam datagrid...</td>\n",
       "      <td>c# silverlight data-binding columns</td>\n",
       "    </tr>\n",
       "    <tr>\n",
       "      <th>2</th>\n",
       "      <td>java.lang.noclassdeffounderror javax servlet j...</td>\n",
       "      <td>jsp jstl</td>\n",
       "    </tr>\n",
       "    <tr>\n",
       "      <th>3</th>\n",
       "      <td>java.sql.sqlexcept microsoft odbc driver manag...</td>\n",
       "      <td>java jdbc</td>\n",
       "    </tr>\n",
       "    <tr>\n",
       "      <th>4</th>\n",
       "      <td>better way updat feed fb php sdk better way up...</td>\n",
       "      <td>facebook api facebook-php-sdk</td>\n",
       "    </tr>\n",
       "  </tbody>\n",
       "</table>\n",
       "</div>"
      ],
      "text/plain": [
       "                                            question                                 tags\n",
       "0  dynam datagrid bind silverlight dynam datagrid...          c# silverlight data-binding\n",
       "1  dynam datagrid bind silverlight dynam datagrid...  c# silverlight data-binding columns\n",
       "2  java.lang.noclassdeffounderror javax servlet j...                             jsp jstl\n",
       "3  java.sql.sqlexcept microsoft odbc driver manag...                            java jdbc\n",
       "4  better way updat feed fb php sdk better way up...        facebook api facebook-php-sdk"
      ]
     },
     "execution_count": 8,
     "metadata": {
      "tags": []
     },
     "output_type": "execute_result"
    }
   ],
   "source": [
    "preprocessed_data.head()"
   ]
  },
  {
   "cell_type": "code",
   "execution_count": 0,
   "metadata": {
    "colab": {
     "base_uri": "https://localhost:8080/",
     "height": 51
    },
    "colab_type": "code",
    "id": "Xk9V0azqU99X",
    "outputId": "381d6daf-6b62-4dc5-dab6-8419ebb4bb5c"
   },
   "outputs": [
    {
     "name": "stdout",
     "output_type": "stream",
     "text": [
      "number of data points in sample : 500000\n",
      "number of dimensions : 2\n"
     ]
    }
   ],
   "source": [
    "print(\"number of data points in sample :\", preprocessed_data.shape[0])\n",
    "print(\"number of dimensions :\", preprocessed_data.shape[1])"
   ]
  },
  {
   "cell_type": "markdown",
   "metadata": {
    "colab_type": "text",
    "id": "oUpccCSkU99Z"
   },
   "source": [
    "**Converting string Tags to multilable output variables**"
   ]
  },
  {
   "cell_type": "code",
   "execution_count": 0,
   "metadata": {
    "colab": {},
    "colab_type": "code",
    "id": "SWg_g1lNU99a"
   },
   "outputs": [],
   "source": [
    "vectorizer = CountVectorizer(tokenizer = lambda x: x.split(), binary='true')\n",
    "multilabel_y = vectorizer.fit_transform(preprocessed_data['tags'])"
   ]
  },
  {
   "cell_type": "markdown",
   "metadata": {
    "colab_type": "text",
    "id": "pbtD0Hx8U99c"
   },
   "source": [
    "**Selecting 500 Tags**"
   ]
  },
  {
   "cell_type": "code",
   "execution_count": 0,
   "metadata": {
    "colab": {},
    "colab_type": "code",
    "id": "h_nMDxAIU99d"
   },
   "outputs": [],
   "source": [
    "questions_explained = []\n",
    "total_tags=multilabel_y.shape[1]\n",
    "total_qs=preprocessed_data.shape[0]\n",
    "for i in range(500, total_tags, 100):\n",
    "    questions_explained.append(np.round(((total_qs-questions_explained_fn(i))/total_qs)*100,3))"
   ]
  },
  {
   "cell_type": "code",
   "execution_count": 0,
   "metadata": {
    "colab": {
     "base_uri": "https://localhost:8080/",
     "height": 317
    },
    "colab_type": "code",
    "id": "fggMk2IJU99f",
    "outputId": "7470e5b7-5b07-463b-c506-7e68729302ce"
   },
   "outputs": [
    {
     "data": {
      "image/png": "[encoded data removed]",
      "text/plain": [
       "<Figure size 432x288 with 1 Axes>"
      ]
     },
     "metadata": {
      "tags": []
     },
     "output_type": "display_data"
    },
    {
     "name": "stdout",
     "output_type": "stream",
     "text": [
      "with  5500 tags we are covering  99.157 % of questions\n",
      "with  500 tags we are covering  90.956 % of questions\n"
     ]
    }
   ],
   "source": [
    "fig, ax = plt.subplots()\n",
    "ax.plot(questions_explained)\n",
    "xlabel = list(500+np.array(range(-50,450,50))*50)\n",
    "ax.set_xticklabels(xlabel)\n",
    "plt.xlabel(\"Number of tags\")\n",
    "plt.ylabel(\"Number Questions coverd partially\")\n",
    "plt.grid()\n",
    "plt.show()\n",
    "# you can choose any number of tags based on your computing power, minimun is 500(it covers 90% of the tags)\n",
    "print(\"with \",5500,\"tags we are covering \",questions_explained[50],\"% of questions\")\n",
    "print(\"with \",500,\"tags we are covering \",questions_explained[0],\"% of questions\")"
   ]
  },
  {
   "cell_type": "code",
   "execution_count": 0,
   "metadata": {
    "colab": {
     "base_uri": "https://localhost:8080/",
     "height": 34
    },
    "colab_type": "code",
    "id": "VuJzfmNrU99i",
    "outputId": "ba7ed85e-4d6d-4438-fbd8-caf50d42ebac"
   },
   "outputs": [
    {
     "name": "stdout",
     "output_type": "stream",
     "text": [
      "number of questions that are not covered : 45221 out of  500000\n"
     ]
    }
   ],
   "source": [
    "# we will be taking 500 tags\n",
    "multilabel_yx = tags_to_choose(500)\n",
    "print(\"number of questions that are not covered :\", questions_explained_fn(500),\"out of \", total_qs)"
   ]
  },
  {
   "cell_type": "code",
   "execution_count": 0,
   "metadata": {
    "colab": {},
    "colab_type": "code",
    "id": "WsduwXTeU99k"
   },
   "outputs": [],
   "source": [
    "train_datasize = 400000\n",
    "x_train=preprocessed_data.head(train_datasize)\n",
    "x_test=preprocessed_data.tail(preprocessed_data.shape[0] - 400000)\n",
    "\n",
    "y_train = multilabel_yx[0:train_datasize,:]\n",
    "y_test = multilabel_yx[train_datasize:preprocessed_data.shape[0],:]"
   ]
  },
  {
   "cell_type": "code",
   "execution_count": 0,
   "metadata": {
    "colab": {
     "base_uri": "https://localhost:8080/",
     "height": 51
    },
    "colab_type": "code",
    "id": "iZZDSH_VU99m",
    "outputId": "f6510c28-1f4d-4e0e-8eb2-dc6ce881ba82",
    "scrolled": true
   },
   "outputs": [
    {
     "name": "stdout",
     "output_type": "stream",
     "text": [
      "Number of data points in train data : (400000, 500)\n",
      "Number of data points in test data : (100000, 500)\n"
     ]
    }
   ],
   "source": [
    "print(\"Number of data points in train data :\", y_train.shape)\n",
    "print(\"Number of data points in test data :\", y_test.shape)"
   ]
  },
  {
   "cell_type": "markdown",
   "metadata": {
    "colab_type": "text",
    "id": "cow4e_y4U997"
   },
   "source": [
    "<h1>Assignments</h1>"
   ]
  },
  {
   "cell_type": "markdown",
   "metadata": {
    "colab_type": "text",
    "id": "ry9fz7FmU998"
   },
   "source": [
    "<ol>\n",
    "    <li> Use bag of words upto 4 grams and compute the micro f1 score with Logistic regression(OvR) </li>\n",
    "    <li> Perform hyperparam tuning on alpha (or lambda) for Logistic regression to improve the performance using GridSearch  </li>\n",
    "    <li> Try OneVsRestClassifier  with Linear-SVM (SGDClassifier with loss-hinge)</li>\n",
    "</ol>"
   ]
  },
  {
   "cell_type": "markdown",
   "metadata": {
    "colab_type": "text",
    "id": "gDJ2PvnzU99o"
   },
   "source": [
    "<h3>Featurizing data with Count vectorizer</h3>"
   ]
  },
  {
   "cell_type": "code",
   "execution_count": 0,
   "metadata": {
    "colab": {
     "base_uri": "https://localhost:8080/",
     "height": 34
    },
    "colab_type": "code",
    "id": "530e8tW9U99o",
    "outputId": "98375eda-3447-4beb-f3d0-ecb8d7f3bf1a"
   },
   "outputs": [
    {
     "name": "stdout",
     "output_type": "stream",
     "text": [
      "Time taken to run this cell : 0:06:45.229803\n"
     ]
    }
   ],
   "source": [
    "start = datetime.now()\n",
    "vectorizer = CountVectorizer(min_df=0.00009, max_features=200000, \\\n",
    "                             tokenizer = lambda x: x.split(), ngram_range=(1,4))\n",
    "x_train_multilabel = vectorizer.fit_transform(x_train['question'])\n",
    "x_test_multilabel = vectorizer.transform(x_test['question'])\n",
    "print(\"Time taken to run this cell :\", datetime.now() - start)"
   ]
  },
  {
   "cell_type": "code",
   "execution_count": 0,
   "metadata": {
    "colab": {
     "base_uri": "https://localhost:8080/",
     "height": 51
    },
    "colab_type": "code",
    "id": "r9iDfzXIU99t",
    "outputId": "8c0cef11-0882-45ef-bb4f-88f07a9e7876"
   },
   "outputs": [
    {
     "name": "stdout",
     "output_type": "stream",
     "text": [
      "Dimensions of train data X: (400000, 95585) Y : (400000, 500)\n",
      "Dimensions of test data X: (100000, 95585) Y: (100000, 500)\n"
     ]
    }
   ],
   "source": [
    "print(\"Dimensions of train data X:\",x_train_multilabel.shape, \"Y :\",y_train.shape)\n",
    "print(\"Dimensions of test data X:\",x_test_multilabel.shape,\"Y:\",y_test.shape)"
   ]
  },
  {
   "cell_type": "markdown",
   "metadata": {
    "colab_type": "text",
    "id": "Kmmnoy4XU99v"
   },
   "source": [
    "<h3>Applying Logistic Regression with OneVsRest Classifier</h3>"
   ]
  },
  {
   "cell_type": "code",
   "execution_count": 0,
   "metadata": {
    "colab": {},
    "colab_type": "code",
    "id": "GnHoxl5DU99w"
   },
   "outputs": [],
   "source": [
    "classifier = OneVsRestClassifier(SGDClassifier(loss='log', alpha=0.00001, penalty='l1'))\n",
    "classifier.fit(x_train_multilabel, y_train)\n",
    "predictions = classifier.predict(x_test_multilabel)"
   ]
  },
  {
   "cell_type": "code",
   "execution_count": 0,
   "metadata": {
    "colab": {
     "base_uri": "https://localhost:8080/",
     "height": 136
    },
    "colab_type": "code",
    "id": "_L2Vz7WeDwMs",
    "outputId": "f1f8cb54-776b-4f82-bf67-a2cb11777fe9"
   },
   "outputs": [
    {
     "name": "stdout",
     "output_type": "stream",
     "text": [
      "For alpha = 0.00001\n",
      "Accuracy : 0.09716\n",
      "Hamming loss  0.00580116\n",
      "Micro-average quality numbers\n",
      "Precision: 0.2911, Recall: 0.4660, F1-measure: 0.3583\n",
      "Macro-average quality numbers\n",
      "Precision: 0.2061, Recall: 0.4068, F1-measure: 0.2653\n"
     ]
    }
   ],
   "source": [
    "predictions = classifier.predict(x_test_multilabel)\n",
    "\n",
    "print(\"For alpha = 0.00001\")\n",
    "print(\"Accuracy :\",metrics.accuracy_score(y_test, predictions))\n",
    "print(\"Hamming loss \",metrics.hamming_loss(y_test,predictions))\n",
    "\n",
    "precision = precision_score(y_test, predictions, average='micro')\n",
    "recall = recall_score(y_test, predictions, average='micro')\n",
    "f1 = f1_score(y_test, predictions, average='micro')\n",
    "\n",
    "print(\"Micro-average quality numbers\")\n",
    "print(\"Precision: {:.4f}, Recall: {:.4f}, F1-measure: {:.4f}\".format(precision, recall, f1))\n",
    "\n",
    "precision = precision_score(y_test, predictions, average='macro')\n",
    "recall = recall_score(y_test, predictions, average='macro')\n",
    "f1 = f1_score(y_test, predictions, average='macro')\n",
    "\n",
    "print(\"Macro-average quality numbers\")\n",
    "print(\"Precision: {:.4f}, Recall: {:.4f}, F1-measure: {:.4f}\".format(precision, recall, f1))"
   ]
  },
  {
   "cell_type": "code",
   "execution_count": 0,
   "metadata": {
    "colab": {
     "base_uri": "https://localhost:8080/",
     "height": 391
    },
    "colab_type": "code",
    "id": "ntZxI1fGCP9P",
    "outputId": "3f5d5f48-8fff-4e59-cc91-7aa4aab07951"
   },
   "outputs": [
    {
     "name": "stdout",
     "output_type": "stream",
     "text": [
      "For alpha = 0.001\n",
      "Accuracy : 0.1937\n",
      "Hamming loss  0.0031152\n",
      "Micro-average quality numbers\n",
      "Precision: 0.6039, Recall: 0.3019, F1-measure: 0.4025\n",
      "Macro-average quality numbers\n",
      "Precision: 0.4175, Recall: 0.2321, F1-measure: 0.2794\n",
      "For alpha = 0.1\n",
      "Accuracy : 0.12911\n",
      "Hamming loss  0.00343118\n",
      "Micro-average quality numbers\n",
      "Precision: 0.9291, Recall: 0.0140, F1-measure: 0.0276\n",
      "Macro-average quality numbers\n",
      "Precision: 0.0019, Recall: 0.0009, F1-measure: 0.0012\n",
      "For alpha = 1\n",
      "Accuracy : 0.12065\n",
      "Hamming loss  0.00347624\n",
      "Micro-average quality numbers\n",
      "Precision: 0.0000, Recall: 0.0000, F1-measure: 0.0000\n",
      "Macro-average quality numbers\n",
      "Precision: 0.0000, Recall: 0.0000, F1-measure: 0.0000\n",
      "Time taken to run this cell : 2:01:02.817008\n"
     ]
    }
   ],
   "source": [
    "start = datetime.now()\n",
    "log_classifiers = {0.00001: classifier}\n",
    "alphas = [0.001, 0.1, 1]\n",
    "for alpha in alphas: \n",
    "  classifier = OneVsRestClassifier(SGDClassifier(loss='log', alpha=alpha, penalty='l1'))\n",
    "  classifier.fit(x_train_multilabel, y_train)\n",
    "  predictions = classifier.predict(x_test_multilabel)\n",
    "\n",
    "  print(\"For alpha = {}\".format(alpha))\n",
    "  print(\"Accuracy :\",metrics.accuracy_score(y_test, predictions))\n",
    "  print(\"Hamming loss \",metrics.hamming_loss(y_test,predictions))\n",
    "\n",
    "  precision = precision_score(y_test, predictions, average='micro')\n",
    "  recall = recall_score(y_test, predictions, average='micro')\n",
    "  f1 = f1_score(y_test, predictions, average='micro')\n",
    "  \n",
    "  print(\"Micro-average quality numbers\")\n",
    "  print(\"Precision: {:.4f}, Recall: {:.4f}, F1-measure: {:.4f}\".format(precision, recall, f1))\n",
    "\n",
    "  precision = precision_score(y_test, predictions, average='macro')\n",
    "  recall = recall_score(y_test, predictions, average='macro')\n",
    "  f1 = f1_score(y_test, predictions, average='macro')\n",
    "\n",
    "  print(\"Macro-average quality numbers\")\n",
    "  print(\"Precision: {:.4f}, Recall: {:.4f}, F1-measure: {:.4f}\".format(precision, recall, f1))\n",
    "  log_classifiers[alpha] = classifier\n",
    "  \n",
    "\n",
    "#   print (metrics.classification_report(y_test, predictions))\n",
    "print(\"Time taken to run this cell :\", datetime.now() - start)"
   ]
  },
  {
   "cell_type": "code",
   "execution_count": 0,
   "metadata": {
    "colab": {
     "base_uri": "https://localhost:8080/",
     "height": 901
    },
    "colab_type": "code",
    "collapsed": true,
    "id": "eWLrGJOJAppP",
    "outputId": "e5a70c62-e0fa-4356-f07c-55bff44d14be"
   },
   "outputs": [
    {
     "data": {
      "text/plain": [
       "{1e-05: OneVsRestClassifier(estimator=SGDClassifier(alpha=1e-05, average=False,\n",
       "                                             class_weight=None,\n",
       "                                             early_stopping=False, epsilon=0.1,\n",
       "                                             eta0=0.0, fit_intercept=True,\n",
       "                                             l1_ratio=0.15,\n",
       "                                             learning_rate='optimal', loss='log',\n",
       "                                             max_iter=1000, n_iter_no_change=5,\n",
       "                                             n_jobs=None, penalty='l1',\n",
       "                                             power_t=0.5, random_state=None,\n",
       "                                             shuffle=True, tol=0.001,\n",
       "                                             validation_fraction=0.1, verbose=0,\n",
       "                                             warm_start=False),\n",
       "                     n_jobs=None),\n",
       " 0.001: OneVsRestClassifier(estimator=SGDClassifier(alpha=0.001, average=False,\n",
       "                                             class_weight=None,\n",
       "                                             early_stopping=False, epsilon=0.1,\n",
       "                                             eta0=0.0, fit_intercept=True,\n",
       "                                             l1_ratio=0.15,\n",
       "                                             learning_rate='optimal', loss='log',\n",
       "                                             max_iter=1000, n_iter_no_change=5,\n",
       "                                             n_jobs=None, penalty='l1',\n",
       "                                             power_t=0.5, random_state=None,\n",
       "                                             shuffle=True, tol=0.001,\n",
       "                                             validation_fraction=0.1, verbose=0,\n",
       "                                             warm_start=False),\n",
       "                     n_jobs=None),\n",
       " 0.1: OneVsRestClassifier(estimator=SGDClassifier(alpha=0.1, average=False,\n",
       "                                             class_weight=None,\n",
       "                                             early_stopping=False, epsilon=0.1,\n",
       "                                             eta0=0.0, fit_intercept=True,\n",
       "                                             l1_ratio=0.15,\n",
       "                                             learning_rate='optimal', loss='log',\n",
       "                                             max_iter=1000, n_iter_no_change=5,\n",
       "                                             n_jobs=None, penalty='l1',\n",
       "                                             power_t=0.5, random_state=None,\n",
       "                                             shuffle=True, tol=0.001,\n",
       "                                             validation_fraction=0.1, verbose=0,\n",
       "                                             warm_start=False),\n",
       "                     n_jobs=None),\n",
       " 1: OneVsRestClassifier(estimator=SGDClassifier(alpha=1, average=False,\n",
       "                                             class_weight=None,\n",
       "                                             early_stopping=False, epsilon=0.1,\n",
       "                                             eta0=0.0, fit_intercept=True,\n",
       "                                             l1_ratio=0.15,\n",
       "                                             learning_rate='optimal', loss='log',\n",
       "                                             max_iter=1000, n_iter_no_change=5,\n",
       "                                             n_jobs=None, penalty='l1',\n",
       "                                             power_t=0.5, random_state=None,\n",
       "                                             shuffle=True, tol=0.001,\n",
       "                                             validation_fraction=0.1, verbose=0,\n",
       "                                             warm_start=False),\n",
       "                     n_jobs=None)}"
      ]
     },
     "execution_count": 23,
     "metadata": {
      "tags": []
     },
     "output_type": "execute_result"
    }
   ],
   "source": [
    "log_classifiers"
   ]
  },
  {
   "cell_type": "markdown",
   "metadata": {},
   "source": [
    "<h3>Applying Linear SVM with OneVsRest Classifier</h3>"
   ]
  },
  {
   "cell_type": "code",
   "execution_count": 18,
   "metadata": {
    "colab": {
     "base_uri": "https://localhost:8080/",
     "height": 510
    },
    "colab_type": "code",
    "id": "tX_UzNIlA2Yb",
    "outputId": "1e197718-1b68-4cb5-86d1-c04ee396f3ae"
   },
   "outputs": [
    {
     "name": "stdout",
     "output_type": "stream",
     "text": [
      "For alpha = 1e-05\n",
      "Accuracy : 0.099\n",
      "Hamming loss  0.00574442\n",
      "Micro-average quality numbers\n",
      "Precision: 0.2945, Recall: 0.4677, F1-measure: 0.3614\n",
      "Macro-average quality numbers\n",
      "Precision: 0.2089, Recall: 0.4089, F1-measure: 0.2682\n",
      "For alpha = 0.001\n",
      "Accuracy : 0.19105\n",
      "Hamming loss  0.00314352\n",
      "Micro-average quality numbers\n",
      "Precision: 0.5967, Recall: 0.2954, F1-measure: 0.3952\n",
      "Macro-average quality numbers\n",
      "Precision: 0.3265, Recall: 0.2276, F1-measure: 0.2519\n",
      "For alpha = 0.1\n",
      "Accuracy : 0.12975\n",
      "Hamming loss  0.00342498\n",
      "Micro-average quality numbers\n",
      "Precision: 0.8213, Recall: 0.0188, F1-measure: 0.0369\n",
      "Macro-average quality numbers\n",
      "Precision: 0.0043, Recall: 0.0013, F1-measure: 0.0020\n",
      "For alpha = 1\n",
      "Accuracy : 0.12065\n",
      "Hamming loss  0.00347624\n",
      "Micro-average quality numbers\n",
      "Precision: 0.0000, Recall: 0.0000, F1-measure: 0.0000\n",
      "Macro-average quality numbers\n",
      "Precision: 0.0000, Recall: 0.0000, F1-measure: 0.0000\n",
      "Time taken to run this cell : 5:53:04.814878\n"
     ]
    }
   ],
   "source": [
    "start = datetime.now()\n",
    "hinge_classifiers = {}\n",
    "alphas = [0.00001, 0.001, 0.1, 1]\n",
    "for alpha in alphas: \n",
    "  classifier = OneVsRestClassifier(SGDClassifier(loss='hinge', alpha=alpha, penalty='l1'))\n",
    "  classifier.fit(x_train_multilabel, y_train)\n",
    "  predictions = classifier.predict(x_test_multilabel)\n",
    "\n",
    "  print(\"For alpha = {}\".format(alpha))\n",
    "  print(\"Accuracy :\",metrics.accuracy_score(y_test, predictions))\n",
    "  print(\"Hamming loss \",metrics.hamming_loss(y_test,predictions))\n",
    "\n",
    "  precision = precision_score(y_test, predictions, average='micro')\n",
    "  recall = recall_score(y_test, predictions, average='micro')\n",
    "  f1 = f1_score(y_test, predictions, average='micro')\n",
    "  \n",
    "  print(\"Micro-average quality numbers\")\n",
    "  print(\"Precision: {:.4f}, Recall: {:.4f}, F1-measure: {:.4f}\".format(precision, recall, f1))\n",
    "\n",
    "  precision = precision_score(y_test, predictions, average='macro')\n",
    "  recall = recall_score(y_test, predictions, average='macro')\n",
    "  f1 = f1_score(y_test, predictions, average='macro')\n",
    "\n",
    "  print(\"Macro-average quality numbers\")\n",
    "  print(\"Precision: {:.4f}, Recall: {:.4f}, F1-measure: {:.4f}\".format(precision, recall, f1))\n",
    "  hinge_classifiers[alpha] = classifier\n",
    "  \n",
    "\n",
    "#   print (metrics.classification_report(y_test, predictions))\n",
    "print(\"Time taken to run this cell :\", datetime.now() - start)"
   ]
  },
  {
   "cell_type": "markdown",
   "metadata": {},
   "source": [
    "### As we see the perforamce at alpha = 1e-5 and 1e-3 is good for both models. We can train model at 1e-4 and see the performance"
   ]
  },
  {
   "cell_type": "code",
   "execution_count": 19,
   "metadata": {
    "colab": {
     "base_uri": "https://localhost:8080/",
     "height": 136
    },
    "colab_type": "code",
    "id": "tENmhMjQnMtj",
    "outputId": "ce8b2f46-7ab0-424e-cd53-e635765bf3fe"
   },
   "outputs": [
    {
     "name": "stdout",
     "output_type": "stream",
     "text": [
      "For alpha = 0.0001\n",
      "Accuracy : 0.15549\n",
      "Hamming loss  0.00370748\n",
      "Micro-average quality numbers\n",
      "Precision: 0.4633, Recall: 0.4201, F1-measure: 0.4407\n",
      "Macro-average quality numbers\n",
      "Precision: 0.3563, Recall: 0.3642, F1-measure: 0.3474\n"
     ]
    }
   ],
   "source": [
    "alpha = 0.0001\n",
    "classifier = OneVsRestClassifier(SGDClassifier(loss='log', alpha=alpha, penalty='l1'))\n",
    "classifier.fit(x_train_multilabel, y_train)\n",
    "predictions = classifier.predict(x_test_multilabel)\n",
    "\n",
    "print(\"For alpha = {}\".format(alpha))\n",
    "print(\"Accuracy :\",metrics.accuracy_score(y_test, predictions))\n",
    "print(\"Hamming loss \",metrics.hamming_loss(y_test,predictions))\n",
    "\n",
    "precision = precision_score(y_test, predictions, average='micro')\n",
    "recall = recall_score(y_test, predictions, average='micro')\n",
    "f1 = f1_score(y_test, predictions, average='micro')\n",
    "\n",
    "print(\"Micro-average quality numbers\")\n",
    "print(\"Precision: {:.4f}, Recall: {:.4f}, F1-measure: {:.4f}\".format(precision, recall, f1))\n",
    "\n",
    "precision = precision_score(y_test, predictions, average='macro')\n",
    "recall = recall_score(y_test, predictions, average='macro')\n",
    "f1 = f1_score(y_test, predictions, average='macro')\n",
    "\n",
    "print(\"Macro-average quality numbers\")\n",
    "print(\"Precision: {:.4f}, Recall: {:.4f}, F1-measure: {:.4f}\".format(precision, recall, f1))\n",
    "# log_classifiers[alpha] = classifier"
   ]
  },
  {
   "cell_type": "code",
   "execution_count": 20,
   "metadata": {
    "colab": {
     "base_uri": "https://localhost:8080/",
     "height": 136
    },
    "colab_type": "code",
    "id": "ilE7DW7jnY9_",
    "outputId": "2bc7b3cb-62c1-481c-d834-3541884bc049"
   },
   "outputs": [
    {
     "name": "stdout",
     "output_type": "stream",
     "text": [
      "For alpha = 0.0001\n",
      "Accuracy : 0.15196\n",
      "Hamming loss  0.00372004\n",
      "Micro-average quality numbers\n",
      "Precision: 0.4613, Recall: 0.4177, F1-measure: 0.4384\n",
      "Macro-average quality numbers\n",
      "Precision: 0.3403, Recall: 0.3587, F1-measure: 0.3377\n"
     ]
    }
   ],
   "source": [
    "alpha = 0.0001\n",
    "classifier = OneVsRestClassifier(SGDClassifier(loss='hinge', alpha=alpha, penalty='l1'))\n",
    "classifier.fit(x_train_multilabel, y_train)\n",
    "predictions = classifier.predict(x_test_multilabel)\n",
    "\n",
    "print(\"For alpha = {}\".format(alpha))\n",
    "print(\"Accuracy :\",metrics.accuracy_score(y_test, predictions))\n",
    "print(\"Hamming loss \",metrics.hamming_loss(y_test,predictions))\n",
    "\n",
    "precision = precision_score(y_test, predictions, average='micro')\n",
    "recall = recall_score(y_test, predictions, average='micro')\n",
    "f1 = f1_score(y_test, predictions, average='micro')\n",
    "\n",
    "print(\"Micro-average quality numbers\")\n",
    "print(\"Precision: {:.4f}, Recall: {:.4f}, F1-measure: {:.4f}\".format(precision, recall, f1))\n",
    "\n",
    "precision = precision_score(y_test, predictions, average='macro')\n",
    "recall = recall_score(y_test, predictions, average='macro')\n",
    "f1 = f1_score(y_test, predictions, average='macro')\n",
    "\n",
    "print(\"Macro-average quality numbers\")\n",
    "print(\"Precision: {:.4f}, Recall: {:.4f}, F1-measure: {:.4f}\".format(precision, recall, f1))\n",
    "hinge_classifiers[alpha] = classifier"
   ]
  },
  {
   "cell_type": "code",
   "execution_count": 21,
   "metadata": {
    "colab": {
     "base_uri": "https://localhost:8080/",
     "height": 1122
    },
    "colab_type": "code",
    "collapsed": true,
    "id": "08adrhSGZO36",
    "outputId": "187c61a3-4e80-48c5-b473-ad69dd396ce5"
   },
   "outputs": [
    {
     "data": {
      "text/plain": [
       "{1e-05: OneVsRestClassifier(estimator=SGDClassifier(alpha=1e-05, average=False,\n",
       "                                             class_weight=None,\n",
       "                                             early_stopping=False, epsilon=0.1,\n",
       "                                             eta0=0.0, fit_intercept=True,\n",
       "                                             l1_ratio=0.15,\n",
       "                                             learning_rate='optimal',\n",
       "                                             loss='hinge', max_iter=1000,\n",
       "                                             n_iter_no_change=5, n_jobs=None,\n",
       "                                             penalty='l1', power_t=0.5,\n",
       "                                             random_state=None, shuffle=True,\n",
       "                                             tol=0.001, validation_fraction=0.1,\n",
       "                                             verbose=0, warm_start=False),\n",
       "                     n_jobs=None),\n",
       " 0.0001: OneVsRestClassifier(estimator=SGDClassifier(alpha=0.0001, average=False,\n",
       "                                             class_weight=None,\n",
       "                                             early_stopping=False, epsilon=0.1,\n",
       "                                             eta0=0.0, fit_intercept=True,\n",
       "                                             l1_ratio=0.15,\n",
       "                                             learning_rate='optimal',\n",
       "                                             loss='hinge', max_iter=1000,\n",
       "                                             n_iter_no_change=5, n_jobs=None,\n",
       "                                             penalty='l1', power_t=0.5,\n",
       "                                             random_state=None, shuffle=True,\n",
       "                                             tol=0.001, validation_fraction=0.1,\n",
       "                                             verbose=0, warm_start=False),\n",
       "                     n_jobs=None),\n",
       " 0.001: OneVsRestClassifier(estimator=SGDClassifier(alpha=0.001, average=False,\n",
       "                                             class_weight=None,\n",
       "                                             early_stopping=False, epsilon=0.1,\n",
       "                                             eta0=0.0, fit_intercept=True,\n",
       "                                             l1_ratio=0.15,\n",
       "                                             learning_rate='optimal',\n",
       "                                             loss='hinge', max_iter=1000,\n",
       "                                             n_iter_no_change=5, n_jobs=None,\n",
       "                                             penalty='l1', power_t=0.5,\n",
       "                                             random_state=None, shuffle=True,\n",
       "                                             tol=0.001, validation_fraction=0.1,\n",
       "                                             verbose=0, warm_start=False),\n",
       "                     n_jobs=None),\n",
       " 0.1: OneVsRestClassifier(estimator=SGDClassifier(alpha=0.1, average=False,\n",
       "                                             class_weight=None,\n",
       "                                             early_stopping=False, epsilon=0.1,\n",
       "                                             eta0=0.0, fit_intercept=True,\n",
       "                                             l1_ratio=0.15,\n",
       "                                             learning_rate='optimal',\n",
       "                                             loss='hinge', max_iter=1000,\n",
       "                                             n_iter_no_change=5, n_jobs=None,\n",
       "                                             penalty='l1', power_t=0.5,\n",
       "                                             random_state=None, shuffle=True,\n",
       "                                             tol=0.001, validation_fraction=0.1,\n",
       "                                             verbose=0, warm_start=False),\n",
       "                     n_jobs=None),\n",
       " 1: OneVsRestClassifier(estimator=SGDClassifier(alpha=1, average=False,\n",
       "                                             class_weight=None,\n",
       "                                             early_stopping=False, epsilon=0.1,\n",
       "                                             eta0=0.0, fit_intercept=True,\n",
       "                                             l1_ratio=0.15,\n",
       "                                             learning_rate='optimal',\n",
       "                                             loss='hinge', max_iter=1000,\n",
       "                                             n_iter_no_change=5, n_jobs=None,\n",
       "                                             penalty='l1', power_t=0.5,\n",
       "                                             random_state=None, shuffle=True,\n",
       "                                             tol=0.001, validation_fraction=0.1,\n",
       "                                             verbose=0, warm_start=False),\n",
       "                     n_jobs=None)}"
      ]
     },
     "execution_count": 21,
     "metadata": {
      "tags": []
     },
     "output_type": "execute_result"
    }
   ],
   "source": [
    "hinge_classifiers"
   ]
  },
  {
   "cell_type": "markdown",
   "metadata": {},
   "source": [
    "**We can see the performance at alpha = 1e-4 is better than other values. Printing all performance values here as they are not well printed in the above output cells. and also table is created at end.**"
   ]
  },
  {
   "cell_type": "markdown",
   "metadata": {},
   "source": [
    "**For Linear Regression (SGDClassifier with log loss):**\n",
    "- <b>For alpha = 0.00001 <br/>\n",
    "Accuracy : 0.09716 <br/>\n",
    "Hamming loss  0.00580116 <br/>\n",
    "Micro-average quality numbers <br/>\n",
    "Precision: 0.2911, Recall: 0.4660, F1-measure: 0.3583 <br/>\n",
    "Macro-average quality numbers <br/>\n",
    "Precision: 0.2061, Recall: 0.4068, F1-measure: 0.2653</b>\n",
    "- <b>For alpha = 0.0001 <br/>\n",
    "Accuracy : 0.15549 <br/>\n",
    "Hamming loss  0.00370748 <br/>\n",
    "Micro-average quality numbers <br/>\n",
    "Precision: 0.4633, Recall: 0.4201, F1-measure: 0.4407 <br/>\n",
    "Macro-average quality numbers <br/>\n",
    "Precision: 0.3563, Recall: 0.3642, F1-measure: 0.3474 </b>\n",
    "- <b>For alpha = 0.001 <br/>\n",
    "Accuracy : 0.1937 <br/>\n",
    "Hamming loss  0.0031152 <br/>\n",
    "Micro-average quality numbers <br/>\n",
    "Precision: 0.6039, Recall: 0.3019, F1-measure: 0.4025 <br/>\n",
    "Macro-average quality numbers <br/>\n",
    "Precision: 0.4175, Recall: 0.2321, F1-measure: 0.2794 </b>\n",
    "- <b>For alpha = 0.1 <br/>\n",
    "Accuracy : 0.12911 <br/>\n",
    "Hamming loss  0.00343118 <br/>\n",
    "Micro-average quality numbers <br/>\n",
    "Precision: 0.9291, Recall: 0.0140, F1-measure: 0.0276 <br/>\n",
    "Macro-average quality numbers <br/>\n",
    "Precision: 0.0019, Recall: 0.0009, F1-measure: 0.0012</b>\n",
    "- <b>For alpha = 1 <br/>\n",
    "Accuracy : 0.12065 <br/>\n",
    "Hamming loss  0.00347624 <br/>\n",
    "Micro-average quality numbers <br/>\n",
    "Precision: 0.0000, Recall: 0.0000, F1-measure: 0.0000 <br/>\n",
    "Macro-average quality numbers <br/>\n",
    "Precision: 0.0000, Recall: 0.0000, F1-measure: 0.0000\n",
    "Time taken to run this cell : 2:01:02.817008</b>"
   ]
  },
  {
   "cell_type": "markdown",
   "metadata": {},
   "source": [
    "**For Linear-SVM (SGDClassifier with hinge loss):**\n",
    "- <b>For alpha = 1e-05 <br/>\n",
    "Accuracy : 0.099 <br/>\n",
    "Hamming loss  0.00574442 <br/>\n",
    "Micro-average quality numbers <br/>\n",
    "Precision: 0.2945, Recall: 0.4677, F1-measure: 0.3614 <br/>\n",
    "Macro-average quality numbers <br/>\n",
    "Precision: 0.2089, Recall: 0.4089, F1-measure: 0.2682</b>\n",
    "- <b>For alpha = 0.0001 <br/>\n",
    "Accuracy : 0.15196 <br/>\n",
    "Hamming loss  0.00372004 <br/>\n",
    "Micro-average quality numbers <br/>\n",
    "Precision: 0.4613, Recall: 0.4177, F1-measure: 0.4384 <br/>\n",
    "Macro-average quality numbers <br/>\n",
    "Precision: 0.3403, Recall: 0.3587, F1-measure: 0.3377</b>\n",
    "- <b>For alpha = 0.001 <br/>\n",
    "Accuracy : 0.19105 <br/>\n",
    "Hamming loss  0.00314352 <br/>\n",
    "Micro-average quality numbers <br/>\n",
    "Precision: 0.5967, Recall: 0.2954, F1-measure: 0.3952 <br/>\n",
    "Macro-average quality numbers <br/>\n",
    "Precision: 0.3265, Recall: 0.2276, F1-measure: 0.2519</b>\n",
    "- <b>For alpha = 0.1 <br/>\n",
    "Accuracy : 0.12975 <br/>\n",
    "Hamming loss  0.00342498 <br/>\n",
    "Micro-average quality numbers <br/>\n",
    "Precision: 0.8213, Recall: 0.0188, F1-measure: 0.0369 <br/>\n",
    "Macro-average quality numbers <br/>\n",
    "Precision: 0.0043, Recall: 0.0013, F1-measure: 0.0020</b>\n",
    "- <b>For alpha = 1 <br/>\n",
    "Accuracy : 0.12065 <br/>\n",
    "Hamming loss  0.00347624 <br/>\n",
    "Micro-average quality numbers <br/>\n",
    "Precision: 0.0000, Recall: 0.0000, F1-measure: 0.0000 <br/>\n",
    "Macro-average quality numbers <br/>\n",
    "Precision: 0.0000, Recall: 0.0000, F1-measure: 0.0000</b>"
   ]
  },
  {
   "cell_type": "markdown",
   "metadata": {},
   "source": [
    "## Conclusion:"
   ]
  },
  {
   "cell_type": "code",
   "execution_count": 2,
   "metadata": {},
   "outputs": [
    {
     "name": "stdout",
     "output_type": "stream",
     "text": [
      "+---------------------+-------------------------+----------+----------+\n",
      "|        Model        | alpha (hyper-parameter) | micro-f1 | Accuracy |\n",
      "+---------------------+-------------------------+----------+----------+\n",
      "| Logistic Regression |          0.0001         |  0.4407  |  0.1555  |\n",
      "| Logistic Regression |          0.001          |  0.4025  |  0.1937  |\n",
      "|      Linear SVM     |          0.0001         |  0.4384  |  0.152   |\n",
      "|      Linear SVM     |          0.001          |  0.3952  |  0.191   |\n",
      "+---------------------+-------------------------+----------+----------+\n"
     ]
    }
   ],
   "source": [
    "from prettytable import PrettyTable\n",
    "\n",
    "table = PrettyTable()\n",
    "table.field_names = ['Model', 'alpha (hyper-parameter)', 'micro-f1', 'Accuracy']\n",
    "table.add_row(['Logistic Regression', 0.0001, 0.4407, 0.1555])\n",
    "table.add_row(['Logistic Regression', 0.001, 0.4025, 0.1937])\n",
    "table.add_row(['Linear SVM', 0.0001, 0.4384, 0.152])\n",
    "table.add_row(['Linear SVM', 0.001, 0.3952, 0.191])\n",
    "\n",
    "print(table)"
   ]
  },
  {
   "cell_type": "markdown",
   "metadata": {},
   "source": [
    "**Here The micro f1 score is good for alpha = 0.0001 which is around 0.44 for both models. But the accuracy is good for alpha = 0.001 which is around 0.19 for both models. Bit more hyper-parameter tuning of alpha in range [0.0001, 0.001] might give better results but due to time and RAM issues not doing any other hyper-parameter tuning.**"
   ]
  },
  {
   "cell_type": "code",
   "execution_count": null,
   "metadata": {},
   "outputs": [],
   "source": []
  }
 ],
 "metadata": {
  "accelerator": "GPU",
  "colab": {
   "collapsed_sections": [],
   "machine_shape": "hm",
   "name": "Copy of SO_Tag_Predictor.ipynb",
   "provenance": [],
   "version": "0.3.2"
  },
  "kernelspec": {
   "display_name": "Python 3",
   "language": "python",
   "name": "python3"
  },
  "language_info": {
   "codemirror_mode": {
    "name": "ipython",
    "version": 3
   },
   "file_extension": ".py",
   "mimetype": "text/x-python",
   "name": "python",
   "nbconvert_exporter": "python",
   "pygments_lexer": "ipython3",
   "version": "3.6.7"
  }
 },
 "nbformat": 4,
 "nbformat_minor": 1
}
