{
 "cells": [
  {
   "cell_type": "markdown",
   "metadata": {
    "colab_type": "text",
    "id": "WROuP70HpYRh"
   },
   "source": [
    "# Taxi demand prediction in New York City\n"
   ]
  },
  {
   "cell_type": "code",
   "execution_count": 1,
   "metadata": {
    "colab": {
     "base_uri": "https://localhost:8080/",
     "height": 139
    },
    "colab_type": "code",
    "id": "9JV2NtDclbYR",
    "outputId": "b8f0ca33-1d5b-402c-edf0-b873b793002e"
   },
   "outputs": [
    {
     "name": "stdout",
     "output_type": "stream",
     "text": [
      "Go to this URL in a browser: https://accounts.google.com/o/oauth2/auth?client_id=947318989803-6bn6qk8qdgf4n4g3pfee6491hc0brc4i.apps.googleusercontent.com&redirect_uri=urn%3Aietf%3Awg%3Aoauth%3A2.0%3Aoob&scope=email%20https%3A%2F%2Fwww.googleapis.com%2Fauth%2Fdocs.test%20https%3A%2F%2Fwww.googleapis.com%2Fauth%2Fdrive%20https%3A%2F%2Fwww.googleapis.com%2Fauth%2Fdrive.photos.readonly%20https%3A%2F%2Fwww.googleapis.com%2Fauth%2Fpeopleapi.readonly&response_type=code\n",
      "\n",
      "Enter your authorization code:\n",
      "··········\n",
      "Mounted at /gdrive\n",
      "/gdrive/My Drive/Data_Notebooks\n"
     ]
    }
   ],
   "source": [
    "# Running in Google Colab\n",
    "from google.colab import drive\n",
    "drive.mount('/gdrive')\n",
    "%cd /gdrive/My\\ Drive/Data_Notebooks"
   ]
  },
  {
   "cell_type": "markdown",
   "metadata": {
    "colab_type": "text",
    "id": "Tt07FBdUzNw6"
   },
   "source": [
    "**Removing all EDA Cells and plotting cells and directly adding features and cleaning the data.**"
   ]
  },
  {
   "cell_type": "code",
   "execution_count": 2,
   "metadata": {
    "colab": {
     "base_uri": "https://localhost:8080/",
     "height": 187
    },
    "colab_type": "code",
    "id": "KwvQLV8ypYRk",
    "outputId": "efc1583d-1c1a-47b2-88fa-20ca482f50a8"
   },
   "outputs": [
    {
     "name": "stdout",
     "output_type": "stream",
     "text": [
      "Collecting gpxpy\n",
      "\u001b[?25l  Downloading https://files.pythonhosted.org/packages/6e/d3/ce52e67771929de455e76655365a4935a2f369f76dfb0d70c20a308ec463/gpxpy-1.3.5.tar.gz (105kB)\n",
      "\u001b[K     |████████████████████████████████| 112kB 2.8MB/s \n",
      "\u001b[?25hBuilding wheels for collected packages: gpxpy\n",
      "  Building wheel for gpxpy (setup.py) ... \u001b[?25l\u001b[?25hdone\n",
      "  Created wheel for gpxpy: filename=gpxpy-1.3.5-cp36-none-any.whl size=40315 sha256=b18a631aa6b0a64fdc3971423d8aeb804f5297db5667627654801c7c90519a65\n",
      "  Stored in directory: /root/.cache/pip/wheels/d2/f0/5e/b8e85979e66efec3eaa0e47fbc5274db99fd1a07befd1b2aa4\n",
      "Successfully built gpxpy\n",
      "Installing collected packages: gpxpy\n",
      "Successfully installed gpxpy-1.3.5\n"
     ]
    }
   ],
   "source": [
    "\n",
    "!pip install gpxpy\n",
    "import dask.dataframe as dd\n",
    "\n",
    "import pandas as pd\n",
    "\n",
    "import folium\n",
    "\n",
    "import datetime\n",
    "\n",
    "import time\n",
    "\n",
    "import numpy as np\n",
    "\n",
    "import matplotlib\n",
    "matplotlib.use('nbagg')\n",
    "import matplotlib.pylab as plt\n",
    "import seaborn as sns\n",
    "from matplotlib import rcParams\n",
    "\n",
    "import gpxpy.geo\n",
    "\n",
    "from sklearn.cluster import MiniBatchKMeans, KMeans\n",
    "import math\n",
    "import pickle\n",
    "import os\n",
    "\n",
    "import xgboost as xgb\n",
    "\n",
    "from sklearn.ensemble import RandomForestRegressor\n",
    "from sklearn.metrics import mean_squared_error\n",
    "from sklearn.metrics import mean_absolute_error\n",
    "import warnings\n",
    "warnings.filterwarnings(\"ignore\")"
   ]
  },
  {
   "cell_type": "code",
   "execution_count": 3,
   "metadata": {
    "colab": {
     "base_uri": "https://localhost:8080/",
     "height": 136
    },
    "colab_type": "code",
    "id": "3JZx1AovpYRr",
    "outputId": "8e2bc88d-d08e-493c-fabe-3de80b89fcbb",
    "scrolled": true
   },
   "outputs": [
    {
     "name": "stdout",
     "output_type": "stream",
     "text": [
      "Index(['VendorID', 'tpep_pickup_datetime', 'tpep_dropoff_datetime',\n",
      "       'passenger_count', 'trip_distance', 'pickup_longitude',\n",
      "       'pickup_latitude', 'RateCodeID', 'store_and_fwd_flag',\n",
      "       'dropoff_longitude', 'dropoff_latitude', 'payment_type', 'fare_amount',\n",
      "       'extra', 'mta_tax', 'tip_amount', 'tolls_amount',\n",
      "       'improvement_surcharge', 'total_amount'],\n",
      "      dtype='object')\n"
     ]
    }
   ],
   "source": [
    "#Looking at the features\n",
    "# dask dataframe  : # https://github.com/dask/dask-tutorial/blob/master/07_dataframe.ipynb\n",
    "month = dd.read_csv('yellow_tripdata_2015-01.csv')\n",
    "print(month.columns)"
   ]
  },
  {
   "cell_type": "markdown",
   "metadata": {
    "colab_type": "text",
    "id": "ZSmVwmMJpYSO"
   },
   "source": [
    "### Trip Durations:"
   ]
  },
  {
   "cell_type": "markdown",
   "metadata": {
    "colab_type": "text",
    "id": "DuilRJY1pYSP"
   },
   "source": [
    "<p style=\"font-size:18px\">According to NYC Taxi &amp; Limousine Commision Regulations <b style= \"color:blue\">the maximum allowed trip duration in a 24 hour interval is 12 hours.</b> </p>"
   ]
  },
  {
   "cell_type": "code",
   "execution_count": 0,
   "metadata": {
    "colab": {},
    "colab_type": "code",
    "id": "1Qa9aMyFpYSQ"
   },
   "outputs": [],
   "source": [
    "#The timestamps are converted to unix so as to get duration(trip-time) & speed also pickup-times in unix are used while binning \n",
    "\n",
    "# in out data we have time in the formate \"YYYY-MM-DD HH:MM:SS\" we convert thiss sting to python time formate and then into unix time stamp\n",
    "# https://stackoverflow.com/a/27914405\n",
    "def convert_to_unix(s):\n",
    "    return time.mktime(datetime.datetime.strptime(s, \"%Y-%m-%d %H:%M:%S\").timetuple())\n",
    "\n",
    "\n",
    "\n",
    "# we return a data frame which contains the columns\n",
    "# 1.'passenger_count' : self explanatory\n",
    "# 2.'trip_distance' : self explanatory\n",
    "# 3.'pickup_longitude' : self explanatory\n",
    "# 4.'pickup_latitude' : self explanatory\n",
    "# 5.'dropoff_longitude' : self explanatory\n",
    "# 6.'dropoff_latitude' : self explanatory\n",
    "# 7.'total_amount' : total fair that was paid\n",
    "# 8.'trip_times' : duration of each trip\n",
    "# 9.'pickup_times : pickup time converted into unix time \n",
    "# 10.'Speed' : velocity of each trip\n",
    "def return_with_trip_times(month):\n",
    "    duration = month[['tpep_pickup_datetime','tpep_dropoff_datetime']].compute()\n",
    "    #pickups and dropoffs to unix time\n",
    "    duration_pickup = [convert_to_unix(x) for x in duration['tpep_pickup_datetime'].values]\n",
    "    duration_drop = [convert_to_unix(x) for x in duration['tpep_dropoff_datetime'].values]\n",
    "    #calculate duration of trips\n",
    "    durations = (np.array(duration_drop) - np.array(duration_pickup))/float(60)\n",
    "\n",
    "    #append durations of trips and speed in miles/hr to a new dataframe\n",
    "    new_frame = month[['passenger_count','trip_distance','pickup_longitude','pickup_latitude','dropoff_longitude','dropoff_latitude','total_amount']].compute()\n",
    "    \n",
    "    new_frame['trip_times'] = durations\n",
    "    new_frame['pickup_times'] = duration_pickup\n",
    "    new_frame['Speed'] = 60*(new_frame['trip_distance']/new_frame['trip_times'])\n",
    "    \n",
    "    return new_frame\n",
    "\n",
    "# print(frame_with_durations.head())\n",
    "#  passenger_count\ttrip_distance\tpickup_longitude\tpickup_latitude\tdropoff_longitude\tdropoff_latitude\ttotal_amount\ttrip_times\tpickup_times\tSpeed\n",
    "#   1                  1.59\t      -73.993896        \t40.750111    \t-73.974785      \t40.750618           \t17.05   \t 18.050000\t1.421329e+09\t5.285319\n",
    "#   1               \t3.30    \t-74.001648      \t40.724243   \t-73.994415      \t40.759109           \t17.80   \t19.833333\t1.420902e+09\t9.983193\n",
    "#   1               \t1.80     \t-73.963341      \t40.802788     \t-73.951820      \t40.824413           \t10.80   \t10.050000\t1.420902e+09\t10.746269\n",
    "#   1               \t0.50    \t-74.009087      \t40.713818    \t-74.004326       \t40.719986           \t4.80    \t1.866667\t1.420902e+09\t16.071429\n",
    "#   1               \t3.00    \t-73.971176      \t40.762428    \t-74.004181      \t40.742653           \t16.30   \t19.316667\t1.420902e+09\t9.318378\n",
    "frame_with_durations = return_with_trip_times(month)"
   ]
  },
  {
   "cell_type": "markdown",
   "metadata": {
    "colab_type": "text",
    "id": "HlvWCK4PpYT7"
   },
   "source": [
    "## Remove all outliers/erronous points."
   ]
  },
  {
   "cell_type": "markdown",
   "metadata": {},
   "source": [
    "**Outliers are removed based on the EDA done in original notebook.**"
   ]
  },
  {
   "cell_type": "code",
   "execution_count": 0,
   "metadata": {
    "colab": {},
    "colab_type": "code",
    "id": "SPORvXJHpYT8"
   },
   "outputs": [],
   "source": [
    "#removing all outliers based on our univariate analysis above\n",
    "def remove_outliers(new_frame):\n",
    "\n",
    "    \n",
    "    a = new_frame.shape[0]\n",
    "    print (\"Number of pickup records = \",a)\n",
    "    temp_frame = new_frame[((new_frame.dropoff_longitude >= -74.15) & (new_frame.dropoff_longitude <= -73.7004) &\\\n",
    "                       (new_frame.dropoff_latitude >= 40.5774) & (new_frame.dropoff_latitude <= 40.9176)) & \\\n",
    "                       ((new_frame.pickup_longitude >= -74.15) & (new_frame.pickup_latitude >= 40.5774)& \\\n",
    "                       (new_frame.pickup_longitude <= -73.7004) & (new_frame.pickup_latitude <= 40.9176))]\n",
    "    b = temp_frame.shape[0]\n",
    "    print (\"Number of outlier coordinates lying outside NY boundaries:\",(a-b))\n",
    "\n",
    "    \n",
    "    temp_frame = new_frame[(new_frame.trip_times > 0) & (new_frame.trip_times < 720)]\n",
    "    c = temp_frame.shape[0]\n",
    "    print (\"Number of outliers from trip times analysis:\",(a-c))\n",
    "    \n",
    "    \n",
    "    temp_frame = new_frame[(new_frame.trip_distance > 0) & (new_frame.trip_distance < 23)]\n",
    "    d = temp_frame.shape[0]\n",
    "    print (\"Number of outliers from trip distance analysis:\",(a-d))\n",
    "    \n",
    "    temp_frame = new_frame[(new_frame.Speed <= 65) & (new_frame.Speed >= 0)]\n",
    "    e = temp_frame.shape[0]\n",
    "    print (\"Number of outliers from speed analysis:\",(a-e))\n",
    "    \n",
    "    temp_frame = new_frame[(new_frame.total_amount <1000) & (new_frame.total_amount >0)]\n",
    "    f = temp_frame.shape[0]\n",
    "    print (\"Number of outliers from fare analysis:\",(a-f))\n",
    "    \n",
    "    \n",
    "    new_frame = new_frame[((new_frame.dropoff_longitude >= -74.15) & (new_frame.dropoff_longitude <= -73.7004) &\\\n",
    "                       (new_frame.dropoff_latitude >= 40.5774) & (new_frame.dropoff_latitude <= 40.9176)) & \\\n",
    "                       ((new_frame.pickup_longitude >= -74.15) & (new_frame.pickup_latitude >= 40.5774)& \\\n",
    "                       (new_frame.pickup_longitude <= -73.7004) & (new_frame.pickup_latitude <= 40.9176))]\n",
    "    \n",
    "    new_frame = new_frame[(new_frame.trip_times > 0) & (new_frame.trip_times < 720)]\n",
    "    new_frame = new_frame[(new_frame.trip_distance > 0) & (new_frame.trip_distance < 23)]\n",
    "    new_frame = new_frame[(new_frame.Speed < 45.31) & (new_frame.Speed > 0)]\n",
    "    new_frame = new_frame[(new_frame.total_amount <1000) & (new_frame.total_amount >0)]\n",
    "    \n",
    "    print (\"Total outliers removed\",a - new_frame.shape[0])\n",
    "    print (\"---\")\n",
    "    return new_frame"
   ]
  },
  {
   "cell_type": "code",
   "execution_count": 6,
   "metadata": {
    "colab": {
     "base_uri": "https://localhost:8080/",
     "height": 204
    },
    "colab_type": "code",
    "id": "gLt_0naFpYT-",
    "outputId": "6140ec83-48c3-4842-9351-3b8fed9d8be7",
    "scrolled": false
   },
   "outputs": [
    {
     "name": "stdout",
     "output_type": "stream",
     "text": [
      "Removing outliers in the month of Jan-2015\n",
      "----\n",
      "Number of pickup records =  12748986\n",
      "Number of outlier coordinates lying outside NY boundaries: 293919\n",
      "Number of outliers from trip times analysis: 23889\n",
      "Number of outliers from trip distance analysis: 92597\n",
      "Number of outliers from speed analysis: 24473\n",
      "Number of outliers from fare analysis: 5275\n",
      "Total outliers removed 377910\n",
      "---\n",
      "fraction of data points that remain after removing outliers 0.9703576425607495\n"
     ]
    }
   ],
   "source": [
    "print (\"Removing outliers in the month of Jan-2015\")\n",
    "print (\"----\")\n",
    "frame_with_durations_outliers_removed = remove_outliers(frame_with_durations)\n",
    "print(\"fraction of data points that remain after removing outliers\", float(len(frame_with_durations_outliers_removed))/len(frame_with_durations))"
   ]
  },
  {
   "cell_type": "markdown",
   "metadata": {
    "colab_type": "text",
    "id": "wiSR_ZaspYUA"
   },
   "source": [
    "# Data-preperation\n",
    "## Clustering/Segmentation"
   ]
  },
  {
   "cell_type": "code",
   "execution_count": 0,
   "metadata": {
    "colab": {},
    "colab_type": "code",
    "id": "bdy3QNcupYUB",
    "scrolled": false
   },
   "outputs": [],
   "source": [
    "#trying different cluster sizes to choose the right K in K-means\n",
    "coords = frame_with_durations_outliers_removed[['pickup_latitude', 'pickup_longitude']].values\n",
    "neighbours=[]\n",
    "\n",
    "def find_min_distance(cluster_centers, cluster_len):\n",
    "    nice_points = 0\n",
    "    wrong_points = 0\n",
    "    less2 = []\n",
    "    more2 = []\n",
    "    min_dist=1000\n",
    "    for i in range(0, cluster_len):\n",
    "        nice_points = 0\n",
    "        wrong_points = 0\n",
    "        for j in range(0, cluster_len):\n",
    "            if j!=i:\n",
    "                distance = gpxpy.geo.haversine_distance(cluster_centers[i][0], cluster_centers[i][1],cluster_centers[j][0], cluster_centers[j][1])\n",
    "                min_dist = min(min_dist,distance/(1.60934*1000))\n",
    "                if (distance/(1.60934*1000)) <= 2:\n",
    "                    nice_points +=1\n",
    "                else:\n",
    "                    wrong_points += 1\n",
    "        less2.append(nice_points)\n",
    "        more2.append(wrong_points)\n",
    "    neighbours.append(less2)\n",
    "    print (\"On choosing a cluster size of \",cluster_len,\"\\nAvg. Number of Clusters within the vicinity (i.e. intercluster-distance < 2):\", np.ceil(sum(less2)/len(less2)), \"\\nAvg. Number of Clusters outside the vicinity (i.e. intercluster-distance > 2):\", np.ceil(sum(more2)/len(more2)),\"\\nMin inter-cluster distance = \",min_dist,\"\\n---\")\n",
    "\n",
    "def find_clusters(increment):\n",
    "    kmeans = MiniBatchKMeans(n_clusters=increment, batch_size=10000,random_state=42).fit(coords)\n",
    "    frame_with_durations_outliers_removed['pickup_cluster'] = kmeans.predict(frame_with_durations_outliers_removed[['pickup_latitude', 'pickup_longitude']])\n",
    "    cluster_centers = kmeans.cluster_centers_\n",
    "    cluster_len = len(cluster_centers)\n",
    "    return cluster_centers, cluster_len\n",
    "\n",
    "# we need to choose number of clusters so that, there are more number of cluster regions \n",
    "#that are close to any cluster center\n",
    "# and make sure that the minimum inter cluster should not be very less\n",
    "# for increment in range(10, 100, 10):\n",
    "#     cluster_centers, cluster_len = find_clusters(increment)\n",
    "#     find_min_distance(cluster_centers, cluster_len)            "
   ]
  },
  {
   "cell_type": "markdown",
   "metadata": {
    "colab_type": "text",
    "id": "KvSvm-37yqK8"
   },
   "source": [
    "### Getting clusters for k=30"
   ]
  },
  {
   "cell_type": "code",
   "execution_count": 0,
   "metadata": {
    "colab": {},
    "colab_type": "code",
    "id": "U9hu-gmfpYUF"
   },
   "outputs": [],
   "source": [
    "# Getting 30 clusters using the kmeans \n",
    "kmeans = MiniBatchKMeans(n_clusters=30, batch_size=10000,random_state=0).fit(coords)\n",
    "frame_with_durations_outliers_removed['pickup_cluster'] = kmeans.predict(frame_with_durations_outliers_removed[['pickup_latitude', 'pickup_longitude']])"
   ]
  },
  {
   "cell_type": "markdown",
   "metadata": {
    "colab_type": "text",
    "id": "r-RK9PzspYUP"
   },
   "source": [
    "## Time-binning"
   ]
  },
  {
   "cell_type": "code",
   "execution_count": 0,
   "metadata": {
    "colab": {},
    "colab_type": "code",
    "id": "WhGxh1VXpYUQ"
   },
   "outputs": [],
   "source": [
    "#Refer:https://www.unixtimestamp.com/\n",
    "# 1420070400 : 2015-01-01 00:00:00 \n",
    "# 1422748800 : 2015-02-01 00:00:00 \n",
    "# 1425168000 : 2015-03-01 00:00:00\n",
    "# 1427846400 : 2015-04-01 00:00:00 \n",
    "# 1430438400 : 2015-05-01 00:00:00 \n",
    "# 1433116800 : 2015-06-01 00:00:00\n",
    "\n",
    "# 1451606400 : 2016-01-01 00:00:00 \n",
    "# 1454284800 : 2016-02-01 00:00:00 \n",
    "# 1456790400 : 2016-03-01 00:00:00\n",
    "# 1459468800 : 2016-04-01 00:00:00 \n",
    "# 1462060800 : 2016-05-01 00:00:00 \n",
    "# 1464739200 : 2016-06-01 00:00:00\n",
    "\n",
    "def add_pickup_bins(frame,month,year):\n",
    "    unix_pickup_times=[i for i in frame['pickup_times'].values]\n",
    "    unix_times = [[1420070400,1422748800,1425168000,1427846400,1430438400,1433116800],\\\n",
    "                    [1451606400,1454284800,1456790400,1459468800,1462060800,1464739200]]\n",
    "    \n",
    "    start_pickup_unix=unix_times[year-2015][month-1]\n",
    "    # https://www.timeanddate.com/time/zones/est\n",
    "    # (int((i-start_pickup_unix)/600)+33) : our unix time is in gmt to we are converting it to est\n",
    "    tenminutewise_binned_unix_pickup_times=[(int((i-start_pickup_unix)/600)+33) for i in unix_pickup_times]\n",
    "    frame['pickup_bins'] = np.array(tenminutewise_binned_unix_pickup_times)\n",
    "    return frame"
   ]
  },
  {
   "cell_type": "code",
   "execution_count": 0,
   "metadata": {
    "colab": {},
    "colab_type": "code",
    "id": "9bO_QAAGpYUR"
   },
   "outputs": [],
   "source": [
    "# clustering, making pickup bins and grouping by pickup cluster and pickup bins\n",
    "frame_with_durations_outliers_removed['pickup_cluster'] = kmeans.predict(frame_with_durations_outliers_removed[['pickup_latitude', 'pickup_longitude']])\n",
    "jan_2015_frame = add_pickup_bins(frame_with_durations_outliers_removed,1,2015)\n",
    "jan_2015_groupby = jan_2015_frame[['pickup_cluster','pickup_bins','trip_distance']].groupby(['pickup_cluster','pickup_bins']).count()"
   ]
  },
  {
   "cell_type": "code",
   "execution_count": 11,
   "metadata": {
    "colab": {
     "base_uri": "https://localhost:8080/",
     "height": 235
    },
    "colab_type": "code",
    "id": "Q56tfNUmpYUW",
    "outputId": "5d3721e4-fe0b-424b-9f1f-c58352a39888"
   },
   "outputs": [
    {
     "data": {
      "text/html": [
       "<div>\n",
       "<style scoped>\n",
       "    .dataframe tbody tr th:only-of-type {\n",
       "        vertical-align: middle;\n",
       "    }\n",
       "\n",
       "    .dataframe tbody tr th {\n",
       "        vertical-align: top;\n",
       "    }\n",
       "\n",
       "    .dataframe thead th {\n",
       "        text-align: right;\n",
       "    }\n",
       "</style>\n",
       "<table border=\"1\" class=\"dataframe\">\n",
       "  <thead>\n",
       "    <tr style=\"text-align: right;\">\n",
       "      <th></th>\n",
       "      <th></th>\n",
       "      <th>trip_distance</th>\n",
       "    </tr>\n",
       "    <tr>\n",
       "      <th>pickup_cluster</th>\n",
       "      <th>pickup_bins</th>\n",
       "      <th></th>\n",
       "    </tr>\n",
       "  </thead>\n",
       "  <tbody>\n",
       "    <tr>\n",
       "      <th rowspan=\"5\" valign=\"top\">0</th>\n",
       "      <th>33</th>\n",
       "      <td>138</td>\n",
       "    </tr>\n",
       "    <tr>\n",
       "      <th>34</th>\n",
       "      <td>262</td>\n",
       "    </tr>\n",
       "    <tr>\n",
       "      <th>35</th>\n",
       "      <td>311</td>\n",
       "    </tr>\n",
       "    <tr>\n",
       "      <th>36</th>\n",
       "      <td>325</td>\n",
       "    </tr>\n",
       "    <tr>\n",
       "      <th>37</th>\n",
       "      <td>381</td>\n",
       "    </tr>\n",
       "  </tbody>\n",
       "</table>\n",
       "</div>"
      ],
      "text/plain": [
       "                            trip_distance\n",
       "pickup_cluster pickup_bins               \n",
       "0              33                     138\n",
       "               34                     262\n",
       "               35                     311\n",
       "               36                     325\n",
       "               37                     381"
      ]
     },
     "execution_count": 11,
     "metadata": {
      "tags": []
     },
     "output_type": "execute_result"
    }
   ],
   "source": [
    "# hear the trip_distance represents the number of pickups that are happend in that particular 10min intravel\n",
    "# this data frame has two indices\n",
    "# primary index: pickup_cluster (cluster number)\n",
    "# secondary index : pickup_bins (we devid whole months time into 10min intravels 24*31*60/10 =4464bins)\n",
    "jan_2015_groupby.head()"
   ]
  },
  {
   "cell_type": "code",
   "execution_count": 12,
   "metadata": {
    "colab": {
     "base_uri": "https://localhost:8080/",
     "height": 629
    },
    "colab_type": "code",
    "id": "sLMjW_depYUa",
    "outputId": "0e0526c6-7456-4890-ced8-8f7a3adc31f0",
    "scrolled": false
   },
   "outputs": [
    {
     "name": "stdout",
     "output_type": "stream",
     "text": [
      "Return with trip times..\n",
      "Remove outliers..\n",
      "Number of pickup records =  10906858\n",
      "Number of outlier coordinates lying outside NY boundaries: 214677\n",
      "Number of outliers from trip times analysis: 27190\n",
      "Number of outliers from trip distance analysis: 79742\n",
      "Number of outliers from speed analysis: 21047\n",
      "Number of outliers from fare analysis: 4991\n",
      "Total outliers removed 297784\n",
      "---\n",
      "Estimating clusters..\n",
      "Final groupbying..\n",
      "Return with trip times..\n",
      "Remove outliers..\n",
      "Number of pickup records =  11382049\n",
      "Number of outlier coordinates lying outside NY boundaries: 223161\n",
      "Number of outliers from trip times analysis: 27670\n",
      "Number of outliers from trip distance analysis: 81902\n",
      "Number of outliers from speed analysis: 22437\n",
      "Number of outliers from fare analysis: 5476\n",
      "Total outliers removed 308177\n",
      "---\n",
      "Estimating clusters..\n",
      "Final groupbying..\n",
      "Return with trip times..\n",
      "Remove outliers..\n",
      "Number of pickup records =  12210952\n",
      "Number of outlier coordinates lying outside NY boundaries: 232444\n",
      "Number of outliers from trip times analysis: 30868\n",
      "Number of outliers from trip distance analysis: 87318\n",
      "Number of outliers from speed analysis: 23889\n",
      "Number of outliers from fare analysis: 5859\n",
      "Total outliers removed 324635\n",
      "---\n",
      "Estimating clusters..\n",
      "Final groupbying..\n"
     ]
    }
   ],
   "source": [
    "# upto now we cleaned data and prepared data for the month 2015,\n",
    "\n",
    "# now do the same operations for months Jan, Feb, March of 2016\n",
    "# 1. get the dataframe which inlcudes only required colums\n",
    "# 2. adding trip times, speed, unix time stamp of pickup_time\n",
    "# 4. remove the outliers based on trip_times, speed, trip_duration, total_amount\n",
    "# 5. add pickup_cluster to each data point\n",
    "# 6. add pickup_bin (index of 10min intravel to which that trip belongs to)\n",
    "# 7. group by data, based on 'pickup_cluster' and 'pickuo_bin'\n",
    "\n",
    "# Data Preparation for the months of Jan,Feb and March 2016\n",
    "def datapreparation(month,kmeans,month_no,year_no):\n",
    "    \n",
    "    print (\"Return with trip times..\")\n",
    "\n",
    "    frame_with_durations = return_with_trip_times(month)\n",
    "    \n",
    "    print (\"Remove outliers..\")\n",
    "    frame_with_durations_outliers_removed = remove_outliers(frame_with_durations)\n",
    "    \n",
    "    print (\"Estimating clusters..\")\n",
    "    frame_with_durations_outliers_removed['pickup_cluster'] = kmeans.predict(frame_with_durations_outliers_removed[['pickup_latitude', 'pickup_longitude']])\n",
    "    #frame_with_durations_outliers_removed_2016['pickup_cluster'] = kmeans.predict(frame_with_durations_outliers_removed_2016[['pickup_latitude', 'pickup_longitude']])\n",
    "\n",
    "    print (\"Final groupbying..\")\n",
    "    final_updated_frame = add_pickup_bins(frame_with_durations_outliers_removed,month_no,year_no)\n",
    "    final_groupby_frame = final_updated_frame[['pickup_cluster','pickup_bins','trip_distance']].groupby(['pickup_cluster','pickup_bins']).count()\n",
    "    \n",
    "    return final_updated_frame,final_groupby_frame\n",
    "    \n",
    "month_jan_2016 = dd.read_csv('yellow_tripdata_2016-01.csv')\n",
    "month_feb_2016 = dd.read_csv('yellow_tripdata_2016-02.csv')\n",
    "month_mar_2016 = dd.read_csv('yellow_tripdata_2016-03.csv')\n",
    "\n",
    "jan_2016_frame,jan_2016_groupby = datapreparation(month_jan_2016,kmeans,1,2016)\n",
    "feb_2016_frame,feb_2016_groupby = datapreparation(month_feb_2016,kmeans,2,2016)\n",
    "mar_2016_frame,mar_2016_groupby = datapreparation(month_mar_2016,kmeans,3,2016)"
   ]
  },
  {
   "cell_type": "markdown",
   "metadata": {
    "colab_type": "text",
    "id": "HEW9vuBwpYUc"
   },
   "source": [
    "## Smoothing"
   ]
  },
  {
   "cell_type": "code",
   "execution_count": 0,
   "metadata": {
    "colab": {},
    "colab_type": "code",
    "id": "rUMSCEHEpYUd"
   },
   "outputs": [],
   "source": [
    "# Gets the unique bins where pickup values are present for each each reigion\n",
    "\n",
    "# for each cluster region we will collect all the indices of 10min intravels in which the pickups are happened\n",
    "# we got an observation that there are some pickpbins that doesnt have any pickups\n",
    "def return_unq_pickup_bins(frame):\n",
    "    values = []\n",
    "    for i in range(0,30):\n",
    "        new = frame[frame['pickup_cluster'] == i]\n",
    "        list_unq = list(set(new['pickup_bins']))\n",
    "        list_unq.sort()\n",
    "        values.append(list_unq)\n",
    "    return values"
   ]
  },
  {
   "cell_type": "code",
   "execution_count": 0,
   "metadata": {
    "colab": {},
    "colab_type": "code",
    "id": "VeYcUCUxpYUf"
   },
   "outputs": [],
   "source": [
    "# for every month we get all indices of 10min intravels in which atleast one pickup got happened\n",
    "\n",
    "#jan\n",
    "jan_2015_unique = return_unq_pickup_bins(jan_2015_frame)\n",
    "jan_2016_unique = return_unq_pickup_bins(jan_2016_frame)\n",
    "\n",
    "#feb\n",
    "feb_2016_unique = return_unq_pickup_bins(feb_2016_frame)\n",
    "\n",
    "#march\n",
    "mar_2016_unique = return_unq_pickup_bins(mar_2016_frame)"
   ]
  },
  {
   "cell_type": "markdown",
   "metadata": {
    "colab_type": "text",
    "id": "-Ocy5bDipYUj"
   },
   "source": [
    "there are two ways to fill up these values\n",
    "<ul>\n",
    "<li> Fill the missing value with 0's</li>\n",
    "<li> Fill the missing values with the avg values\n",
    "<ul>\n",
    "<li> Case 1:(values missing at the start)  <br>Ex1: \\_ \\_ \\_ x =>ceil(x/4), ceil(x/4), ceil(x/4), ceil(x/4) <br> Ex2: \\_ \\_ x => ceil(x/3), ceil(x/3), ceil(x/3) </li>\n",
    "<li> Case 2:(values missing in middle) <br>Ex1: x \\_ \\_ y => ceil((x+y)/4), ceil((x+y)/4), ceil((x+y)/4), ceil((x+y)/4) <br> Ex2: x \\_ \\_ \\_ y => ceil((x+y)/5), ceil((x+y)/5), ceil((x+y)/5), ceil((x+y)/5), ceil((x+y)/5) </li>\n",
    "<li> Case 3:(values missing at the end)  <br>Ex1: x \\_ \\_ \\_  => ceil(x/4), ceil(x/4), ceil(x/4), ceil(x/4) <br> Ex2: x \\_  => ceil(x/2), ceil(x/2) </li>\n",
    "</ul>\n",
    "</li>\n",
    "</ul>"
   ]
  },
  {
   "cell_type": "code",
   "execution_count": 0,
   "metadata": {
    "colab": {},
    "colab_type": "code",
    "id": "B84diUuKpYUj"
   },
   "outputs": [],
   "source": [
    "# Fills a value of zero for every bin where no pickup data is present \n",
    "# the count_values: number pickps that are happened in each region for each 10min intravel\n",
    "# there wont be any value if there are no picksups.\n",
    "# values: number of unique bins\n",
    "\n",
    "# for every 10min intravel(pickup_bin) we will check it is there in our unique bin,\n",
    "# if it is there we will add the count_values[index] to smoothed data\n",
    "# if not we add 0 to the smoothed data\n",
    "# we finally return smoothed data\n",
    "def fill_missing(count_values,values):\n",
    "    smoothed_regions=[]\n",
    "    ind=0\n",
    "    for r in range(0,30):\n",
    "        smoothed_bins=[]\n",
    "        for i in range(4464):\n",
    "            if i in values[r]:\n",
    "                smoothed_bins.append(count_values[ind])\n",
    "                ind+=1\n",
    "            else:\n",
    "                smoothed_bins.append(0)\n",
    "        smoothed_regions.extend(smoothed_bins)\n",
    "    return smoothed_regions"
   ]
  },
  {
   "cell_type": "code",
   "execution_count": 0,
   "metadata": {
    "colab": {},
    "colab_type": "code",
    "id": "qtwtQnhQpYUl"
   },
   "outputs": [],
   "source": [
    "# Fills a value of zero for every bin where no pickup data is present \n",
    "# the count_values: number pickps that are happened in each region for each 10min intravel\n",
    "# there wont be any value if there are no picksups.\n",
    "# values: number of unique bins\n",
    "\n",
    "# for every 10min intravel(pickup_bin) we will check it is there in our unique bin,\n",
    "# if it is there we will add the count_values[index] to smoothed data\n",
    "# if not we add smoothed data (which is calculated based on the methods that are discussed in the above markdown cell)\n",
    "# we finally return smoothed data\n",
    "def smoothing(count_values,values):\n",
    "    smoothed_regions=[] # stores list of final smoothed values of each reigion\n",
    "    ind=0\n",
    "    repeat=0 \n",
    "    smoothed_value=0\n",
    "    for r in range(0,30):\n",
    "        smoothed_bins=[] #stores the final smoothed values\n",
    "        repeat=0\n",
    "        for i in range(4464):\n",
    "            if repeat!=0: # prevents iteration for a value which is already visited/resolved\n",
    "                repeat-=1\n",
    "                continue\n",
    "            if i in values[r]: #checks if the pickup-bin exists \n",
    "                smoothed_bins.append(count_values[ind]) # appends the value of the pickup bin if it exists\n",
    "            else:\n",
    "                if i!=0:\n",
    "                    right_hand_limit=0\n",
    "                    for j in range(i,4464):\n",
    "                        if  j not in values[r]: #searches for the left-limit or the pickup-bin value which has a pickup value\n",
    "                            continue\n",
    "                        else:\n",
    "                            right_hand_limit=j\n",
    "                            break\n",
    "                    if right_hand_limit==0:\n",
    "                    #Case 1: When we have the last/last few values are found to be missing,hence we have no right-limit here\n",
    "                        smoothed_value=count_values[ind-1]*1.0/((4463-i)+2)*1.0                               \n",
    "                        for j in range(i,4464):                              \n",
    "                            smoothed_bins.append(math.ceil(smoothed_value))\n",
    "                        smoothed_bins[i-1] = math.ceil(smoothed_value)\n",
    "                        repeat=(4463-i)\n",
    "                        ind-=1\n",
    "                    else:\n",
    "                    #Case 2: When we have the missing values between two known values\n",
    "                        smoothed_value=(count_values[ind-1]+count_values[ind])*1.0/((right_hand_limit-i)+2)*1.0             \n",
    "                        for j in range(i,right_hand_limit+1):\n",
    "                            smoothed_bins.append(math.ceil(smoothed_value))\n",
    "                        smoothed_bins[i-1] = math.ceil(smoothed_value)\n",
    "                        repeat=(right_hand_limit-i)\n",
    "                else:\n",
    "                    #Case 3: When we have the first/first few values are found to be missing,hence we have no left-limit here\n",
    "                    right_hand_limit=0\n",
    "                    for j in range(i,4464):\n",
    "                        if  j not in values[r]:\n",
    "                            continue\n",
    "                        else:\n",
    "                            right_hand_limit=j\n",
    "                            break\n",
    "                    smoothed_value=count_values[ind]*1.0/((right_hand_limit-i)+1)*1.0\n",
    "                    for j in range(i,right_hand_limit+1):\n",
    "                            smoothed_bins.append(math.ceil(smoothed_value))\n",
    "                    repeat=(right_hand_limit-i)\n",
    "            ind+=1\n",
    "        smoothed_regions.extend(smoothed_bins)\n",
    "    return smoothed_regions\n"
   ]
  },
  {
   "cell_type": "code",
   "execution_count": 0,
   "metadata": {
    "colab": {},
    "colab_type": "code",
    "id": "EHGsXfb0pYUz"
   },
   "outputs": [],
   "source": [
    "# Jan-2015 data is smoothed, Jan,Feb & March 2016 data missing values are filled with zero\n",
    "jan_2015_smooth = smoothing(jan_2015_groupby['trip_distance'].values,jan_2015_unique)\n",
    "jan_2016_smooth = fill_missing(jan_2016_groupby['trip_distance'].values,jan_2016_unique)\n",
    "feb_2016_smooth = fill_missing(feb_2016_groupby['trip_distance'].values,feb_2016_unique)\n",
    "mar_2016_smooth = fill_missing(mar_2016_groupby['trip_distance'].values,mar_2016_unique)\n",
    "\n",
    "# Making list of all the values of pickup data in every bin for a period of 3 months and storing them region-wise \n",
    "regions_cum = []\n",
    "\n",
    "# a =[1,2,3]\n",
    "# b = [2,3,4]\n",
    "# a+b = [1, 2, 3, 2, 3, 4]\n",
    "\n",
    "# number of 10min indices for jan 2015= 24*31*60/10 = 4464\n",
    "# number of 10min indices for jan 2016 = 24*31*60/10 = 4464\n",
    "# number of 10min indices for feb 2016 = 24*29*60/10 = 4176\n",
    "# number of 10min indices for march 2016 = 24*31*60/10 = 4464\n",
    "# regions_cum: it will contain 40 lists, each list will contain 4464+4176+4464 values which represents the number of pickups \n",
    "# that are happened for three months in 2016 data\n",
    "\n",
    "for i in range(0,30):\n",
    "    regions_cum.append(jan_2016_smooth[4464*i:4464*(i+1)]+feb_2016_smooth[4176*i:4176*(i+1)]+mar_2016_smooth[4464*i:4464*(i+1)])\n",
    "\n",
    "# print(len(regions_cum))\n",
    "# 30\n",
    "# print(len(regions_cum[0]))\n",
    "# 13104"
   ]
  },
  {
   "cell_type": "markdown",
   "metadata": {
    "colab_type": "text",
    "id": "XnipIdfYpYU0"
   },
   "source": [
    "## Time series and Fourier Transforms"
   ]
  },
  {
   "cell_type": "code",
   "execution_count": 0,
   "metadata": {
    "colab": {},
    "colab_type": "code",
    "id": "Kd-fYydL2yDy"
   },
   "outputs": [],
   "source": [
    "%matplotlib inline"
   ]
  },
  {
   "cell_type": "code",
   "execution_count": 19,
   "metadata": {
    "colab": {
     "base_uri": "https://localhost:8080/",
     "height": 283
    },
    "colab_type": "code",
    "id": "76vu5IXCpYU8",
    "outputId": "0f150ac9-1a35-4f18-8089-f4a7fb38dbb7",
    "scrolled": false
   },
   "outputs": [
    {
     "data": {
      "image/png": "[encoded data removed]",
      "text/plain": [
       "<Figure size 432x288 with 1 Axes>"
      ]
     },
     "metadata": {
      "tags": []
     },
     "output_type": "display_data"
    }
   ],
   "source": [
    "# getting peaks: https://blog.ytotech.com/2015/11/01/findpeaks-in-python/\n",
    "# read more about fft function : https://docs.scipy.org/doc/numpy/reference/generated/numpy.fft.fft.html\n",
    "Y    = np.fft.fft(np.array(jan_2016_smooth)[0:4460])\n",
    "# read more about the fftfreq: https://docs.scipy.org/doc/numpy/reference/generated/numpy.fft.fftfreq.html  \n",
    "freq = np.fft.fftfreq(4460, 1)\n",
    "n = len(freq)\n",
    "plt.figure()\n",
    "plt.plot( freq[:int(n/2)], np.abs(Y)[:int(n/2)] )\n",
    "plt.xlabel(\"Frequency\")\n",
    "plt.ylabel(\"Amplitude\")\n",
    "plt.show()"
   ]
  },
  {
   "cell_type": "code",
   "execution_count": 20,
   "metadata": {
    "colab": {
     "base_uri": "https://localhost:8080/",
     "height": 204
    },
    "colab_type": "code",
    "id": "Nxl7fcRl2-ch",
    "outputId": "a473faa8-5084-4209-e768-42607ea3b1c5"
   },
   "outputs": [
    {
     "data": {
      "text/html": [
       "<div>\n",
       "<style scoped>\n",
       "    .dataframe tbody tr th:only-of-type {\n",
       "        vertical-align: middle;\n",
       "    }\n",
       "\n",
       "    .dataframe tbody tr th {\n",
       "        vertical-align: top;\n",
       "    }\n",
       "\n",
       "    .dataframe thead th {\n",
       "        text-align: right;\n",
       "    }\n",
       "</style>\n",
       "<table border=\"1\" class=\"dataframe\">\n",
       "  <thead>\n",
       "    <tr style=\"text-align: right;\">\n",
       "      <th></th>\n",
       "      <th>freq</th>\n",
       "      <th>amp</th>\n",
       "    </tr>\n",
       "  </thead>\n",
       "  <tbody>\n",
       "    <tr>\n",
       "      <th>0</th>\n",
       "      <td>0.000000</td>\n",
       "      <td>722007.000000</td>\n",
       "    </tr>\n",
       "    <tr>\n",
       "      <th>31</th>\n",
       "      <td>0.006951</td>\n",
       "      <td>246726.577980</td>\n",
       "    </tr>\n",
       "    <tr>\n",
       "      <th>4398</th>\n",
       "      <td>0.013901</td>\n",
       "      <td>78143.938628</td>\n",
       "    </tr>\n",
       "    <tr>\n",
       "      <th>62</th>\n",
       "      <td>0.013901</td>\n",
       "      <td>78143.938628</td>\n",
       "    </tr>\n",
       "    <tr>\n",
       "      <th>4402</th>\n",
       "      <td>0.013004</td>\n",
       "      <td>55749.451715</td>\n",
       "    </tr>\n",
       "  </tbody>\n",
       "</table>\n",
       "</div>"
      ],
      "text/plain": [
       "          freq            amp\n",
       "0     0.000000  722007.000000\n",
       "31    0.006951  246726.577980\n",
       "4398  0.013901   78143.938628\n",
       "62    0.013901   78143.938628\n",
       "4402  0.013004   55749.451715"
      ]
     },
     "execution_count": 20,
     "metadata": {
      "tags": []
     },
     "output_type": "execute_result"
    }
   ],
   "source": [
    "freq_amp_df = pd.DataFrame(np.array([np.abs(np.real(freq)), np.abs(Y)]).T, columns=['freq', 'amp'])\n",
    "freq_amp_df.drop_duplicates(inplace=True)\n",
    "freq_amp_df.sort_values('amp', ascending=False, inplace=True)\n",
    "freq_amp_df.head()"
   ]
  },
  {
   "cell_type": "code",
   "execution_count": 21,
   "metadata": {
    "colab": {
     "base_uri": "https://localhost:8080/",
     "height": 119
    },
    "colab_type": "code",
    "id": "u-dsDc309PFi",
    "outputId": "8352c89d-7a83-48e8-8ed7-57b04038c2e6"
   },
   "outputs": [
    {
     "name": "stdout",
     "output_type": "stream",
     "text": [
      "          freq            amp\n",
      "0     0.000000  722007.000000\n",
      "31    0.006951  246726.577980\n",
      "4398  0.013901   78143.938628\n",
      "62    0.013901   78143.938628\n",
      "4402  0.013004   55749.451715\n"
     ]
    }
   ],
   "source": [
    "freq_amp_df = freq_amp_df.head()\n",
    "print(freq_amp_df)"
   ]
  },
  {
   "cell_type": "markdown",
   "metadata": {},
   "source": [
    "### Calculating Fourier data for every 10-min interval"
   ]
  },
  {
   "cell_type": "markdown",
   "metadata": {
    "colab_type": "text",
    "id": "3bi10adf56tj"
   },
   "source": [
    "**For each 10-min interval I take prev 7 days data = 1000 rows (~10080 minutes) and find fft values to add fourier features at that 10-min interval. I will take top 5 frequencies and amplitudes and add them to the matrix. So my final `fft_data` matrix size will be 30 \\* DF(13104 \\* 10)**"
   ]
  },
  {
   "cell_type": "code",
   "execution_count": 22,
   "metadata": {
    "colab": {
     "base_uri": "https://localhost:8080/",
     "height": 34
    },
    "colab_type": "code",
    "id": "jryKe5-U-6b9",
    "outputId": "ac1dc991-3ff9-4267-efda-c77b94945775"
   },
   "outputs": [
    {
     "name": "stdout",
     "output_type": "stream",
     "text": [
      "['freq_0', 'amp_0', 'freq_1', 'amp_1', 'freq_2', 'amp_2', 'freq_3', 'amp_3', 'freq_4', 'amp_4']\n"
     ]
    }
   ],
   "source": [
    "freq_amp_cols = []\n",
    "for i in range(5):\n",
    "  freq_amp_cols.append('freq_'+str(i))\n",
    "  freq_amp_cols.append('amp_'+str(i))\n",
    "\n",
    "print(freq_amp_cols)"
   ]
  },
  {
   "cell_type": "code",
   "execution_count": 23,
   "metadata": {
    "colab": {
     "base_uri": "https://localhost:8080/",
     "height": 1000
    },
    "colab_type": "code",
    "collapsed": true,
    "id": "4QZrHcSq5jHE",
    "outputId": "efbd0884-c092-48cd-a470-2d7d60728fc3"
   },
   "outputs": [
    {
     "name": "stdout",
     "output_type": "stream",
     "text": [
      "cluster 0 started..\n",
      "cluster 0 ended..\n",
      "cluster 1 started..\n",
      "cluster 1 ended..\n",
      "cluster 2 started..\n",
      "cluster 2 ended..\n",
      "cluster 3 started..\n",
      "cluster 3 ended..\n",
      "cluster 4 started..\n",
      "cluster 4 ended..\n",
      "cluster 5 started..\n",
      "cluster 5 ended..\n",
      "cluster 6 started..\n",
      "cluster 6 ended..\n",
      "cluster 7 started..\n",
      "cluster 7 ended..\n",
      "cluster 8 started..\n",
      "cluster 8 ended..\n",
      "cluster 9 started..\n",
      "cluster 9 ended..\n",
      "cluster 10 started..\n",
      "cluster 10 ended..\n",
      "cluster 11 started..\n",
      "cluster 11 ended..\n",
      "cluster 12 started..\n",
      "cluster 12 ended..\n",
      "cluster 13 started..\n",
      "cluster 13 ended..\n",
      "cluster 14 started..\n",
      "cluster 14 ended..\n",
      "cluster 15 started..\n",
      "cluster 15 ended..\n",
      "cluster 16 started..\n",
      "cluster 16 ended..\n",
      "cluster 17 started..\n",
      "cluster 17 ended..\n",
      "cluster 18 started..\n",
      "cluster 18 ended..\n",
      "cluster 19 started..\n",
      "cluster 19 ended..\n",
      "cluster 20 started..\n",
      "cluster 20 ended..\n",
      "cluster 21 started..\n",
      "cluster 21 ended..\n",
      "cluster 22 started..\n",
      "cluster 22 ended..\n",
      "cluster 23 started..\n",
      "cluster 23 ended..\n",
      "cluster 24 started..\n",
      "cluster 24 ended..\n",
      "cluster 25 started..\n",
      "cluster 25 ended..\n",
      "cluster 26 started..\n",
      "cluster 26 ended..\n",
      "cluster 27 started..\n",
      "cluster 27 ended..\n",
      "cluster 28 started..\n",
      "cluster 28 ended..\n",
      "cluster 29 started..\n",
      "cluster 29 ended..\n"
     ]
    }
   ],
   "source": [
    "fft_data = []\n",
    "ind = 0\n",
    "for reg in regions_cum:\n",
    "  print(f'cluster {ind} started..')\n",
    "  fft_data_reg = pd.DataFrame(columns = freq_amp_cols)\n",
    "  fft_data_reg.loc[0] = [0]*10\n",
    "  for i in range(1, 13104):\n",
    "    left_ind = max(0, i-1000)\n",
    "    Y    = np.fft.fft(np.array(reg)[left_ind:i])\n",
    "    freq = np.fft.fftfreq(len(Y), 1)\n",
    "    freq_amp_df = pd.DataFrame(np.array([np.abs(np.real(freq)), np.abs(Y)]).T, columns=['freq', 'amp'])\n",
    "    freq_amp_df.drop_duplicates(inplace=True)\n",
    "    freq_amp_df.sort_values('amp', ascending=False, inplace=True)\n",
    "    freq_amp_df = freq_amp_df.head()\n",
    "    freq_amp_df = freq_amp_df.values.flatten()\n",
    "    if len(freq_amp_df)<10:\n",
    "      extra_zeros = [0]*(10-len(freq_amp_df))\n",
    "      freq_amp_df = np.append(freq_amp_df, [extra_zeros])\n",
    "    fft_data_reg.loc[i] = freq_amp_df\n",
    "  fft_data.append(fft_data_reg)\n",
    "  print(f'cluster {ind} ended..')\n",
    "  ind = ind+1"
   ]
  },
  {
   "cell_type": "code",
   "execution_count": 24,
   "metadata": {
    "colab": {
     "base_uri": "https://localhost:8080/",
     "height": 51
    },
    "colab_type": "code",
    "id": "3m01xiQajTB4",
    "outputId": "478bd731-82fc-4b00-e118-37895970b995"
   },
   "outputs": [
    {
     "name": "stdout",
     "output_type": "stream",
     "text": [
      "30\n",
      "(13104, 10)\n"
     ]
    }
   ],
   "source": [
    "print(len(fft_data))\n",
    "print(fft_data[0].shape)"
   ]
  },
  {
   "cell_type": "code",
   "execution_count": 0,
   "metadata": {
    "colab": {},
    "colab_type": "code",
    "id": "J9iVFeu0pYU-"
   },
   "outputs": [],
   "source": [
    "#Preparing the Dataframe only with x(i) values as jan-2015 data and y(i) values as jan-2016\n",
    "ratios_jan = pd.DataFrame()\n",
    "ratios_jan['Given']=jan_2015_smooth\n",
    "ratios_jan['Prediction']=jan_2016_smooth\n",
    "ratios_jan['Ratios']=ratios_jan['Prediction']*1.0/ratios_jan['Given']*1.0"
   ]
  },
  {
   "cell_type": "markdown",
   "metadata": {
    "colab_type": "text",
    "id": "YORIMx7LlO8Y"
   },
   "source": [
    "**Not Running baseline models except exponential weighted average because it is used in the final model and not using ratios in the final model as they are not providing as good results as previous day`s values.**"
   ]
  },
  {
   "cell_type": "markdown",
   "metadata": {
    "colab_type": "text",
    "id": "eoV1TT2qpYVa"
   },
   "source": [
    "## Regression Models"
   ]
  },
  {
   "cell_type": "markdown",
   "metadata": {
    "colab_type": "text",
    "id": "eN4agQdupYVb"
   },
   "source": [
    "### Train-Test Split\n",
    "Before we start predictions using the tree based regression models we take 3 months of 2016 pickup data and split it such that for every region we have 70% data in train and 30% in test, ordered date-wise for every region"
   ]
  },
  {
   "cell_type": "code",
   "execution_count": 0,
   "metadata": {
    "colab": {},
    "colab_type": "code",
    "id": "wiVsOBxYpYVb",
    "scrolled": true
   },
   "outputs": [],
   "source": [
    "# Preparing data to be split into train and test, The below prepares data in cumulative form which will be later split into test and train\n",
    "# number of 10min indices for jan 2015= 24*31*60/10 = 4464\n",
    "# number of 10min indices for jan 2016 = 24*31*60/10 = 4464\n",
    "# number of 10min indices for feb 2016 = 24*29*60/10 = 4176\n",
    "# number of 10min indices for march 2016 = 24*31*60/10 = 4464\n",
    "# regions_cum: it will contain 40 lists, each list will contain 4464+4176+4464 values which represents the number of pickups \n",
    "# that are happened for three months in 2016 data\n",
    "\n",
    "# print(len(regions_cum))\n",
    "# 40\n",
    "# print(len(regions_cum[0]))\n",
    "# 12960\n",
    "\n",
    "# we take number of pickups that are happened in last 5 10min intravels\n",
    "number_of_time_stamps = 5\n",
    "\n",
    "# output varaible\n",
    "# it is list of lists\n",
    "# it will contain number of pickups 13099 for each cluster\n",
    "output = []\n",
    "\n",
    "\n",
    "# tsne_lat will contain 13104-5=13099 times lattitude of cluster center for every cluster\n",
    "# Ex: [[cent_lat 13099times],[cent_lat 13099times], [cent_lat 13099times].... 40 lists]\n",
    "# it is list of lists\n",
    "tsne_lat = []\n",
    "\n",
    "\n",
    "# tsne_lon will contain 13104-5=13099 times logitude of cluster center for every cluster\n",
    "# Ex: [[cent_long 13099times],[cent_long 13099times], [cent_long 13099times].... 40 lists]\n",
    "# it is list of lists\n",
    "tsne_lon = []\n",
    "\n",
    "# we will code each day \n",
    "# sunday = 0, monday=1, tue = 2, wed=3, thur=4, fri=5,sat=6\n",
    "# for every cluster we will be adding 13099 values, each value represent to which day of the week that pickup bin belongs to\n",
    "# it is list of lists\n",
    "tsne_weekday = []\n",
    "\n",
    "# its an numbpy array, of shape (523960, 5)\n",
    "# each row corresponds to an entry in out data\n",
    "# for the first row we will have [f0,f1,f2,f3,f4] fi=number of pickups happened in i+1th 10min intravel(bin)\n",
    "# the second row will have [f1,f2,f3,f4,f5]\n",
    "# the third row will have [f2,f3,f4,f5,f6]\n",
    "# and so on...\n",
    "tsne_feature = []\n",
    "\n",
    "\n",
    "tsne_feature = [0]*number_of_time_stamps\n",
    "for i in range(0,30):\n",
    "    tsne_lat.append([kmeans.cluster_centers_[i][0]]*13099)\n",
    "    tsne_lon.append([kmeans.cluster_centers_[i][1]]*13099)\n",
    "    # jan 1st 2016 is thursday, so we start our day from 4: \"(int(k/144))%7+4\"\n",
    "    # our prediction start from 5th 10min intravel since we need to have number of pickups that are happened in last 5 pickup bins\n",
    "    tsne_weekday.append([int(((int(k/144))%7+4)%7) for k in range(5,4464+4176+4464)])\n",
    "    # regions_cum is a list of lists [[x1,x2,x3..x13104], [x1,x2,x3..x13104], [x1,x2,x3..x13104], [x1,x2,x3..x13104], [x1,x2,x3..x13104], .. 40 lsits]\n",
    "    tsne_feature = np.vstack((tsne_feature, [regions_cum[i][r:r+number_of_time_stamps] for r in range(0,len(regions_cum[i])-number_of_time_stamps)]))\n",
    "    output.append(regions_cum[i][5:])\n",
    "tsne_feature = tsne_feature[1:]"
   ]
  },
  {
   "cell_type": "code",
   "execution_count": 27,
   "metadata": {
    "colab": {
     "base_uri": "https://localhost:8080/",
     "height": 34
    },
    "colab_type": "code",
    "id": "HMv1rC51pYVc",
    "outputId": "1546041d-1de5-45e2-baa0-0556993ee2ef"
   },
   "outputs": [
    {
     "data": {
      "text/plain": [
       "True"
      ]
     },
     "execution_count": 27,
     "metadata": {
      "tags": []
     },
     "output_type": "execute_result"
    }
   ],
   "source": [
    "len(tsne_lat[0])*len(tsne_lat) == tsne_feature.shape[0] == len(tsne_weekday)*len(tsne_weekday[0]) == 30*13099 == len(output)*len(output[0])"
   ]
  },
  {
   "cell_type": "markdown",
   "metadata": {},
   "source": [
    "**Exponential moving averages**"
   ]
  },
  {
   "cell_type": "code",
   "execution_count": 0,
   "metadata": {
    "colab": {},
    "colab_type": "code",
    "id": "ofQ8zCtgpYVe"
   },
   "outputs": [],
   "source": [
    "# Getting the predictions of exponential moving averages to be used as a feature in cumulative form\n",
    "\n",
    "# upto now we computed 8 features for every data point that starts from 50th min of the day\n",
    "# 1. cluster center lattitude\n",
    "# 2. cluster center longitude\n",
    "# 3. day of the week \n",
    "# 4. f_t_1: number of pickups that are happened previous t-1th 10min intravel\n",
    "# 5. f_t_2: number of pickups that are happened previous t-2th 10min intravel\n",
    "# 6. f_t_3: number of pickups that are happened previous t-3th 10min intravel\n",
    "# 7. f_t_4: number of pickups that are happened previous t-4th 10min intravel\n",
    "# 8. f_t_5: number of pickups that are happened previous t-5th 10min intravel\n",
    "\n",
    "# from the baseline models we said the exponential weighted moving avarage gives us the best error\n",
    "# we will try to add the same exponential weighted moving avarage at t as a feature to our data\n",
    "# exponential weighted moving avarage => p'(t) = alpha*p'(t-1) + (1-alpha)*P(t-1) \n",
    "alpha=0.3\n",
    "\n",
    "# it is a temporary array that store exponential weighted moving avarage for each 10min intravel, \n",
    "# for each cluster it will get reset\n",
    "# for every cluster it contains 13104 values\n",
    "predicted_values=[]\n",
    "\n",
    "# it is similar like tsne_lat\n",
    "# it is list of lists\n",
    "# predict_list is a list of lists [[x5,x6,x7..x13104], [x5,x6,x7..x13104], [x5,x6,x7..x13104], [x5,x6,x7..x13104], [x5,x6,x7..x13104], .. 40 lsits]\n",
    "predict_list = []\n",
    "tsne_flat_exp_avg = []\n",
    "for r in range(0,30):\n",
    "    for i in range(0,13104):\n",
    "        if i==0:\n",
    "            predicted_value= regions_cum[r][0]\n",
    "            predicted_values.append(0)\n",
    "            continue\n",
    "        predicted_values.append(predicted_value)\n",
    "        predicted_value =int((alpha*predicted_value) + (1-alpha)*(regions_cum[r][i]))\n",
    "    predict_list.append(predicted_values[5:])\n",
    "    predicted_values=[]"
   ]
  },
  {
   "cell_type": "code",
   "execution_count": 29,
   "metadata": {
    "colab": {
     "base_uri": "https://localhost:8080/",
     "height": 51
    },
    "colab_type": "code",
    "id": "OvIFa9-PpYVf",
    "outputId": "9917b270-251c-45f8-c8f5-988df4fd3695"
   },
   "outputs": [
    {
     "name": "stdout",
     "output_type": "stream",
     "text": [
      "30\n",
      "(13099, 10)\n"
     ]
    }
   ],
   "source": [
    "for i in range(30):\n",
    "  fft_data[i] = fft_data[i][5:]\n",
    "print(len(fft_data))\n",
    "print(fft_data[0].shape)"
   ]
  },
  {
   "cell_type": "code",
   "execution_count": 30,
   "metadata": {
    "colab": {
     "base_uri": "https://localhost:8080/",
     "height": 51
    },
    "colab_type": "code",
    "id": "31AvW-MApYVf",
    "outputId": "293f10aa-f728-45dd-b5e9-ad9261347091"
   },
   "outputs": [
    {
     "name": "stdout",
     "output_type": "stream",
     "text": [
      "size of train data : 9169\n",
      "size of test data : 3929\n"
     ]
    }
   ],
   "source": [
    "# train, test split : 70% 30% split\n",
    "# Before we start predictions using the tree based regression models we take 3 months of 2016 pickup data \n",
    "# and split it such that for every region we have 70% data in train and 30% in test,\n",
    "# ordered date-wise for every region\n",
    "print(\"size of train data :\", int(13099*0.7))\n",
    "print(\"size of test data :\", int(13099*0.3))"
   ]
  },
  {
   "cell_type": "code",
   "execution_count": 0,
   "metadata": {
    "colab": {},
    "colab_type": "code",
    "id": "Ty3ywNTepYVh"
   },
   "outputs": [],
   "source": [
    "# extracting first 9169 timestamp values i.e 70% of 13099 (total timestamps) for our training data\n",
    "train_features =  [tsne_feature[i*13099:(13099*i+9169)] for i in range(0,30)]\n",
    "# temp = [0]*(12955 - 9068)\n",
    "test_features = [tsne_feature[(13099*(i))+9169:13099*(i+1)] for i in range(0,30)]"
   ]
  },
  {
   "cell_type": "code",
   "execution_count": 32,
   "metadata": {
    "colab": {
     "base_uri": "https://localhost:8080/",
     "height": 51
    },
    "colab_type": "code",
    "id": "9T0p_qhipYVi",
    "outputId": "e63abf3e-8dff-447c-af2c-0fd5f5fda8cc",
    "scrolled": false
   },
   "outputs": [
    {
     "name": "stdout",
     "output_type": "stream",
     "text": [
      "Number of data clusters 30 Number of data points in trian data 9169 Each data point contains 5 features\n",
      "Number of data clusters 30 Number of data points in test data 3930 Each data point contains 5 features\n"
     ]
    }
   ],
   "source": [
    "print(\"Number of data clusters\",len(train_features), \"Number of data points in trian data\", len(train_features[0]), \"Each data point contains\", len(train_features[0][0]),\"features\")\n",
    "print(\"Number of data clusters\",len(train_features), \"Number of data points in test data\", len(test_features[0]), \"Each data point contains\", len(test_features[0][0]),\"features\")"
   ]
  },
  {
   "cell_type": "code",
   "execution_count": 0,
   "metadata": {
    "colab": {},
    "colab_type": "code",
    "id": "cUrc4FPepYVk"
   },
   "outputs": [],
   "source": [
    "# extracting first 9169 timestamp values i.e 70% of 13099 (total timestamps) for our training data\n",
    "tsne_train_flat_lat = [i[:9169] for i in tsne_lat]\n",
    "tsne_train_flat_lon = [i[:9169] for i in tsne_lon]\n",
    "tsne_train_flat_weekday = [i[:9169] for i in tsne_weekday]\n",
    "tsne_train_flat_output = [i[:9169] for i in output]\n",
    "tsne_train_flat_exp_avg = [i[:9169] for i in predict_list]"
   ]
  },
  {
   "cell_type": "code",
   "execution_count": 0,
   "metadata": {
    "colab": {},
    "colab_type": "code",
    "id": "jJ4h3S58pYVl"
   },
   "outputs": [],
   "source": [
    "# extracting the rest of the timestamp values i.e 30% of 12956 (total timestamps) for our test data\n",
    "tsne_test_flat_lat = [i[9169:] for i in tsne_lat]\n",
    "tsne_test_flat_lon = [i[9169:] for i in tsne_lon]\n",
    "tsne_test_flat_weekday = [i[9169:] for i in tsne_weekday]\n",
    "tsne_test_flat_output = [i[9169:] for i in output]\n",
    "tsne_test_flat_exp_avg = [i[9169:] for i in predict_list]"
   ]
  },
  {
   "cell_type": "code",
   "execution_count": 0,
   "metadata": {
    "colab": {},
    "colab_type": "code",
    "id": "gNmxi1aYq-aZ"
   },
   "outputs": [],
   "source": [
    "fft_train_data = [i[:9169] for i in fft_data]\n",
    "fft_test_data = [i[9169:] for i in fft_data]"
   ]
  },
  {
   "cell_type": "code",
   "execution_count": 0,
   "metadata": {
    "colab": {},
    "colab_type": "code",
    "id": "A3_aVVZnpYVm"
   },
   "outputs": [],
   "source": [
    "# the above contains values in the form of list of lists (i.e. list of values of each region), here we make all of them in one list\n",
    "train_new_features = []\n",
    "for i in range(0,30):\n",
    "    train_new_features.extend(train_features[i])\n",
    "test_new_features = []\n",
    "for i in range(0,30):\n",
    "    test_new_features.extend(test_features[i])"
   ]
  },
  {
   "cell_type": "code",
   "execution_count": 37,
   "metadata": {
    "colab": {
     "base_uri": "https://localhost:8080/",
     "height": 51
    },
    "colab_type": "code",
    "id": "0ZhxsHI9sDlB",
    "outputId": "253ba0b1-841b-4d82-d51b-99294a9d51e7"
   },
   "outputs": [
    {
     "name": "stdout",
     "output_type": "stream",
     "text": [
      "(275070, 10)\n",
      "(117900, 10)\n"
     ]
    }
   ],
   "source": [
    "fft_train_data = pd.concat(fft_train_data, ignore_index=True)\n",
    "fft_test_data = pd.concat(fft_test_data, ignore_index=True)\n",
    "print(fft_train_data.shape)\n",
    "print(fft_test_data.shape)"
   ]
  },
  {
   "cell_type": "code",
   "execution_count": 0,
   "metadata": {
    "colab": {},
    "colab_type": "code",
    "id": "CacNoTj8pYVo"
   },
   "outputs": [],
   "source": [
    "# converting lists of lists into sinle list i.e flatten\n",
    "# a  = [[1,2,3,4],[4,6,7,8]]\n",
    "# print(sum(a,[]))\n",
    "# [1, 2, 3, 4, 4, 6, 7, 8]\n",
    "\n",
    "tsne_train_lat = sum(tsne_train_flat_lat, [])\n",
    "tsne_train_lon = sum(tsne_train_flat_lon, [])\n",
    "tsne_train_weekday = sum(tsne_train_flat_weekday, [])\n",
    "tsne_train_output = sum(tsne_train_flat_output, [])\n",
    "tsne_train_exp_avg = sum(tsne_train_flat_exp_avg,[])"
   ]
  },
  {
   "cell_type": "code",
   "execution_count": 0,
   "metadata": {
    "colab": {},
    "colab_type": "code",
    "id": "vAHbGnkopYVs"
   },
   "outputs": [],
   "source": [
    "# converting lists of lists into sinle list i.e flatten\n",
    "# a  = [[1,2,3,4],[4,6,7,8]]\n",
    "# print(sum(a,[]))\n",
    "# [1, 2, 3, 4, 4, 6, 7, 8]\n",
    "\n",
    "tsne_test_lat = sum(tsne_test_flat_lat, [])\n",
    "tsne_test_lon = sum(tsne_test_flat_lon, [])\n",
    "tsne_test_weekday = sum(tsne_test_flat_weekday, [])\n",
    "tsne_test_output = sum(tsne_test_flat_output, [])\n",
    "tsne_test_exp_avg = sum(tsne_test_flat_exp_avg,[])"
   ]
  },
  {
   "cell_type": "code",
   "execution_count": 40,
   "metadata": {
    "colab": {
     "base_uri": "https://localhost:8080/",
     "height": 34
    },
    "colab_type": "code",
    "id": "6d-0xxZPuxJm",
    "outputId": "098fc043-3dbb-4a14-f1b0-7658d643d9be"
   },
   "outputs": [
    {
     "data": {
      "text/plain": [
       "275070"
      ]
     },
     "execution_count": 40,
     "metadata": {
      "tags": []
     },
     "output_type": "execute_result"
    }
   ],
   "source": [
    "columns = ['ft_5','ft_4','ft_3','ft_2','ft_1']\n",
    "df_train = pd.DataFrame(data=train_new_features, columns=columns)\n",
    "sum(df_train.index == fft_train_data.index)"
   ]
  },
  {
   "cell_type": "code",
   "execution_count": 0,
   "metadata": {
    "colab": {},
    "colab_type": "code",
    "id": "xMWj_5GOwfDA"
   },
   "outputs": [],
   "source": [
    "df_train_clusters = np.array([[i]*9169 for i in range(30)]).flatten()\n",
    "df_test_clusters = np.array([[i]*3930 for i in range(30)]).flatten()"
   ]
  },
  {
   "cell_type": "code",
   "execution_count": 42,
   "metadata": {
    "colab": {
     "base_uri": "https://localhost:8080/",
     "height": 34
    },
    "colab_type": "code",
    "id": "j5ND-T1apYVt",
    "outputId": "62043b5f-e33f-4035-f64c-e43eeddb4833"
   },
   "outputs": [
    {
     "name": "stdout",
     "output_type": "stream",
     "text": [
      "(275070, 20)\n"
     ]
    }
   ],
   "source": [
    "# Preparing the data frame for our train data\n",
    "columns = ['ft_5','ft_4','ft_3','ft_2','ft_1']\n",
    "df_train = pd.DataFrame(data=train_new_features, columns=columns)\n",
    "df_train = pd.concat([df_train, fft_train_data], axis=1)\n",
    "df_train['lat'] = tsne_train_lat\n",
    "df_train['lon'] = tsne_train_lon\n",
    "df_train['weekday'] = tsne_train_weekday\n",
    "df_train['exp_avg'] = tsne_train_exp_avg\n",
    "df_train['cluster_id'] = df_train_clusters\n",
    "\n",
    "print(df_train.shape)"
   ]
  },
  {
   "cell_type": "code",
   "execution_count": 43,
   "metadata": {
    "colab": {
     "base_uri": "https://localhost:8080/",
     "height": 34
    },
    "colab_type": "code",
    "id": "aa8LZ28GpYVw",
    "outputId": "bdad8ce7-1941-4869-e267-255a09b91c0e"
   },
   "outputs": [
    {
     "name": "stdout",
     "output_type": "stream",
     "text": [
      "(117900, 20)\n"
     ]
    }
   ],
   "source": [
    "# Preparing the data frame for our train data\n",
    "df_test = pd.DataFrame(data=test_new_features, columns=columns)\n",
    "df_test = pd.concat([df_test, fft_test_data], axis=1)\n",
    "df_test['lat'] = tsne_test_lat\n",
    "df_test['lon'] = tsne_test_lon\n",
    "df_test['weekday'] = tsne_test_weekday\n",
    "df_test['exp_avg'] = tsne_test_exp_avg\n",
    "df_test['cluster_id'] = df_test_clusters\n",
    "\n",
    "print(df_test.shape)"
   ]
  },
  {
   "cell_type": "code",
   "execution_count": 44,
   "metadata": {
    "colab": {
     "base_uri": "https://localhost:8080/",
     "height": 224
    },
    "colab_type": "code",
    "id": "eQj1LfMnpYVx",
    "outputId": "126361f3-b8dc-4c04-d9ac-f2b082c7a1d3"
   },
   "outputs": [
    {
     "data": {
      "text/html": [
       "<div>\n",
       "<style scoped>\n",
       "    .dataframe tbody tr th:only-of-type {\n",
       "        vertical-align: middle;\n",
       "    }\n",
       "\n",
       "    .dataframe tbody tr th {\n",
       "        vertical-align: top;\n",
       "    }\n",
       "\n",
       "    .dataframe thead th {\n",
       "        text-align: right;\n",
       "    }\n",
       "</style>\n",
       "<table border=\"1\" class=\"dataframe\">\n",
       "  <thead>\n",
       "    <tr style=\"text-align: right;\">\n",
       "      <th></th>\n",
       "      <th>ft_5</th>\n",
       "      <th>ft_4</th>\n",
       "      <th>ft_3</th>\n",
       "      <th>ft_2</th>\n",
       "      <th>ft_1</th>\n",
       "      <th>freq_0</th>\n",
       "      <th>amp_0</th>\n",
       "      <th>freq_1</th>\n",
       "      <th>amp_1</th>\n",
       "      <th>freq_2</th>\n",
       "      <th>amp_2</th>\n",
       "      <th>freq_3</th>\n",
       "      <th>amp_3</th>\n",
       "      <th>freq_4</th>\n",
       "      <th>amp_4</th>\n",
       "      <th>lat</th>\n",
       "      <th>lon</th>\n",
       "      <th>weekday</th>\n",
       "      <th>exp_avg</th>\n",
       "      <th>cluster_id</th>\n",
       "    </tr>\n",
       "  </thead>\n",
       "  <tbody>\n",
       "    <tr>\n",
       "      <th>0</th>\n",
       "      <td>271</td>\n",
       "      <td>270</td>\n",
       "      <td>238</td>\n",
       "      <td>269</td>\n",
       "      <td>260</td>\n",
       "      <td>0</td>\n",
       "      <td>178108</td>\n",
       "      <td>0.007</td>\n",
       "      <td>64807.8</td>\n",
       "      <td>0.014</td>\n",
       "      <td>24480.6</td>\n",
       "      <td>0.014</td>\n",
       "      <td>24480.6</td>\n",
       "      <td>0.021</td>\n",
       "      <td>16455.5</td>\n",
       "      <td>40.777809</td>\n",
       "      <td>-73.954054</td>\n",
       "      <td>4</td>\n",
       "      <td>260</td>\n",
       "      <td>0</td>\n",
       "    </tr>\n",
       "    <tr>\n",
       "      <th>1</th>\n",
       "      <td>270</td>\n",
       "      <td>238</td>\n",
       "      <td>269</td>\n",
       "      <td>260</td>\n",
       "      <td>281</td>\n",
       "      <td>0</td>\n",
       "      <td>178150</td>\n",
       "      <td>0.007</td>\n",
       "      <td>64845.1</td>\n",
       "      <td>0.007</td>\n",
       "      <td>64845.1</td>\n",
       "      <td>0.014</td>\n",
       "      <td>24469</td>\n",
       "      <td>0.021</td>\n",
       "      <td>16418.3</td>\n",
       "      <td>40.777809</td>\n",
       "      <td>-73.954054</td>\n",
       "      <td>4</td>\n",
       "      <td>274</td>\n",
       "      <td>0</td>\n",
       "    </tr>\n",
       "    <tr>\n",
       "      <th>2</th>\n",
       "      <td>238</td>\n",
       "      <td>269</td>\n",
       "      <td>260</td>\n",
       "      <td>281</td>\n",
       "      <td>264</td>\n",
       "      <td>0</td>\n",
       "      <td>178190</td>\n",
       "      <td>0.007</td>\n",
       "      <td>64881.4</td>\n",
       "      <td>0.014</td>\n",
       "      <td>24454.6</td>\n",
       "      <td>0.021</td>\n",
       "      <td>16380.7</td>\n",
       "      <td>0.001</td>\n",
       "      <td>14849.1</td>\n",
       "      <td>40.777809</td>\n",
       "      <td>-73.954054</td>\n",
       "      <td>4</td>\n",
       "      <td>267</td>\n",
       "      <td>0</td>\n",
       "    </tr>\n",
       "    <tr>\n",
       "      <th>3</th>\n",
       "      <td>269</td>\n",
       "      <td>260</td>\n",
       "      <td>281</td>\n",
       "      <td>264</td>\n",
       "      <td>286</td>\n",
       "      <td>0</td>\n",
       "      <td>178228</td>\n",
       "      <td>0.007</td>\n",
       "      <td>64916.5</td>\n",
       "      <td>0.007</td>\n",
       "      <td>64916.5</td>\n",
       "      <td>0.014</td>\n",
       "      <td>24437.9</td>\n",
       "      <td>0.021</td>\n",
       "      <td>16343.7</td>\n",
       "      <td>40.777809</td>\n",
       "      <td>-73.954054</td>\n",
       "      <td>4</td>\n",
       "      <td>280</td>\n",
       "      <td>0</td>\n",
       "    </tr>\n",
       "    <tr>\n",
       "      <th>4</th>\n",
       "      <td>260</td>\n",
       "      <td>281</td>\n",
       "      <td>264</td>\n",
       "      <td>286</td>\n",
       "      <td>280</td>\n",
       "      <td>0</td>\n",
       "      <td>178249</td>\n",
       "      <td>0.007</td>\n",
       "      <td>64936.3</td>\n",
       "      <td>0.014</td>\n",
       "      <td>24427.1</td>\n",
       "      <td>0.021</td>\n",
       "      <td>16322.7</td>\n",
       "      <td>0.021</td>\n",
       "      <td>16322.7</td>\n",
       "      <td>40.777809</td>\n",
       "      <td>-73.954054</td>\n",
       "      <td>4</td>\n",
       "      <td>280</td>\n",
       "      <td>0</td>\n",
       "    </tr>\n",
       "  </tbody>\n",
       "</table>\n",
       "</div>"
      ],
      "text/plain": [
       "   ft_5  ft_4  ft_3  ft_2  ...        lon weekday exp_avg cluster_id\n",
       "0   271   270   238   269  ... -73.954054       4     260          0\n",
       "1   270   238   269   260  ... -73.954054       4     274          0\n",
       "2   238   269   260   281  ... -73.954054       4     267          0\n",
       "3   269   260   281   264  ... -73.954054       4     280          0\n",
       "4   260   281   264   286  ... -73.954054       4     280          0\n",
       "\n",
       "[5 rows x 20 columns]"
      ]
     },
     "execution_count": 44,
     "metadata": {
      "tags": []
     },
     "output_type": "execute_result"
    }
   ],
   "source": [
    "df_test.head()"
   ]
  },
  {
   "cell_type": "markdown",
   "metadata": {
    "colab_type": "text",
    "id": "2tvbI-GkpYWF"
   },
   "source": [
    "# Assignments\n",
    "\n",
    "        "
   ]
  },
  {
   "cell_type": "code",
   "execution_count": 45,
   "metadata": {
    "colab": {
     "base_uri": "https://localhost:8080/",
     "height": 54
    },
    "colab_type": "code",
    "collapsed": true,
    "id": "JvEcs6bfpYWG",
    "outputId": "23ce918c-7ffb-4dd6-8aa5-f367fc1eb9ea"
   },
   "outputs": [
    {
     "data": {
      "text/plain": [
       "'\\nTask 1: Incorporate Fourier features as features into Regression models and measure MAPE. <br>\\n\\nTask 2: Perform hyper-parameter tuning for Regression models.\\n        2a. Linear Regression: Grid Search\\n        2b. Random Forest: Random Search \\n        2c. Xgboost: Random Search\\nTask 3: Explore more time-series features using Google search/Quora/Stackoverflow\\nto reduce the MAPE to < 12%\\n'"
      ]
     },
     "execution_count": 45,
     "metadata": {
      "tags": []
     },
     "output_type": "execute_result"
    }
   ],
   "source": [
    "'''\n",
    "Task 1: Incorporate Fourier features as features into Regression models and measure MAPE. <br>\n",
    "\n",
    "Task 2: Perform hyper-parameter tuning for Regression models.\n",
    "        2a. Linear Regression: Grid Search\n",
    "        2b. Random Forest: Random Search \n",
    "        2c. Xgboost: Random Search\n",
    "Task 3: Explore more time-series features using Google search/Quora/Stackoverflow\n",
    "to reduce the MAPE to < 12%\n",
    "'''"
   ]
  },
  {
   "cell_type": "markdown",
   "metadata": {},
   "source": [
    "**As fourier features are included in data in above code blocks, we can go ahead and do second Task.**"
   ]
  },
  {
   "cell_type": "markdown",
   "metadata": {
    "colab_type": "text",
    "id": "rykiaxYlpYVz"
   },
   "source": [
    "### Using Linear Regression"
   ]
  },
  {
   "cell_type": "markdown",
   "metadata": {
    "colab_type": "text",
    "id": "ITaFg0YmyAb4"
   },
   "source": [
    "**Before Running linear regression we can see some columns are not linearly related to the output values. Those are cluster_id, weekday, and even latitude and longitude. So it makes sense to encode them before running. We can remove latitude, longitude and cluster id and replace them with one-hot encoding of cluster id. And we can onehot encode the weekday column as well. As our model is Linear regression we can have more dimensions which will not affect our performance. For other tree based models we can neglect encoding for such features.**"
   ]
  },
  {
   "cell_type": "markdown",
   "metadata": {
    "colab_type": "text",
    "id": "w68YkR3GzS7e"
   },
   "source": [
    "**Creating new dataframe for training linear regression and adding onehot encoded data into it.**"
   ]
  },
  {
   "cell_type": "code",
   "execution_count": 0,
   "metadata": {
    "colab": {},
    "colab_type": "code",
    "id": "jkOYJO-yzSLV"
   },
   "outputs": [],
   "source": [
    "from sklearn.preprocessing import OneHotEncoder"
   ]
  },
  {
   "cell_type": "code",
   "execution_count": 47,
   "metadata": {
    "colab": {
     "base_uri": "https://localhost:8080/",
     "height": 34
    },
    "colab_type": "code",
    "id": "HTfwIe2V1Fu4",
    "outputId": "0e4924f0-00b2-42fd-ddf3-5bdfa9300f7f"
   },
   "outputs": [
    {
     "name": "stdout",
     "output_type": "stream",
     "text": [
      "37\n"
     ]
    }
   ],
   "source": [
    "onehotcoder = OneHotEncoder()\n",
    "onehotcoder.fit(df_train[['weekday', 'cluster_id']])\n",
    "# should be 30+7 = 37\n",
    "print(len(onehotcoder.get_feature_names()))"
   ]
  },
  {
   "cell_type": "code",
   "execution_count": 0,
   "metadata": {
    "colab": {},
    "colab_type": "code",
    "id": "lyx0VdYS18i_"
   },
   "outputs": [],
   "source": [
    "df_ohe_train = onehotcoder.transform(df_train[['weekday', 'cluster_id']])\n",
    "df_ohe_test = onehotcoder.transform(df_test[['weekday', 'cluster_id']])"
   ]
  },
  {
   "cell_type": "code",
   "execution_count": 0,
   "metadata": {
    "colab": {},
    "colab_type": "code",
    "id": "6tvZQ6Q54XNm"
   },
   "outputs": [],
   "source": [
    "from scipy import sparse"
   ]
  },
  {
   "cell_type": "code",
   "execution_count": 0,
   "metadata": {
    "colab": {},
    "colab_type": "code",
    "id": "dEOwpwId5mv8"
   },
   "outputs": [],
   "source": [
    "for i in df_train.columns:\n",
    "  df_train[i] = pd.to_numeric(df_train[i])\n",
    "  df_test[i] = pd.to_numeric(df_test[i])"
   ]
  },
  {
   "cell_type": "code",
   "execution_count": 51,
   "metadata": {
    "colab": {
     "base_uri": "https://localhost:8080/",
     "height": 51
    },
    "colab_type": "code",
    "id": "cj_c66Xo2UU2",
    "outputId": "296c9685-9694-4607-a555-2b366ef66258"
   },
   "outputs": [
    {
     "name": "stdout",
     "output_type": "stream",
     "text": [
      "(275070, 53)\n",
      "(117900, 53)\n"
     ]
    }
   ],
   "source": [
    "df_lr_train = df_train.drop(['weekday', 'lat', 'lon', 'cluster_id'], axis=1)\n",
    "df_lr_test = df_test.drop(['weekday', 'lat', 'lon', 'cluster_id'], axis=1)\n",
    "\n",
    "df_lr_train = sparse.hstack([df_lr_train.values, df_ohe_train])\n",
    "df_lr_test = sparse.hstack([df_lr_test.values, df_ohe_test])\n",
    "# number of columns = 20-4+37 = 53\n",
    "print(df_lr_train.shape)\n",
    "print(df_lr_test.shape)"
   ]
  },
  {
   "cell_type": "code",
   "execution_count": 0,
   "metadata": {
    "colab": {},
    "colab_type": "code",
    "id": "j39x2twz6dab"
   },
   "outputs": [],
   "source": [
    "def calc_MAPE(y_true, y_predict):\n",
    "  return mean_absolute_error(y_true, y_predict)/(sum(y_true)/len(y_true))"
   ]
  },
  {
   "cell_type": "code",
   "execution_count": 53,
   "metadata": {
    "colab": {
     "base_uri": "https://localhost:8080/",
     "height": 187
    },
    "colab_type": "code",
    "id": "a4-FX3CdpYV0",
    "outputId": "1fd70764-60b4-4fba-8029-af0fa3561427"
   },
   "outputs": [
    {
     "name": "stdout",
     "output_type": "stream",
     "text": [
      "With normalize = False:\n",
      "{'copy_X': True, 'fit_intercept': True, 'n_jobs': None, 'normalize': False}\n",
      "train MAPE: 0.12530635199192275\n",
      "test MAPE: 0.11904826253585739\n",
      "\n",
      "\n",
      "With normalize = True:\n",
      "{'copy_X': True, 'fit_intercept': True, 'n_jobs': None, 'normalize': True}\n",
      "train MAPE: 0.12530635199192275\n",
      "test MAPE: 0.11904826253585739\n"
     ]
    }
   ],
   "source": [
    "# find more about LinearRegression function here http://scikit-learn.org/stable/modules/generated/sklearn.linear_model.LinearRegression.html\n",
    "# -------------------------\n",
    "# default paramters\n",
    "# sklearn.linear_model.LinearRegression(fit_intercept=True, normalize=False, copy_X=True, n_jobs=1)\n",
    "\n",
    "# some of methods of LinearRegression()\n",
    "# fit(X, y[, sample_weight])\tFit linear model.\n",
    "# get_params([deep])\tGet parameters for this estimator.\n",
    "# predict(X)\tPredict using the linear model\n",
    "# score(X, y[, sample_weight])\tReturns the coefficient of determination R^2 of the prediction.\n",
    "# set_params(**params)\tSet the parameters of this estimator.\n",
    "# -----------------------\n",
    "# video link: https://www.appliedaicourse.com/course/applied-ai-course-online/lessons/geometric-intuition-1-2-copy-8/\n",
    "# -----------------------\n",
    "\n",
    "from sklearn.linear_model import LinearRegression\n",
    "\n",
    "print(\"With normalize = False:\")\n",
    "lr_reg=LinearRegression()\n",
    "print(lr_reg.get_params())\n",
    "lr_reg.fit(df_train, tsne_train_output)\n",
    "\n",
    "y_pred = lr_reg.predict(df_test)\n",
    "lr_test_predictions = [round(value) for value in y_pred]\n",
    "y_pred = lr_reg.predict(df_train)\n",
    "lr_train_predictions = [round(value) for value in y_pred]\n",
    "\n",
    "print(f'train MAPE: {calc_MAPE(tsne_train_output, lr_train_predictions)}')\n",
    "print(f'test MAPE: {calc_MAPE(tsne_test_output, lr_test_predictions)}')\n",
    "\n",
    "print(\"\\n\\nWith normalize = True:\")\n",
    "lr_reg=LinearRegression(normalize=True)\n",
    "print(lr_reg.get_params())\n",
    "lr_reg.fit(df_train, tsne_train_output)\n",
    "\n",
    "y_pred = lr_reg.predict(df_test)\n",
    "lr_test_predictions = [round(value) for value in y_pred]\n",
    "y_pred = lr_reg.predict(df_train)\n",
    "lr_train_predictions = [round(value) for value in y_pred]\n",
    "\n",
    "print(f'train MAPE: {calc_MAPE(tsne_train_output, lr_train_predictions)}')\n",
    "print(f'test MAPE: {calc_MAPE(tsne_test_output, lr_test_predictions)}')"
   ]
  },
  {
   "cell_type": "markdown",
   "metadata": {
    "colab_type": "text",
    "id": "fyg4lzJf9bP3"
   },
   "source": [
    "**Input for linear regression is changed. The features which are meant to be categorical are changed to onehot encodings, as increase in dimensions is not a problem for linear regression. I didnt find any hyper-parameters for sklearn's LinearRegression .For both \"with normalize\" and \"without normalize\" the MAPE values are same. And the test MAPE value dropped below 12% for this model which is very good.**"
   ]
  },
  {
   "cell_type": "markdown",
   "metadata": {
    "colab_type": "text",
    "id": "CbdQSLMipYV1"
   },
   "source": [
    "### Using Random Forest Regressor"
   ]
  },
  {
   "cell_type": "code",
   "execution_count": 0,
   "metadata": {
    "colab": {},
    "colab_type": "code",
    "id": "Cu_PHwAD_6iE"
   },
   "outputs": [],
   "source": [
    "from scipy.stats import randint as sp_randint\n",
    "from scipy.stats import uniform"
   ]
  },
  {
   "cell_type": "code",
   "execution_count": 55,
   "metadata": {
    "colab": {
     "base_uri": "https://localhost:8080/",
     "height": 397
    },
    "colab_type": "code",
    "id": "1yH4SyUqpYV1",
    "outputId": "800e4639-7077-4208-f9d6-6f5384359437"
   },
   "outputs": [
    {
     "name": "stdout",
     "output_type": "stream",
     "text": [
      "Estimators =  10 Train Score 0.054882891508404835 test Score 0.12356400094386034\n",
      "Estimators =  50 Train Score 0.04996592943741556 test Score 0.11817462886896045\n",
      "Estimators =  100 Train Score 0.04933770553814925 test Score 0.11756832532532893\n",
      "Estimators =  175 Train Score 0.04908163876495708 test Score 0.1172080135892906\n",
      "Estimators =  250 Train Score 0.04893984310310891 test Score 0.11714684101278983\n"
     ]
    },
    {
     "data": {
      "text/plain": [
       "Text(0.5, 1.0, 'Estimators vs score')"
      ]
     },
     "execution_count": 55,
     "metadata": {
      "tags": []
     },
     "output_type": "execute_result"
    },
    {
     "data": {
      "image/png": "[encoded data removed]",
      "text/plain": [
       "<Figure size 432x288 with 1 Axes>"
      ]
     },
     "metadata": {
      "tags": []
     },
     "output_type": "display_data"
    }
   ],
   "source": [
    "estimators = [10,50,100,175,250]\n",
    "train_scores = []\n",
    "test_scores = []\n",
    "for i in estimators:\n",
    "  clf = RandomForestRegressor(n_estimators=i, min_samples_split=4, n_jobs=-1)\n",
    "  clf.fit(df_train, tsne_train_output)\n",
    "  train_sc = calc_MAPE(tsne_train_output,clf.predict(df_train))\n",
    "  test_sc = calc_MAPE(tsne_test_output,clf.predict(df_test))\n",
    "  test_scores.append(test_sc)\n",
    "  train_scores.append(train_sc)\n",
    "  print('Estimators = ',i,'Train Score',train_sc,'test Score',test_sc)\n",
    "plt.plot(estimators,train_scores,label='Train Score')\n",
    "plt.plot(estimators,test_scores,label='Test Score')\n",
    "plt.xlabel('Estimators')\n",
    "plt.ylabel('Score')\n",
    "plt.title('Estimators vs score')"
   ]
  },
  {
   "cell_type": "code",
   "execution_count": 56,
   "metadata": {
    "colab": {
     "base_uri": "https://localhost:8080/",
     "height": 397
    },
    "colab_type": "code",
    "id": "OZ-AYmmZCTvt",
    "outputId": "20f55aab-f38c-4026-c38b-3227725f3e04"
   },
   "outputs": [
    {
     "name": "stdout",
     "output_type": "stream",
     "text": [
      "Depths =  3 Train Score 0.16192714763533733 test Score 0.15180177439393988\n",
      "Depths =  5 Train Score 0.12766156602817486 test Score 0.12095851757449985\n",
      "Depths =  10 Train Score 0.12012001274781052 test Score 0.11783028051823466\n",
      "Depths =  20 Train Score 0.09084533224337613 test Score 0.11726011269961327\n",
      "Depths =  50 Train Score 0.04706327217774408 test Score 0.11855205833363403\n"
     ]
    },
    {
     "data": {
      "text/plain": [
       "Text(0.5, 1.0, 'Depths vs score')"
      ]
     },
     "execution_count": 56,
     "metadata": {
      "tags": []
     },
     "output_type": "execute_result"
    },
    {
     "data": {
      "image/png": "[encoded data removed]",
      "text/plain": [
       "<Figure size 432x288 with 1 Axes>"
      ]
     },
     "metadata": {
      "tags": []
     },
     "output_type": "display_data"
    }
   ],
   "source": [
    "depths = [3,5,10,20, 50]\n",
    "train_scores = []\n",
    "test_scores = []\n",
    "for i in depths:\n",
    "  clf = RandomForestRegressor(n_estimators=40, max_depth=i, n_jobs=-1)\n",
    "  clf.fit(df_train, tsne_train_output)\n",
    "  train_sc = calc_MAPE(tsne_train_output,clf.predict(df_train))\n",
    "  test_sc = calc_MAPE(tsne_test_output,clf.predict(df_test))\n",
    "  test_scores.append(test_sc)\n",
    "  train_scores.append(train_sc)\n",
    "  print('Depths = ',i,'Train Score',train_sc,'test Score',test_sc)\n",
    "plt.plot(depths,train_scores,label='Train Score')\n",
    "plt.plot(depths,test_scores,label='Test Score')\n",
    "plt.xlabel('Depths')\n",
    "plt.ylabel('Score')\n",
    "plt.title('Depths vs score')"
   ]
  },
  {
   "cell_type": "markdown",
   "metadata": {},
   "source": [
    "**Taking `max_depth` and `n_estimators` values around the elbows of the graph. So, `max_depth` around 5, and `n_estimators` around 50.**"
   ]
  },
  {
   "cell_type": "code",
   "execution_count": 0,
   "metadata": {
    "colab": {},
    "colab_type": "code",
    "id": "yfEviQC5XeTb"
   },
   "outputs": [],
   "source": [
    "from sklearn.model_selection import RandomizedSearchCV"
   ]
  },
  {
   "cell_type": "code",
   "execution_count": 60,
   "metadata": {
    "colab": {
     "base_uri": "https://localhost:8080/",
     "height": 204
    },
    "colab_type": "code",
    "id": "CB0zPii6pYV3",
    "outputId": "09dd057c-7c91-4989-d268-b805c2f7c06e"
   },
   "outputs": [
    {
     "name": "stdout",
     "output_type": "stream",
     "text": [
      "mean test scores [-325.37889565 -284.00989898 -326.23933216 -326.21787578 -326.22011626]\n",
      "mean train scores [-306.47715345 -278.59774775 -306.47150171 -306.26970892 -306.49969652]\n",
      "Best Estimator:  RandomForestRegressor(bootstrap=True, criterion='mse', max_depth=5,\n",
      "                      max_features='auto', max_leaf_nodes=None,\n",
      "                      min_impurity_decrease=0.0, min_impurity_split=None,\n",
      "                      min_samples_leaf=1, min_samples_split=2,\n",
      "                      min_weight_fraction_leaf=0.0, n_estimators=41, n_jobs=-1,\n",
      "                      oob_score=False, random_state=None, verbose=0,\n",
      "                      warm_start=False)\n",
      "Train MAPE:  0.12775629785820566\n",
      "Test MAPE:  0.12092945844983294\n"
     ]
    }
   ],
   "source": [
    "param_dist = {\"n_estimators\":sp_randint(40,70),\n",
    "    \"max_depth\": sp_randint(4,7),\n",
    "    \"min_samples_split\": sp_randint(2, 5)}\n",
    "\n",
    "clf = RandomForestRegressor(n_jobs=-1)\n",
    "rf_random = RandomizedSearchCV(clf, param_distributions=param_dist,n_iter=5,scoring='neg_mean_squared_error',cv=10, return_train_score=True)\n",
    "rf_random.fit(df_train, tsne_train_output)\n",
    "print('mean test scores',rf_random.cv_results_['mean_test_score'])\n",
    "print('mean train scores',rf_random.cv_results_['mean_train_score'])\n",
    "\n",
    "clf = rf_random.best_estimator_\n",
    "\n",
    "print('Best Estimator: ', clf)\n",
    "\n",
    "clf.fit(df_train, tsne_train_output)\n",
    "y_train_pred = clf.predict(df_train)\n",
    "y_test_pred = clf.predict(df_test)\n",
    "\n",
    "print(\"Train MAPE: \", calc_MAPE(tsne_train_output,y_train_pred))\n",
    "print(\"Test MAPE: \", calc_MAPE(tsne_test_output,y_test_pred))"
   ]
  },
  {
   "cell_type": "code",
   "execution_count": 64,
   "metadata": {
    "colab": {
     "base_uri": "https://localhost:8080/",
     "height": 221
    },
    "colab_type": "code",
    "id": "iAw-LW-PpYV5",
    "outputId": "c02fbbab-4a5f-436d-bc5e-74652cf0c091"
   },
   "outputs": [
    {
     "name": "stdout",
     "output_type": "stream",
     "text": [
      "Index(['ft_5', 'ft_4', 'ft_3', 'ft_2', 'ft_1', 'freq_0', 'amp_0', 'freq_1',\n",
      "       'amp_1', 'freq_2', 'amp_2', 'freq_3', 'amp_3', 'freq_4', 'amp_4', 'lat',\n",
      "       'lon', 'weekday', 'exp_avg', 'cluster_id'],\n",
      "      dtype='object')\n",
      "[2.74692769e-06 4.47063949e-05 7.34611639e-06 3.88654669e-06\n",
      " 6.60703543e-03 0.00000000e+00 0.00000000e+00 0.00000000e+00\n",
      " 0.00000000e+00 0.00000000e+00 0.00000000e+00 0.00000000e+00\n",
      " 0.00000000e+00 0.00000000e+00 0.00000000e+00 0.00000000e+00\n",
      " 0.00000000e+00 0.00000000e+00 9.93334279e-01 0.00000000e+00]\n",
      "Index(['exp_avg', 'ft_1', 'ft_4', 'ft_3', 'ft_2', 'ft_5', 'freq_0', 'amp_0',\n",
      "       'freq_1'],\n",
      "      dtype='object')\n"
     ]
    }
   ],
   "source": [
    "#feature importances based on analysis using random forest\n",
    "print (df_train.columns)\n",
    "print (clf.feature_importances_)\n",
    "\n",
    "inds = np.argsort(clf.feature_importances_)\n",
    "imp_cols = df_train.columns[inds[None:-10:-1]]\n",
    "print(imp_cols)"
   ]
  },
  {
   "cell_type": "markdown",
   "metadata": {
    "colab_type": "text",
    "id": "4p0IhKaSpYV6"
   },
   "source": [
    "### Using XgBoost Regressor"
   ]
  },
  {
   "cell_type": "code",
   "execution_count": 65,
   "metadata": {
    "colab": {
     "base_uri": "https://localhost:8080/",
     "height": 516
    },
    "colab_type": "code",
    "id": "nP3gp-0kpYV7",
    "outputId": "126a0b7f-f43e-4fc9-c8cb-27d25a288a15"
   },
   "outputs": [
    {
     "name": "stdout",
     "output_type": "stream",
     "text": [
      "[20:26:25] WARNING: /workspace/src/objective/regression_obj.cu:152: reg:linear is now deprecated in favor of reg:squarederror.\n",
      "Estimators =  10 Train Score 0.36788927885816347 test Score 0.3654381200688201\n",
      "[20:26:28] WARNING: /workspace/src/objective/regression_obj.cu:152: reg:linear is now deprecated in favor of reg:squarederror.\n",
      "Estimators =  50 Train Score 0.12608815449389313 test Score 0.11959402341755858\n",
      "[20:26:36] WARNING: /workspace/src/objective/regression_obj.cu:152: reg:linear is now deprecated in favor of reg:squarederror.\n",
      "Estimators =  100 Train Score 0.125303446022751 test Score 0.11925624463497128\n",
      "[20:26:49] WARNING: /workspace/src/objective/regression_obj.cu:152: reg:linear is now deprecated in favor of reg:squarederror.\n",
      "Estimators =  250 Train Score 0.12394196743860231 test Score 0.11829708356340835\n",
      "[20:27:22] WARNING: /workspace/src/objective/regression_obj.cu:152: reg:linear is now deprecated in favor of reg:squarederror.\n",
      "Estimators =  500 Train Score 0.12282390984398615 test Score 0.11772948576887897\n",
      "[20:28:28] WARNING: /workspace/src/objective/regression_obj.cu:152: reg:linear is now deprecated in favor of reg:squarederror.\n",
      "Estimators =  1000 Train Score 0.12150400946304023 test Score 0.11731681419788702\n"
     ]
    },
    {
     "data": {
      "text/plain": [
       "Text(0.5, 1.0, 'Estimators vs score')"
      ]
     },
     "execution_count": 65,
     "metadata": {
      "tags": []
     },
     "output_type": "execute_result"
    },
    {
     "data": {
      "image/png": "[encoded data removed]",
      "text/plain": [
       "<Figure size 432x288 with 1 Axes>"
      ]
     },
     "metadata": {
      "tags": []
     },
     "output_type": "display_data"
    }
   ],
   "source": [
    "estimators = [10,50,100,250, 500, 1000]\n",
    "train_scores = []\n",
    "test_scores = []\n",
    "for i in estimators:\n",
    "  clf = xgb.XGBRegressor(\n",
    "   learning_rate =0.1,\n",
    "   n_estimators=i,\n",
    "   max_depth=3,\n",
    "   min_child_weight=3,\n",
    "   gamma=0,\n",
    "   subsample=0.8,\n",
    "   reg_alpha=200, reg_lambda=200,\n",
    "   colsample_bytree=0.8,nthread=4)\n",
    "  clf.fit(df_train, tsne_train_output)\n",
    "  train_sc = calc_MAPE(tsne_train_output,clf.predict(df_train))\n",
    "  test_sc = calc_MAPE(tsne_test_output,clf.predict(df_test))\n",
    "  test_scores.append(test_sc)\n",
    "  train_scores.append(train_sc)\n",
    "  print('Estimators = ',i,'Train Score',train_sc,'test Score',test_sc)\n",
    "plt.plot(estimators,train_scores,label='Train Score')\n",
    "plt.plot(estimators,test_scores,label='Test Score')\n",
    "plt.xlabel('Estimators')\n",
    "plt.ylabel('Score')\n",
    "plt.title('Estimators vs score')"
   ]
  },
  {
   "cell_type": "code",
   "execution_count": 66,
   "metadata": {
    "colab": {
     "base_uri": "https://localhost:8080/",
     "height": 482
    },
    "colab_type": "code",
    "id": "57jMsUJdELT9",
    "outputId": "a746c2ac-c0d3-4bbd-f9b8-077caaf5099e"
   },
   "outputs": [
    {
     "name": "stdout",
     "output_type": "stream",
     "text": [
      "[20:30:39] WARNING: /workspace/src/objective/regression_obj.cu:152: reg:linear is now deprecated in favor of reg:squarederror.\n",
      "Depths =  3 Train Score 0.12282390984398615 test Score 0.11772948576887897\n",
      "[20:31:45] WARNING: /workspace/src/objective/regression_obj.cu:152: reg:linear is now deprecated in favor of reg:squarederror.\n",
      "Depths =  5 Train Score 0.1195645236886165 test Score 0.11674756069142395\n",
      "[20:33:33] WARNING: /workspace/src/objective/regression_obj.cu:152: reg:linear is now deprecated in favor of reg:squarederror.\n",
      "Depths =  8 Train Score 0.11351458624880534 test Score 0.11668544898648527\n",
      "[20:36:47] WARNING: /workspace/src/objective/regression_obj.cu:152: reg:linear is now deprecated in favor of reg:squarederror.\n",
      "Depths =  10 Train Score 0.1083196457458951 test Score 0.11676210601079251\n",
      "[20:41:05] WARNING: /workspace/src/objective/regression_obj.cu:152: reg:linear is now deprecated in favor of reg:squarederror.\n",
      "Depths =  15 Train Score 0.09386031458921193 test Score 0.1174185924862408\n"
     ]
    },
    {
     "data": {
      "text/plain": [
       "Text(0.5, 1.0, 'Depths vs score')"
      ]
     },
     "execution_count": 66,
     "metadata": {
      "tags": []
     },
     "output_type": "execute_result"
    },
    {
     "data": {
      "image/png": "[encoded data removed]",
      "text/plain": [
       "<Figure size 432x288 with 1 Axes>"
      ]
     },
     "metadata": {
      "tags": []
     },
     "output_type": "display_data"
    }
   ],
   "source": [
    "depths = [3, 5, 8, 10, 15]\n",
    "train_scores = []\n",
    "test_scores = []\n",
    "for i in depths:\n",
    "  clf = xgb.XGBRegressor(\n",
    "   learning_rate =0.1,\n",
    "   n_estimators=500,\n",
    "   max_depth=i,\n",
    "   min_child_weight=3,\n",
    "   gamma=0,\n",
    "   subsample=0.8,\n",
    "   reg_alpha=200, reg_lambda=200,\n",
    "   colsample_bytree=0.8,nthread=4)\n",
    "  clf.fit(df_train, tsne_train_output)\n",
    "  train_sc = calc_MAPE(tsne_train_output,clf.predict(df_train))\n",
    "  test_sc = calc_MAPE(tsne_test_output,clf.predict(df_test))\n",
    "  test_scores.append(test_sc)\n",
    "  train_scores.append(train_sc)\n",
    "  print('Depths = ',i,'Train Score',train_sc,'test Score',test_sc)\n",
    "plt.plot(depths,train_scores,label='Train Score')\n",
    "plt.plot(depths,test_scores,label='Test Score')\n",
    "plt.xlabel('Depths')\n",
    "plt.ylabel('Score')\n",
    "plt.title('Depths vs score')"
   ]
  },
  {
   "cell_type": "code",
   "execution_count": 68,
   "metadata": {
    "colab": {
     "base_uri": "https://localhost:8080/",
     "height": 1000
    },
    "colab_type": "code",
    "collapsed": true,
    "id": "XRTslBM-_5W6",
    "outputId": "8953cd7d-6b78-4e6e-a53e-55336d3e35fe"
   },
   "outputs": [
    {
     "name": "stdout",
     "output_type": "stream",
     "text": [
      "[21:34:01] WARNING: /workspace/src/objective/regression_obj.cu:152: reg:linear is now deprecated in favor of reg:squarederror.\n",
      "[21:34:19] WARNING: /workspace/src/objective/regression_obj.cu:152: reg:linear is now deprecated in favor of reg:squarederror.\n",
      "[21:34:36] WARNING: /workspace/src/objective/regression_obj.cu:152: reg:linear is now deprecated in favor of reg:squarederror.\n",
      "[21:34:53] WARNING: /workspace/src/objective/regression_obj.cu:152: reg:linear is now deprecated in favor of reg:squarederror.\n",
      "[21:35:11] WARNING: /workspace/src/objective/regression_obj.cu:152: reg:linear is now deprecated in favor of reg:squarederror.\n",
      "[21:35:28] WARNING: /workspace/src/objective/regression_obj.cu:152: reg:linear is now deprecated in favor of reg:squarederror.\n",
      "[21:35:45] WARNING: /workspace/src/objective/regression_obj.cu:152: reg:linear is now deprecated in favor of reg:squarederror.\n",
      "[21:36:02] WARNING: /workspace/src/objective/regression_obj.cu:152: reg:linear is now deprecated in favor of reg:squarederror.\n",
      "[21:36:20] WARNING: /workspace/src/objective/regression_obj.cu:152: reg:linear is now deprecated in favor of reg:squarederror.\n",
      "[21:36:37] WARNING: /workspace/src/objective/regression_obj.cu:152: reg:linear is now deprecated in favor of reg:squarederror.\n",
      "[21:36:54] WARNING: /workspace/src/objective/regression_obj.cu:152: reg:linear is now deprecated in favor of reg:squarederror.\n",
      "[21:37:12] WARNING: /workspace/src/objective/regression_obj.cu:152: reg:linear is now deprecated in favor of reg:squarederror.\n",
      "[21:37:30] WARNING: /workspace/src/objective/regression_obj.cu:152: reg:linear is now deprecated in favor of reg:squarederror.\n",
      "[21:37:48] WARNING: /workspace/src/objective/regression_obj.cu:152: reg:linear is now deprecated in favor of reg:squarederror.\n",
      "[21:38:06] WARNING: /workspace/src/objective/regression_obj.cu:152: reg:linear is now deprecated in favor of reg:squarederror.\n",
      "[21:38:25] WARNING: /workspace/src/objective/regression_obj.cu:152: reg:linear is now deprecated in favor of reg:squarederror.\n",
      "[21:38:43] WARNING: /workspace/src/objective/regression_obj.cu:152: reg:linear is now deprecated in favor of reg:squarederror.\n",
      "[21:39:01] WARNING: /workspace/src/objective/regression_obj.cu:152: reg:linear is now deprecated in favor of reg:squarederror.\n",
      "[21:39:19] WARNING: /workspace/src/objective/regression_obj.cu:152: reg:linear is now deprecated in favor of reg:squarederror.\n",
      "[21:39:36] WARNING: /workspace/src/objective/regression_obj.cu:152: reg:linear is now deprecated in favor of reg:squarederror.\n",
      "[21:39:54] WARNING: /workspace/src/objective/regression_obj.cu:152: reg:linear is now deprecated in favor of reg:squarederror.\n",
      "[21:40:18] WARNING: /workspace/src/objective/regression_obj.cu:152: reg:linear is now deprecated in favor of reg:squarederror.\n",
      "[21:40:41] WARNING: /workspace/src/objective/regression_obj.cu:152: reg:linear is now deprecated in favor of reg:squarederror.\n",
      "[21:41:04] WARNING: /workspace/src/objective/regression_obj.cu:152: reg:linear is now deprecated in favor of reg:squarederror.\n",
      "[21:41:28] WARNING: /workspace/src/objective/regression_obj.cu:152: reg:linear is now deprecated in favor of reg:squarederror.\n",
      "[21:41:51] WARNING: /workspace/src/objective/regression_obj.cu:152: reg:linear is now deprecated in favor of reg:squarederror.\n",
      "[21:42:15] WARNING: /workspace/src/objective/regression_obj.cu:152: reg:linear is now deprecated in favor of reg:squarederror.\n",
      "[21:42:38] WARNING: /workspace/src/objective/regression_obj.cu:152: reg:linear is now deprecated in favor of reg:squarederror.\n",
      "[21:43:01] WARNING: /workspace/src/objective/regression_obj.cu:152: reg:linear is now deprecated in favor of reg:squarederror.\n",
      "[21:43:25] WARNING: /workspace/src/objective/regression_obj.cu:152: reg:linear is now deprecated in favor of reg:squarederror.\n",
      "[21:43:48] WARNING: /workspace/src/objective/regression_obj.cu:152: reg:linear is now deprecated in favor of reg:squarederror.\n",
      "[21:44:00] WARNING: /workspace/src/objective/regression_obj.cu:152: reg:linear is now deprecated in favor of reg:squarederror.\n",
      "[21:44:13] WARNING: /workspace/src/objective/regression_obj.cu:152: reg:linear is now deprecated in favor of reg:squarederror.\n",
      "[21:44:25] WARNING: /workspace/src/objective/regression_obj.cu:152: reg:linear is now deprecated in favor of reg:squarederror.\n",
      "[21:44:37] WARNING: /workspace/src/objective/regression_obj.cu:152: reg:linear is now deprecated in favor of reg:squarederror.\n",
      "[21:44:49] WARNING: /workspace/src/objective/regression_obj.cu:152: reg:linear is now deprecated in favor of reg:squarederror.\n",
      "[21:45:01] WARNING: /workspace/src/objective/regression_obj.cu:152: reg:linear is now deprecated in favor of reg:squarederror.\n",
      "[21:45:14] WARNING: /workspace/src/objective/regression_obj.cu:152: reg:linear is now deprecated in favor of reg:squarederror.\n",
      "[21:45:26] WARNING: /workspace/src/objective/regression_obj.cu:152: reg:linear is now deprecated in favor of reg:squarederror.\n",
      "[21:45:38] WARNING: /workspace/src/objective/regression_obj.cu:152: reg:linear is now deprecated in favor of reg:squarederror.\n",
      "[21:45:50] WARNING: /workspace/src/objective/regression_obj.cu:152: reg:linear is now deprecated in favor of reg:squarederror.\n",
      "[21:46:01] WARNING: /workspace/src/objective/regression_obj.cu:152: reg:linear is now deprecated in favor of reg:squarederror.\n",
      "[21:46:12] WARNING: /workspace/src/objective/regression_obj.cu:152: reg:linear is now deprecated in favor of reg:squarederror.\n",
      "[21:46:23] WARNING: /workspace/src/objective/regression_obj.cu:152: reg:linear is now deprecated in favor of reg:squarederror.\n",
      "[21:46:34] WARNING: /workspace/src/objective/regression_obj.cu:152: reg:linear is now deprecated in favor of reg:squarederror.\n",
      "[21:46:45] WARNING: /workspace/src/objective/regression_obj.cu:152: reg:linear is now deprecated in favor of reg:squarederror.\n",
      "[21:46:56] WARNING: /workspace/src/objective/regression_obj.cu:152: reg:linear is now deprecated in favor of reg:squarederror.\n",
      "[21:47:07] WARNING: /workspace/src/objective/regression_obj.cu:152: reg:linear is now deprecated in favor of reg:squarederror.\n",
      "[21:47:17] WARNING: /workspace/src/objective/regression_obj.cu:152: reg:linear is now deprecated in favor of reg:squarederror.\n",
      "[21:47:28] WARNING: /workspace/src/objective/regression_obj.cu:152: reg:linear is now deprecated in favor of reg:squarederror.\n",
      "[21:47:39] WARNING: /workspace/src/objective/regression_obj.cu:152: reg:linear is now deprecated in favor of reg:squarederror.\n",
      "mean test scores [-356.7389414  -373.01542058 -357.75932091 -371.91452142 -336.10340613]\n",
      "mean train scores [-255.30896492 -247.72946075 -249.17872772 -267.54641259 -259.16311609]\n",
      "Best Estimator:  XGBRegressor(base_score=0.5, booster='gbtree', colsample_bylevel=1,\n",
      "             colsample_bynode=1, colsample_bytree=0.8, gamma=0,\n",
      "             importance_type='gain', learning_rate=0.1865401918732345,\n",
      "             max_delta_step=0, max_depth=5, min_child_weight=3, missing=None,\n",
      "             n_estimators=55, n_jobs=1, nthread=4, objective='reg:linear',\n",
      "             random_state=0, reg_alpha=200, reg_lambda=200, scale_pos_weight=1,\n",
      "             seed=None, silent=None, subsample=0.8, verbosity=1)\n",
      "[21:47:51] WARNING: /workspace/src/objective/regression_obj.cu:152: reg:linear is now deprecated in favor of reg:squarederror.\n",
      "Train MAPE:  0.12342634088042077\n",
      "Test MAPE:  0.11810948813003048\n"
     ]
    }
   ],
   "source": [
    "param_dist = {\"n_estimators\":sp_randint(40,70),\n",
    "    \"max_depth\": sp_randint(5,9),\n",
    "   \"learning_rate\": uniform(0.08, 0.12)}\n",
    "\n",
    "clf = xgb.XGBRegressor(\n",
    "   min_child_weight=3,\n",
    "   gamma=0,\n",
    "   subsample=0.8,\n",
    "   reg_alpha=200, reg_lambda=200,\n",
    "   colsample_bytree=0.8,nthread=4)\n",
    "rf_random = RandomizedSearchCV(clf, param_distributions=param_dist,n_iter=5,scoring='neg_mean_squared_error',cv=10, return_train_score=True)\n",
    "rf_random.fit(df_train, tsne_train_output)\n",
    "print('mean test scores',rf_random.cv_results_['mean_test_score'])\n",
    "print('mean train scores',rf_random.cv_results_['mean_train_score'])\n",
    "\n",
    "clf = rf_random.best_estimator_\n",
    "\n",
    "print('Best Estimator: ', clf)\n",
    "\n",
    "clf.fit(df_train, tsne_train_output)\n",
    "y_train_pred = clf.predict(df_train)\n",
    "y_test_pred = clf.predict(df_test)\n",
    "\n",
    "print(\"Train MAPE: \", calc_MAPE(tsne_train_output,y_train_pred))\n",
    "print(\"Test MAPE: \", calc_MAPE(tsne_test_output,y_test_pred))"
   ]
  },
  {
   "cell_type": "markdown",
   "metadata": {},
   "source": [
    "**Previous code cell's output is copied to markdown cell below as there are lot of deprecated warnings which are printed before the main output.**"
   ]
  },
  {
   "cell_type": "markdown",
   "metadata": {},
   "source": [
    "<b>mean test scores [-356.7389414  -373.01542058 -357.75932091 -371.91452142 -336.10340613]\n",
    "    \n",
    "mean train scores [-255.30896492 -247.72946075 -249.17872772 -267.54641259 -259.16311609]</b>\n",
    "<br>\n",
    "<br>\n",
    "<b>Best Estimator:  XGBRegressor(base_score=0.5, booster='gbtree', colsample_bylevel=1,\n",
    "             colsample_bynode=1, colsample_bytree=0.8, gamma=0,\n",
    "             importance_type='gain', learning_rate=0.1865401918732345,\n",
    "             max_delta_step=0, max_depth=5, min_child_weight=3, missing=None,\n",
    "             n_estimators=55, n_jobs=1, nthread=4, objective='reg:linear',\n",
    "             random_state=0, reg_alpha=200, reg_lambda=200, scale_pos_weight=1,\n",
    "             seed=None, silent=None, subsample=0.8, verbosity=1)\n",
    "\n",
    "Train MAPE:  0.12342634088042077\n",
    "\n",
    "Test MAPE:  0.11810948813003048</b>"
   ]
  },
  {
   "cell_type": "code",
   "execution_count": 75,
   "metadata": {
    "colab": {
     "base_uri": "https://localhost:8080/",
     "height": 119
    },
    "colab_type": "code",
    "id": "JUA9-V_Qy18p",
    "outputId": "c83c8106-8758-4578-ba67-07b25a88991d"
   },
   "outputs": [
    {
     "data": {
      "text/plain": [
       "array([5.98805782e-04, 4.98338020e-04, 3.75492312e-03, 1.88882221e-02,\n",
       "       2.63216078e-01, 0.00000000e+00, 4.86344274e-04, 1.41845565e-04,\n",
       "       3.44068947e-04, 1.80868126e-04, 1.74489905e-04, 4.80664239e-05,\n",
       "       1.16007854e-04, 2.16440938e-04, 1.88977196e-04, 4.30918386e-04,\n",
       "       5.04031486e-04, 1.84068573e-04, 7.09724247e-01, 3.03326320e-04],\n",
       "      dtype=float32)"
      ]
     },
     "execution_count": 75,
     "metadata": {
      "tags": []
     },
     "output_type": "execute_result"
    }
   ],
   "source": [
    "clf.feature_importances_"
   ]
  },
  {
   "cell_type": "code",
   "execution_count": 76,
   "metadata": {
    "colab": {
     "base_uri": "https://localhost:8080/",
     "height": 221
    },
    "colab_type": "code",
    "id": "vZMtoJZzAZqu",
    "outputId": "e7e828d0-812a-40a6-ab04-66d4d65a0b16"
   },
   "outputs": [
    {
     "name": "stdout",
     "output_type": "stream",
     "text": [
      "Index(['ft_5', 'ft_4', 'ft_3', 'ft_2', 'ft_1', 'freq_0', 'amp_0', 'freq_1',\n",
      "       'amp_1', 'freq_2', 'amp_2', 'freq_3', 'amp_3', 'freq_4', 'amp_4', 'lat',\n",
      "       'lon', 'weekday', 'exp_avg', 'cluster_id'],\n",
      "      dtype='object')\n",
      "[5.98805782e-04 4.98338020e-04 3.75492312e-03 1.88882221e-02\n",
      " 2.63216078e-01 0.00000000e+00 4.86344274e-04 1.41845565e-04\n",
      " 3.44068947e-04 1.80868126e-04 1.74489905e-04 4.80664239e-05\n",
      " 1.16007854e-04 2.16440938e-04 1.88977196e-04 4.30918386e-04\n",
      " 5.04031486e-04 1.84068573e-04 7.09724247e-01 3.03326320e-04]\n",
      "Index(['exp_avg', 'ft_1', 'ft_2', 'ft_3', 'ft_5', 'lon', 'ft_4', 'amp_0',\n",
      "       'lat'],\n",
      "      dtype='object')\n"
     ]
    }
   ],
   "source": [
    "#feature importances based on analysis using random forest\n",
    "print (df_train.columns)\n",
    "print (clf.feature_importances_)\n",
    "\n",
    "inds = np.argsort(clf.feature_importances_)\n",
    "imp_cols = df_train.columns[inds[None:-10:-1]]\n",
    "print(imp_cols)\n",
    "# inds = np.argsort(clf.feature_importances_)\n",
    "# imp_cols = clf.columns[inds[None:-5:-1]]"
   ]
  },
  {
   "cell_type": "markdown",
   "metadata": {
    "colab": {},
    "colab_type": "code",
    "id": "NcTyUQveXoZ7"
   },
   "source": [
    "## Conclusion"
   ]
  },
  {
   "cell_type": "markdown",
   "metadata": {},
   "source": [
    "**Printing a Table with MAPE values.**"
   ]
  },
  {
   "cell_type": "code",
   "execution_count": 3,
   "metadata": {},
   "outputs": [
    {
     "name": "stdout",
     "output_type": "stream",
     "text": [
      "+-------------------+-------------------------------------------------------+------------+-----------+\n",
      "|       Model       |                    hyper-parameters                   | Train MAPE | Test MAPE |\n",
      "+-------------------+-------------------------------------------------------+------------+-----------+\n",
      "| Linear Regression |                          None                         | 12.5306 %  | 11.9048 % |\n",
      "|   Random Forest   |         n_estimators: 250, min_sample_slit: 4         |  4.894 %   | 11.7147 % |\n",
      "|   Random Forest   |            n_estimators: 40, max_depth: 20            |  9.0845 %  |  11.726 % |\n",
      "|   Random Forest   |  n_estimators: 41, max_depth: 5, min_sample_split: 2  | 12.7756 %  |  12.093 % |\n",
      "|      XGBoost      |            n_estimators: 1000, max_depth: 3           | 12.1504 %  | 11.7317 % |\n",
      "|      XGBoost      |            n_estimators: 500, max_depth: 8            | 11.3514 %  | 11.6685 % |\n",
      "|      XGBoost      | n_estimators: 55, max_depth: 5, learning_rate: 0.1865 | 12.3426 %  | 11.8109 % |\n",
      "+-------------------+-------------------------------------------------------+------------+-----------+\n"
     ]
    }
   ],
   "source": [
    "from prettytable import PrettyTable\n",
    "table = PrettyTable()\n",
    "\n",
    "table.field_names = ['Model', 'hyper-parameters', 'Train MAPE', 'Test MAPE']\n",
    "table.add_row(['Linear Regression', 'None', '12.5306 %', '11.9048 %'])\n",
    "table.add_row(['Random Forest', 'n_estimators: 250, min_sample_slit: 4', '4.894 %', '11.7147 %'])\n",
    "table.add_row(['Random Forest', 'n_estimators: 40, max_depth: 20', '9.0845 %', '11.726 %'])\n",
    "table.add_row(['Random Forest', 'n_estimators: 41, max_depth: 5, min_sample_split: 2', '12.7756 %', '12.093 %'])\n",
    "table.add_row(['XGBoost', 'n_estimators: 1000, max_depth: 3', '12.1504 %', '11.7317 %'])\n",
    "table.add_row(['XGBoost', 'n_estimators: 500, max_depth: 8', '11.3514 %', '11.6685 %'])\n",
    "table.add_row(['XGBoost', 'n_estimators: 55, max_depth: 5, learning_rate: 0.1865', '12.3426 %', '11.8109 %'])\n",
    "\n",
    "print(table)"
   ]
  },
  {
   "cell_type": "markdown",
   "metadata": {},
   "source": [
    "**In above models, sklearn's LinearRegression doesnt have any hyper-parameters to tune so there are None. For Random Forest, remaining hyper-parameters which are not mentioned here are default values of the sklearn's Random Forest. For XGBoost, remaining hyper-parameters which are not mentioned here are taken from the original notebook's XGBoost model. Hyper-parameters of third Random Forest model and XGBoost model are tuned using sklearn's RandomSearchCV.**"
   ]
  },
  {
   "cell_type": "markdown",
   "metadata": {},
   "source": [
    "**Conclusion:**\n",
    "- **Among all models XGBoost with n_estimators: 500 and max_depth: 8 gave very good results. And also Random Forest model with n_estimators: 40 and max_depth: 20 gave good results.**\n",
    "- **The training data is one-hot encoded before passing it to Linear regression model as the cluster centers and weekday are not linearly dependent on the output i.e. number of cabs booked. For tree based models encoding is not done as they can handle non-linear relation between input and output and also tree based models will not perform good with high-dimentional data and sparse data.**\n",
    "- **Random Forest models for which max-depth is not tuned are overfitting a lot.**\n",
    "- **When important features abserved in both Random forest and XGBoost exponential moving average output and previous 10-min intervals data seems to be very important. And in XGBoost we can see latitude data and longitude data and a fourier data (amplitude of highest frequency) seems to be important. Below I print top features for both models.**"
   ]
  },
  {
   "cell_type": "markdown",
   "metadata": {},
   "source": [
    "**Important features for Random Forest: ['exp_avg', 'ft_1', 'ft_4', 'ft_3', 'ft_2', 'ft_5']**\n",
    "\n",
    "**Important features for XGBoost: ['exp_avg', 'ft_1', 'ft_2', 'ft_3', 'ft_5', 'lon', 'ft_4', 'amp_0', 'lat']**"
   ]
  },
  {
   "cell_type": "code",
   "execution_count": null,
   "metadata": {},
   "outputs": [],
   "source": []
  }
 ],
 "metadata": {
  "accelerator": "GPU",
  "colab": {
   "collapsed_sections": [],
   "name": "Copy of NYC Final.ipynb",
   "provenance": [],
   "version": "0.3.2"
  },
  "kernelspec": {
   "display_name": "Python 3",
   "language": "python",
   "name": "python3"
  },
  "language_info": {
   "codemirror_mode": {
    "name": "ipython",
    "version": 3
   },
   "file_extension": ".py",
   "mimetype": "text/x-python",
   "name": "python",
   "nbconvert_exporter": "python",
   "pygments_lexer": "ipython3",
   "version": "3.6.5"
  }
 },
 "nbformat": 4,
 "nbformat_minor": 1
}
